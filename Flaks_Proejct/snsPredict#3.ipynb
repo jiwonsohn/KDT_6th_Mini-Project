{
 "cells": [
  {
   "cell_type": "markdown",
   "metadata": {},
   "source": [
    "### 저장된 모델 로드 & 활용\n",
    "- 모델 파일 종류\t\n",
    "\t* 가중치 및 절편 저장 파일\t=> 동일한 구조의 모델 인스턴스 생성 필요\n",
    "\t* 모델 전체 저장 파일\t\t=> 바로 로딩 후 사용 가능"
   ]
  },
  {
   "cell_type": "markdown",
   "metadata": {},
   "source": [
    "[1] 모듈로딩 <hr>"
   ]
  },
  {
   "cell_type": "code",
   "execution_count": 1,
   "metadata": {},
   "outputs": [],
   "source": [
    "# 모듈 로딩\n",
    "# - Model 실행 관련\n",
    "import torch              \n",
    "import torch.nn as nn              \n",
    "import torch.nn.functional as F \n",
    "from torchinfo import summary \n",
    "\n",
    "# - 그 외\n",
    "from flask_utils import *\n",
    "import os\n",
    "import pickle"
   ]
  },
  {
   "cell_type": "code",
   "execution_count": 2,
   "metadata": {},
   "outputs": [],
   "source": [
    "## 모델 파일 관련\n",
    "# 모델 파일 저장\n",
    "import os\n",
    "\n",
    "# 저장경로\n",
    "SAVE_PATH= r'C:\\Users\\KDP-43\\Desktop\\Flask_Project\\models'\n",
    "\n",
    "# 저장 파일명\n",
    "# SAVE_MODEL = SAVE_PATH+'\\model_num_loss(1.1301)_score(0.6264).pth'\n",
    "SAVE_MODEL = SAVE_PATH+'\\model_num_loss(0.3344)_score(0.8260).pth'\n"
   ]
  },
  {
   "cell_type": "markdown",
   "metadata": {},
   "source": [
    "[2] 모델 로딩 - 모델 전체 파일 사용"
   ]
  },
  {
   "cell_type": "code",
   "execution_count": 3,
   "metadata": {},
   "outputs": [],
   "source": [
    "if os.path.exists(SAVE_MODEL):\n",
    "\tModel = torch.load(SAVE_MODEL, weights_only=False)\n",
    "else:\n",
    "\tprint(f'{SAVE_MODEL} 파일이 존재하지 않습니다. 다시 확인하세요.')"
   ]
  },
  {
   "cell_type": "code",
   "execution_count": 4,
   "metadata": {},
   "outputs": [
    {
     "data": {
      "text/plain": [
       "=================================================================\n",
       "Layer (type:depth-idx)                   Param #\n",
       "=================================================================\n",
       "SentenceClassifier                       --\n",
       "├─Embedding: 1-1                         640,256\n",
       "├─GRU: 1-2                               7,872\n",
       "├─Linear: 1-3                            17\n",
       "├─Dropout: 1-4                           --\n",
       "=================================================================\n",
       "Total params: 648,145\n",
       "Trainable params: 648,145\n",
       "Non-trainable params: 0\n",
       "================================================================="
      ]
     },
     "execution_count": 4,
     "metadata": {},
     "output_type": "execute_result"
    }
   ],
   "source": [
    "summary(Model)"
   ]
  },
  {
   "cell_type": "markdown",
   "metadata": {},
   "source": [
    "[3] 예측 <hr>"
   ]
  },
  {
   "cell_type": "code",
   "execution_count": 5,
   "metadata": {},
   "outputs": [],
   "source": [
    "STOP_FILE = './kor_stopwordsVer2.txt'\n",
    "VOCAB_FILE = './pet_vocab.pkl'\n",
    "max_length = 20"
   ]
  },
  {
   "cell_type": "code",
   "execution_count": 6,
   "metadata": {},
   "outputs": [
    {
     "name": "stdout",
     "output_type": "stream",
     "text": [
      "단어 사전이 불러와졌습니다.\n",
      "('반려동물 대화가 아닙니다.', 0.10930106043815613)\n"
     ]
    }
   ],
   "source": [
    "# 식음료 대화\n",
    "data = \"아니 나는 조금 전에 먹은 거는 점심이야!\"\n",
    "result = snsPredict(mymodel=Model,texts=data, STOP_FILE=STOP_FILE, VOCAB_FILE=VOCAB_FILE, max_length=max_length)\n",
    "print(result)"
   ]
  },
  {
   "cell_type": "code",
   "execution_count": 7,
   "metadata": {},
   "outputs": [
    {
     "name": "stdout",
     "output_type": "stream",
     "text": [
      "단어 사전이 불러와졌습니다.\n",
      "('반려동물 대화입니다.', 0.9995812773704529)\n"
     ]
    }
   ],
   "source": [
    "# 반려동물 대화\n",
    "data = \"아 좋다 물고기는 괜찮은 거 같아\"\n",
    "result = snsPredict(Model,data, STOP_FILE, VOCAB_FILE, max_length)\n",
    "print(result)"
   ]
  },
  {
   "cell_type": "code",
   "execution_count": null,
   "metadata": {},
   "outputs": [],
   "source": []
  },
  {
   "cell_type": "code",
   "execution_count": 10,
   "metadata": {},
   "outputs": [],
   "source": [
    "\n",
    "SAVE_PATH= r'C:\\Users\\KDP-43\\Desktop\\Flask_Project\\models\\valid_best'\n",
    "SAVE_MODEL = SAVE_PATH+'\\model_num_loss(0.3613)_score(0.7967).pth'"
   ]
  },
  {
   "cell_type": "code",
   "execution_count": 11,
   "metadata": {},
   "outputs": [],
   "source": [
    "if os.path.exists(SAVE_MODEL):\n",
    "\tModel = torch.load(SAVE_MODEL, weights_only=False)\n",
    "else:\n",
    "\tprint(f'{SAVE_MODEL} 파일이 존재하지 않습니다. 다시 확인하세요.')"
   ]
  },
  {
   "cell_type": "code",
   "execution_count": 12,
   "metadata": {},
   "outputs": [
    {
     "name": "stdout",
     "output_type": "stream",
     "text": [
      "단어 사전이 불러와졌습니다.\n",
      "('반려동물 대화가 아닙니다.', 0.0028094330336898565)\n"
     ]
    }
   ],
   "source": [
    "# 반려동물 대화\n",
    "data = \"아 좋다 물고기는 괜찮은 거 같아\"\n",
    "result = snsPredict(Model,data, STOP_FILE, VOCAB_FILE, max_length)\n",
    "print(result)"
   ]
  },
  {
   "cell_type": "code",
   "execution_count": 13,
   "metadata": {},
   "outputs": [
    {
     "name": "stdout",
     "output_type": "stream",
     "text": [
      "단어 사전이 불러와졌습니다.\n",
      "('반려동물 대화가 아닙니다.', 0.4604557156562805)\n"
     ]
    }
   ],
   "source": [
    "# 군대 대화 \n",
    "data = \"진짜 나중에 아들 낳으면 꽁꽁 숨겨 놔야지 안되겠어\"\n",
    "result = snsPredict(mymodel=Model,texts=data, STOP_FILE=STOP_FILE, VOCAB_FILE=VOCAB_FILE, max_length=max_length)\n",
    "print(result)"
   ]
  },
  {
   "cell_type": "code",
   "execution_count": null,
   "metadata": {},
   "outputs": [],
   "source": []
  }
 ],
 "metadata": {
  "kernelspec": {
   "display_name": "TEXT_018_230_38",
   "language": "python",
   "name": "python3"
  },
  "language_info": {
   "codemirror_mode": {
    "name": "ipython",
    "version": 3
   },
   "file_extension": ".py",
   "mimetype": "text/x-python",
   "name": "python",
   "nbconvert_exporter": "python",
   "pygments_lexer": "ipython3",
   "version": "3.8.19"
  }
 },
 "nbformat": 4,
 "nbformat_minor": 2
}

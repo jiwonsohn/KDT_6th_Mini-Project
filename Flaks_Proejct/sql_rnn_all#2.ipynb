{
 "cells": [
  {
   "cell_type": "code",
   "execution_count": 1,
   "metadata": {},
   "outputs": [],
   "source": [
    "# 모듈 로딩\n",
    "# 토큰화 & 형태소 분석 모듈 ----------------------------------\n",
    "from konlpy.tag import Okt\n",
    "from collections import Counter\n",
    "\n",
    "# 파이토치 모듈 ----------------------------------------------\n",
    "import torch\n",
    "import torch.nn as nn\n",
    "from torch.utils.data import TensorDataset, DataLoader\n",
    "from torch import optim\n",
    "from torchmetrics.classification import MulticlassF1Score\n",
    "import torch.optim.lr_scheduler as lr_scheduler\n",
    "from torchmetrics.classification import BinaryAccuracy\n",
    "\n",
    "# 데이터 전처리 & 로드 모듈 -----------------------------------\n",
    "import re\n",
    "import os\n",
    "import pandas as pd\n",
    "import numpy as np\n",
    "import time\n",
    "import matplotlib.pyplot as plt\n",
    "\n",
    "# mysql -----------------------------------\n",
    "import pymysql\n",
    "\n",
    "# 개인 정리 모듈 \n",
    "from flask_utils import *"
   ]
  },
  {
   "cell_type": "code",
   "execution_count": 2,
   "metadata": {},
   "outputs": [
    {
     "name": "stderr",
     "output_type": "stream",
     "text": [
      "C:\\Users\\KDP-43\\AppData\\Local\\Temp\\ipykernel_11048\\4180556231.py:13: UserWarning: pandas only supports SQLAlchemy connectable (engine/connection) or database string URI or sqlite3 DBAPI2 connection. Other DBAPI2 objects are not tested. Please consider using SQLAlchemy.\n",
      "  df_pet = pd.read_sql(query, connection)\n",
      "C:\\Users\\KDP-43\\AppData\\Local\\Temp\\ipykernel_11048\\4180556231.py:16: UserWarning: pandas only supports SQLAlchemy connectable (engine/connection) or database string URI or sqlite3 DBAPI2 connection. Other DBAPI2 objects are not tested. Please consider using SQLAlchemy.\n",
      "  df_army = pd.read_sql(query, connection)\n"
     ]
    }
   ],
   "source": [
    "# MySQL 연결 설정\n",
    "connection = pymysql.connect(\n",
    "    host= '172.20.60.151',      # MySQL 서버 주소\n",
    "    user='jiwon',  \n",
    "    password='1234',  \n",
    "    db='web_project'\n",
    ")\n",
    "\n",
    "try:\n",
    "    query = \"SELECT id,category,text FROM pet\"  \n",
    "    df_pet = pd.read_sql(query, connection)\n",
    "    \n",
    "    query = \"SELECT id,category,text FROM military\"  \n",
    "    df_army = pd.read_sql(query, connection)\n",
    "\n",
    "finally:\n",
    "    # 연결 종료\n",
    "    connection.close()"
   ]
  },
  {
   "cell_type": "code",
   "execution_count": 3,
   "metadata": {},
   "outputs": [
    {
     "data": {
      "text/html": [
       "<div>\n",
       "<style scoped>\n",
       "    .dataframe tbody tr th:only-of-type {\n",
       "        vertical-align: middle;\n",
       "    }\n",
       "\n",
       "    .dataframe tbody tr th {\n",
       "        vertical-align: top;\n",
       "    }\n",
       "\n",
       "    .dataframe thead th {\n",
       "        text-align: right;\n",
       "    }\n",
       "</style>\n",
       "<table border=\"1\" class=\"dataframe\">\n",
       "  <thead>\n",
       "    <tr style=\"text-align: right;\">\n",
       "      <th></th>\n",
       "      <th>id</th>\n",
       "      <th>category</th>\n",
       "      <th>text</th>\n",
       "    </tr>\n",
       "  </thead>\n",
       "  <tbody>\n",
       "    <tr>\n",
       "      <th>0</th>\n",
       "      <td>0</td>\n",
       "      <td>반려동물</td>\n",
       "      <td>동물 키워도 털 하나 안 날릴 자신 있어</td>\n",
       "    </tr>\n",
       "    <tr>\n",
       "      <th>1</th>\n",
       "      <td>1</td>\n",
       "      <td>반려동물</td>\n",
       "      <td>동물 털 들어간 애 들 안 키운다고 안 받아 나로 충분해</td>\n",
       "    </tr>\n",
       "    <tr>\n",
       "      <th>2</th>\n",
       "      <td>2</td>\n",
       "      <td>반려동물</td>\n",
       "      <td>말티 푸 말티 푸 말티 푸 너무 너무 너무 너무 키우고 싶어 진짜루</td>\n",
       "    </tr>\n",
       "    <tr>\n",
       "      <th>3</th>\n",
       "      <td>3</td>\n",
       "      <td>반려동물</td>\n",
       "      <td>하긴 운 털 많이 날리 기는 하는데</td>\n",
       "    </tr>\n",
       "    <tr>\n",
       "      <th>4</th>\n",
       "      <td>4</td>\n",
       "      <td>반려동물</td>\n",
       "      <td>날리는 게 아니라 다리 털 많아서 한 거야</td>\n",
       "    </tr>\n",
       "  </tbody>\n",
       "</table>\n",
       "</div>"
      ],
      "text/plain": [
       "   id category                                   text\n",
       "0   0     반려동물                 동물 키워도 털 하나 안 날릴 자신 있어\n",
       "1   1     반려동물        동물 털 들어간 애 들 안 키운다고 안 받아 나로 충분해\n",
       "2   2     반려동물  말티 푸 말티 푸 말티 푸 너무 너무 너무 너무 키우고 싶어 진짜루\n",
       "3   3     반려동물                    하긴 운 털 많이 날리 기는 하는데\n",
       "4   4     반려동물                날리는 게 아니라 다리 털 많아서 한 거야"
      ]
     },
     "execution_count": 3,
     "metadata": {},
     "output_type": "execute_result"
    }
   ],
   "source": [
    "df_pet.head(5)"
   ]
  },
  {
   "cell_type": "code",
   "execution_count": 4,
   "metadata": {},
   "outputs": [
    {
     "data": {
      "text/html": [
       "<div>\n",
       "<style scoped>\n",
       "    .dataframe tbody tr th:only-of-type {\n",
       "        vertical-align: middle;\n",
       "    }\n",
       "\n",
       "    .dataframe tbody tr th {\n",
       "        vertical-align: top;\n",
       "    }\n",
       "\n",
       "    .dataframe thead th {\n",
       "        text-align: right;\n",
       "    }\n",
       "</style>\n",
       "<table border=\"1\" class=\"dataframe\">\n",
       "  <thead>\n",
       "    <tr style=\"text-align: right;\">\n",
       "      <th></th>\n",
       "      <th>id</th>\n",
       "      <th>category</th>\n",
       "      <th>text</th>\n",
       "    </tr>\n",
       "  </thead>\n",
       "  <tbody>\n",
       "    <tr>\n",
       "      <th>0</th>\n",
       "      <td>0</td>\n",
       "      <td>군대</td>\n",
       "      <td>군인 들 은 산재 처리 되나</td>\n",
       "    </tr>\n",
       "    <tr>\n",
       "      <th>1</th>\n",
       "      <td>1</td>\n",
       "      <td>군대</td>\n",
       "      <td>엄청 많이 다치잖아</td>\n",
       "    </tr>\n",
       "    <tr>\n",
       "      <th>2</th>\n",
       "      <td>2</td>\n",
       "      <td>군대</td>\n",
       "      <td>군인 들 은 나라 사랑 카드 발급 받으면 최대 만원 까지 보험 처리 되는데 죽어야 ...</td>\n",
       "    </tr>\n",
       "    <tr>\n",
       "      <th>3</th>\n",
       "      <td>3</td>\n",
       "      <td>군대</td>\n",
       "      <td>군인 산재 어딨냐 걍 국군 병원 고고 지</td>\n",
       "    </tr>\n",
       "    <tr>\n",
       "      <th>4</th>\n",
       "      <td>4</td>\n",
       "      <td>군대</td>\n",
       "      <td>죽어야 나중 아들 낳으면 꽁꽁 숨겨 놔야지 안되겠어</td>\n",
       "    </tr>\n",
       "  </tbody>\n",
       "</table>\n",
       "</div>"
      ],
      "text/plain": [
       "   id category                                               text\n",
       "0   0       군대                                    군인 들 은 산재 처리 되나\n",
       "1   1       군대                                         엄청 많이 다치잖아\n",
       "2   2       군대  군인 들 은 나라 사랑 카드 발급 받으면 최대 만원 까지 보험 처리 되는데 죽어야 ...\n",
       "3   3       군대                             군인 산재 어딨냐 걍 국군 병원 고고 지\n",
       "4   4       군대                       죽어야 나중 아들 낳으면 꽁꽁 숨겨 놔야지 안되겠어"
      ]
     },
     "execution_count": 4,
     "metadata": {},
     "output_type": "execute_result"
    }
   ],
   "source": [
    "df_army.head(5)"
   ]
  },
  {
   "cell_type": "code",
   "execution_count": 5,
   "metadata": {},
   "outputs": [
    {
     "data": {
      "text/plain": [
       "category\n",
       "군대      55017\n",
       "반려동물    53225\n",
       "Name: count, dtype: int64"
      ]
     },
     "execution_count": 5,
     "metadata": {},
     "output_type": "execute_result"
    }
   ],
   "source": [
    "totDF = pd.concat([df_pet, df_army])\n",
    "totDF['category'].value_counts()"
   ]
  },
  {
   "cell_type": "code",
   "execution_count": 6,
   "metadata": {},
   "outputs": [
    {
     "name": "stdout",
     "output_type": "stream",
     "text": [
      "<class 'pandas.core.frame.DataFrame'>\n",
      "Index: 108242 entries, 0 to 55016\n",
      "Data columns (total 4 columns):\n",
      " #   Column    Non-Null Count   Dtype \n",
      "---  ------    --------------   ----- \n",
      " 0   id        108242 non-null  int64 \n",
      " 1   category  108242 non-null  object\n",
      " 2   text      108242 non-null  object\n",
      " 3   label     108242 non-null  int64 \n",
      "dtypes: int64(2), object(2)\n",
      "memory usage: 4.1+ MB\n"
     ]
    }
   ],
   "source": [
    "totDF['label'] = totDF['category'].apply(\n",
    "    lambda x: int(1) if x=='반려동물' \n",
    "    else int(0) if x == '군대' else 2 )\n",
    "totDF.info()"
   ]
  },
  {
   "cell_type": "code",
   "execution_count": 7,
   "metadata": {},
   "outputs": [
    {
     "name": "stdout",
     "output_type": "stream",
     "text": [
      "Train Data Size: 86594\n",
      "Valid Data Size: 21648\n"
     ]
    }
   ],
   "source": [
    "tmpDF = totDF.copy()\n",
    "tmpDF = tmpDF.reset_index(drop=True)\n",
    "train = tmpDF.sample(frac=0.8, random_state=42)\n",
    "valid = tmpDF.drop(train.index)\n",
    "\n",
    "# 확인\n",
    "print(f\"Train Data Size: {len(train)}\")\n",
    "print(f\"Valid Data Size: {len(valid)}\")"
   ]
  },
  {
   "cell_type": "code",
   "execution_count": 8,
   "metadata": {},
   "outputs": [],
   "source": [
    "# 불용어 처리 데이터 로드\n",
    "STOP_FILE = './kor_stopwordsVer2.txt'\n",
    "\n",
    "kor_stopwords = clean_korStopwords(STOP_FILE)\n",
    "kor_stopwords.append('키키')\n",
    "kor_stopwords.append('는')\n",
    "kor_stopwords.append('은')"
   ]
  },
  {
   "cell_type": "code",
   "execution_count": 9,
   "metadata": {},
   "outputs": [
    {
     "name": "stdout",
     "output_type": "stream",
     "text": [
      "['<pad>', '<unk>', '군대', '안', '거', '강아지', '잘', '고양이', '너무', '많이']\n",
      "5002\n"
     ]
    }
   ],
   "source": [
    "# 토크나이저 인스턴스 생성\n",
    "tokenizer = Okt()\n",
    "\n",
    "# 토큰화\n",
    "train_tokens = [\n",
    "    [token for token in tokenizer.morphs(text) if token not in kor_stopwords] for text in train.text\n",
    "]\n",
    "\n",
    "valid_tokens = [\n",
    "    [token for token in tokenizer.morphs(text) if token not in kor_stopwords] for text in valid.text\n",
    "]\n",
    "\n",
    "vocab = build_vocab(corpus=train_tokens, n_vocab=5000, special_tokens=[\"<pad>\",\"<unk>\"])\n",
    "token_to_id = {token: idx for idx, token in enumerate(vocab)}\n",
    "it_to_token = {idx: token for idx, token in enumerate(vocab)}\n",
    "\n",
    "print(vocab[:10])\n",
    "print(len(vocab))"
   ]
  },
  {
   "cell_type": "code",
   "execution_count": 10,
   "metadata": {},
   "outputs": [
    {
     "name": "stdout",
     "output_type": "stream",
     "text": [
      "단어 사전이 저장되었습니다.\n"
     ]
    }
   ],
   "source": [
    "# 단어 사전 저장\n",
    "import pickle\n",
    "with open('./pet_vocab.pkl', 'wb') as f:\n",
    "\tpickle.dump(token_to_id, f)\n",
    "\n",
    "print(\"단어 사전이 저장되었습니다.\")"
   ]
  },
  {
   "cell_type": "code",
   "execution_count": 11,
   "metadata": {},
   "outputs": [
    {
     "data": {
      "text/plain": [
       "(array([5.4128e+04, 3.0066e+04, 2.1930e+03, 1.6900e+02, 2.8000e+01,\n",
       "        6.0000e+00, 3.0000e+00, 1.0000e+00]),\n",
       " array([ 0.  ,  5.75, 11.5 , 17.25, 23.  , 28.75, 34.5 , 40.25, 46.  ]),\n",
       " <BarContainer object of 8 artists>)"
      ]
     },
     "execution_count": 11,
     "metadata": {},
     "output_type": "execute_result"
    },
    {
     "data": {
      "image/png": "[encoded data removed]",
      "text/plain": [
       "<Figure size 640x480 with 1 Axes>"
      ]
     },
     "metadata": {},
     "output_type": "display_data"
    }
   ],
   "source": [
    "# 패딩 적정 길이 찾기\n",
    "datalen = [len(tokens) for tokens in train_tokens]\n",
    "plt.hist(datalen, bins=8)"
   ]
  },
  {
   "cell_type": "code",
   "execution_count": 12,
   "metadata": {},
   "outputs": [
    {
     "data": {
      "text/plain": [
       "(array([ 3959., 20813., 29356., 18507.,  8225.,  3334.,  1377.,   576.,\n",
       "          240.,   131.]),\n",
       " array([ 0.,  2.,  4.,  6.,  8., 10., 12., 14., 16., 18., 20.]),\n",
       " <BarContainer object of 10 artists>)"
      ]
     },
     "execution_count": 12,
     "metadata": {},
     "output_type": "execute_result"
    },
    {
     "data": {
      "image/png": "[encoded data removed]",
      "text/plain": [
       "<Figure size 640x480 with 1 Axes>"
      ]
     },
     "metadata": {},
     "output_type": "display_data"
    }
   ],
   "source": [
    "datalen = [len(tokens) for tokens in train_tokens]\n",
    "datalen_100 = [len(tokens) for tokens in train_tokens if len(tokens) <= 20 ]\n",
    "plt.hist(datalen_100, bins=10)"
   ]
  },
  {
   "cell_type": "code",
   "execution_count": 13,
   "metadata": {},
   "outputs": [
    {
     "name": "stdout",
     "output_type": "stream",
     "text": [
      "[271 506  17   1   1   4  12   0   0   0   0   0   0   0   0   0   0   0\n",
      "   0   0]\n",
      "[3600  397 3600  397 3600  397    8    8    8    8   62  100    1    0\n",
      "    0    0    0    0    0    0]\n"
     ]
    }
   ],
   "source": [
    "# 정수 인코딩 & 패딩\n",
    "unk_id = token_to_id[\"<unk>\"]\n",
    "\n",
    "train_ids = [\n",
    "\t[token_to_id.get(token, unk_id) for token in review] for review in train_tokens\n",
    "]\n",
    "\n",
    "valid_ids = [\n",
    "\t[token_to_id.get(token, unk_id) for token in review] for review in valid_tokens\n",
    "]\n",
    "\n",
    "max_length = 20\n",
    "pad_id = token_to_id[\"<pad>\"]\n",
    "train_ids = pad_sequences(train_ids, max_length, pad_id)\n",
    "valid_ids = pad_sequences(valid_ids, max_length, pad_id)\n",
    "\n",
    "print(train_ids[0])\n",
    "print(valid_ids[0])"
   ]
  },
  {
   "cell_type": "code",
   "execution_count": 14,
   "metadata": {},
   "outputs": [],
   "source": [
    "# 데이터 로더 적용\n",
    "train_ids = torch.tensor(train_ids)\n",
    "valid_ids = torch.tensor(valid_ids)\n",
    "\n",
    "train_labels = torch.tensor(train.label.values, dtype=torch.float32)\n",
    "valid_labels = torch.tensor(valid.label.values, dtype=torch.float32)\n",
    "\n",
    "train_DS = TensorDataset(train_ids, train_labels)\n",
    "valid_DS = TensorDataset(valid_ids, valid_labels)\n",
    "\n",
    "train_loader = DataLoader(train_DS, batch_size=64, shuffle=True)\n",
    "valid_loader = DataLoader(valid_DS, batch_size=64, shuffle=False)"
   ]
  },
  {
   "cell_type": "code",
   "execution_count": 15,
   "metadata": {},
   "outputs": [
    {
     "name": "stderr",
     "output_type": "stream",
     "text": [
      "c:\\Users\\KDP-43\\anaconda3\\envs\\TEXT_018_230_38\\lib\\site-packages\\torch\\optim\\lr_scheduler.py:28: UserWarning: The verbose parameter is deprecated. Please use get_last_lr() to access the learning rate.\n",
      "  warnings.warn(\"The verbose parameter is deprecated. Please use get_last_lr() \"\n"
     ]
    }
   ],
   "source": [
    "# 모델 파라미터 정의\n",
    "n_vocab = len(token_to_id)\n",
    "hidden_dim = 8\n",
    "embedding_dim = 128\n",
    "n_layers = 2\n",
    "model_type = \"gru\"\n",
    "\n",
    "pos_weight = torch.FloatTensor([totDF['label'].value_counts()[1] / totDF['label'].value_counts()[0]])\n",
    "device = \"cuda\" if torch.cuda.is_available() else \"cpu\"\n",
    "\n",
    "classifier = SentenceClassifier(\n",
    "    n_vocab=n_vocab, hidden_dim=hidden_dim, embedding_dim=embedding_dim, n_layers=n_layers\n",
    ").to(device)\n",
    "lossFunc = nn.BCEWithLogitsLoss(pos_weight=pos_weight).to(device)\n",
    "optimizer = optim.RMSprop(classifier.parameters(), lr=0.001)\n",
    "scoreFunc = BinaryAccuracy().to(device)\n",
    "scheduler = lr_scheduler.ReduceLROnPlateau(optimizer, mode='max', patience=5, verbose=True) # score 사용 시\n",
    "\n",
    "# optimizer = optim.Adam(classifier.parameters(), lr=0.001\t)"
   ]
  },
  {
   "cell_type": "code",
   "execution_count": 16,
   "metadata": {},
   "outputs": [
    {
     "name": "stdout",
     "output_type": "stream",
     "text": [
      "----------\n",
      "Epoch 1/20\n",
      "----------\n",
      "Epoch 1/20\n",
      "Train Loss: 0.5663 | Train Acc: 0.6583\n",
      "Valid Loss: 0.4133 | Valid Acc: 0.7797\n",
      "scheduler.num_bad_epochs => 0 scheduler.patience => 5\n",
      "----------\n",
      "Epoch 2/20\n",
      "----------\n",
      "Epoch 2/20\n",
      "Train Loss: 0.3872 | Train Acc: 0.8018\n",
      "Valid Loss: 0.3565 | Valid Acc: 0.8051\n",
      "scheduler.num_bad_epochs => 1 scheduler.patience => 5\n",
      "----------\n",
      "Epoch 3/20\n",
      "----------\n",
      "Epoch 3/20\n",
      "Train Loss: 0.3397 | Train Acc: 0.8248\n",
      "Valid Loss: 0.3479 | Valid Acc: 0.8103\n",
      "scheduler.num_bad_epochs => 2 scheduler.patience => 5\n",
      "----------\n",
      "Epoch 4/20\n",
      "----------\n",
      "Epoch 4/20\n",
      "Train Loss: 0.3169 | Train Acc: 0.8361\n",
      "Valid Loss: 0.3307 | Valid Acc: 0.8199\n",
      "scheduler.num_bad_epochs => 3 scheduler.patience => 5\n",
      "----------\n",
      "Epoch 5/20\n",
      "----------\n",
      "Epoch 5/20\n",
      "Train Loss: 0.3030 | Train Acc: 0.8445\n",
      "Valid Loss: 0.3395 | Valid Acc: 0.8103\n",
      "scheduler.num_bad_epochs => 4 scheduler.patience => 5\n",
      "----------\n",
      "Epoch 6/20\n",
      "----------\n",
      "Epoch 6/20\n",
      "Train Loss: 0.2945 | Train Acc: 0.8473\n",
      "Valid Loss: 0.3359 | Valid Acc: 0.8155\n",
      "scheduler.num_bad_epochs => 5 scheduler.patience => 5\n",
      "----------\n",
      "Epoch 7/20\n",
      "----------\n",
      "Epoch 7/20\n",
      "Train Loss: 0.2866 | Train Acc: 0.8529\n",
      "Valid Loss: 0.3280 | Valid Acc: 0.8238\n",
      "scheduler.num_bad_epochs => 0 scheduler.patience => 5\n",
      "----------\n",
      "Epoch 8/20\n",
      "----------\n",
      "Epoch 8/20\n",
      "Train Loss: 0.2709 | Train Acc: 0.8608\n",
      "Valid Loss: 0.3339 | Valid Acc: 0.8251\n",
      "scheduler.num_bad_epochs => 1 scheduler.patience => 5\n",
      "----------\n",
      "Epoch 9/20\n",
      "----------\n",
      "Epoch 9/20\n",
      "Train Loss: 0.2689 | Train Acc: 0.8622\n",
      "Valid Loss: 0.3344 | Valid Acc: 0.8260\n",
      "scheduler.num_bad_epochs => 2 scheduler.patience => 5\n",
      "----------\n",
      "Epoch 10/20\n",
      "----------\n",
      "Epoch 10/20\n",
      "Train Loss: 0.2669 | Train Acc: 0.8640\n",
      "Valid Loss: 0.3365 | Valid Acc: 0.8234\n",
      "scheduler.num_bad_epochs => 3 scheduler.patience => 5\n",
      "----------\n",
      "Epoch 11/20\n",
      "----------\n",
      "Epoch 11/20\n",
      "Train Loss: 0.2654 | Train Acc: 0.8645\n",
      "Valid Loss: 0.3355 | Valid Acc: 0.8251\n",
      "scheduler.num_bad_epochs => 4 scheduler.patience => 5\n",
      "----------\n",
      "Epoch 12/20\n",
      "----------\n",
      "Epoch 12/20\n",
      "Train Loss: 0.2655 | Train Acc: 0.8634\n",
      "Valid Loss: 0.3369 | Valid Acc: 0.8243\n",
      "scheduler.num_bad_epochs => 5 scheduler.patience => 5\n",
      "----------\n",
      "Epoch 13/20\n",
      "----------\n",
      "Epoch 13/20\n",
      "Train Loss: 0.2643 | Train Acc: 0.8650\n",
      "Valid Loss: 0.3365 | Valid Acc: 0.8249\n",
      "scheduler.num_bad_epochs => 0 scheduler.patience => 5\n",
      "----------\n",
      "Epoch 14/20\n",
      "----------\n",
      "Epoch 14/20\n",
      "Train Loss: 0.2623 | Train Acc: 0.8658\n",
      "Valid Loss: 0.3375 | Valid Acc: 0.8251\n",
      "scheduler.num_bad_epochs => 1 scheduler.patience => 5\n",
      "----------\n",
      "Epoch 15/20\n",
      "----------\n",
      "Epoch 15/20\n",
      "Train Loss: 0.2621 | Train Acc: 0.8660\n",
      "Valid Loss: 0.3381 | Valid Acc: 0.8248\n",
      "scheduler.num_bad_epochs => 2 scheduler.patience => 5\n",
      "----------\n",
      "Epoch 16/20\n",
      "----------\n",
      "Epoch 16/20\n",
      "Train Loss: 0.2620 | Train Acc: 0.8673\n",
      "Valid Loss: 0.3383 | Valid Acc: 0.8249\n",
      "scheduler.num_bad_epochs => 3 scheduler.patience => 5\n",
      "----------\n",
      "Epoch 17/20\n",
      "----------\n",
      "Epoch 17/20\n",
      "Train Loss: 0.2623 | Train Acc: 0.8668\n",
      "Valid Loss: 0.3387 | Valid Acc: 0.8247\n",
      "scheduler.num_bad_epochs => 4 scheduler.patience => 5\n",
      "----------\n",
      "Epoch 18/20\n",
      "----------\n",
      "Epoch 18/20\n",
      "Train Loss: 0.2620 | Train Acc: 0.8660\n",
      "Valid Loss: 0.3389 | Valid Acc: 0.8244\n",
      "scheduler.num_bad_epochs => 5 scheduler.patience => 5\n",
      "----------\n",
      "Epoch 19/20\n",
      "----------\n",
      "Epoch 19/20\n",
      "Train Loss: 0.2610 | Train Acc: 0.8669\n",
      "Valid Loss: 0.3391 | Valid Acc: 0.8248\n",
      "scheduler.num_bad_epochs => 0 scheduler.patience => 5\n",
      "----------\n",
      "Epoch 20/20\n",
      "----------\n",
      "Epoch 20/20\n",
      "Train Loss: 0.2612 | Train Acc: 0.8680\n",
      "Valid Loss: 0.3392 | Valid Acc: 0.8247\n",
      "scheduler.num_bad_epochs => 1 scheduler.patience => 5\n",
      "모델 학습 시간: 18분 44초\n"
     ]
    },
    {
     "data": {
      "image/png": "[encoded data removed]",
      "text/plain": [
       "<Figure size 1000x400 with 2 Axes>"
      ]
     },
     "metadata": {},
     "output_type": "display_data"
    }
   ],
   "source": [
    "trainval_Binary(classifier, train_loader, valid_loader, lossFunc, scoreFunc, optimizer, device, scheduler, num_epochs=20)"
   ]
  },
  {
   "cell_type": "code",
   "execution_count": null,
   "metadata": {},
   "outputs": [],
   "source": []
  },
  {
   "cell_type": "code",
   "execution_count": null,
   "metadata": {},
   "outputs": [],
   "source": []
  },
  {
   "cell_type": "code",
   "execution_count": null,
   "metadata": {},
   "outputs": [],
   "source": []
  }
 ],
 "metadata": {
  "kernelspec": {
   "display_name": "TEXT_018_230_38",
   "language": "python",
   "name": "python3"
  },
  "language_info": {
   "codemirror_mode": {
    "name": "ipython",
    "version": 3
   },
   "file_extension": ".py",
   "mimetype": "text/x-python",
   "name": "python",
   "nbconvert_exporter": "python",
   "pygments_lexer": "ipython3",
   "version": "3.8.19"
  }
 },
 "nbformat": 4,
 "nbformat_minor": 2
}

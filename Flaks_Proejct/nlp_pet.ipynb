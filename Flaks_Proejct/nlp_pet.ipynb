{
 "cells": [
  {
   "cell_type": "markdown",
   "metadata": {},
   "source": []
  },
  {
   "cell_type": "code",
   "execution_count": 1,
   "metadata": {},
   "outputs": [],
   "source": [
    "# 토큰화 & 형태소 분석 모듈 ----------------------------------\n",
    "from konlpy.tag import Okt\n",
    "from collections import Counter\n",
    "\n",
    "# 파이토치 모듈 ----------------------------------------------\n",
    "import torch\n",
    "import torch.nn as nn\n",
    "from torch.utils.data import TensorDataset, DataLoader\n",
    "from torch import optim\n",
    "from torchmetrics.classification import MulticlassF1Score\n",
    "import torch.optim.lr_scheduler as lr_scheduler\n",
    "from torchmetrics.classification import BinaryAccuracy\n",
    "\n",
    "# 데이터 전처리 & 로드 모듈 -----------------------------------\n",
    "import re\n",
    "import os\n",
    "import pandas as pd\n",
    "import numpy as np\n",
    "import time\n",
    "\n",
    "import matplotlib.pyplot as plt\n",
    "\n",
    "# 개인 정리 모듈 \n",
    "from flask_utils import *"
   ]
  },
  {
   "cell_type": "code",
   "execution_count": 2,
   "metadata": {},
   "outputs": [
    {
     "data": {
      "text/html": [
       "<div>\n",
       "<style scoped>\n",
       "    .dataframe tbody tr th:only-of-type {\n",
       "        vertical-align: middle;\n",
       "    }\n",
       "\n",
       "    .dataframe tbody tr th {\n",
       "        vertical-align: top;\n",
       "    }\n",
       "\n",
       "    .dataframe thead th {\n",
       "        text-align: right;\n",
       "    }\n",
       "</style>\n",
       "<table border=\"1\" class=\"dataframe\">\n",
       "  <thead>\n",
       "    <tr style=\"text-align: right;\">\n",
       "      <th></th>\n",
       "      <th>category</th>\n",
       "      <th>text</th>\n",
       "    </tr>\n",
       "  </thead>\n",
       "  <tbody>\n",
       "    <tr>\n",
       "      <th>0</th>\n",
       "      <td>반려동물</td>\n",
       "      <td>동물 키워도 털 하나 안 날릴 자신 있어</td>\n",
       "    </tr>\n",
       "    <tr>\n",
       "      <th>1</th>\n",
       "      <td>반려동물</td>\n",
       "      <td>동물 털 들어간 애 들 안 키운다고 안 받아 나로 충분해</td>\n",
       "    </tr>\n",
       "    <tr>\n",
       "      <th>2</th>\n",
       "      <td>반려동물</td>\n",
       "      <td>말티 푸 말티 푸 말티 푸 너무 너무 너무 너무 키우고 싶어 진짜루</td>\n",
       "    </tr>\n",
       "    <tr>\n",
       "      <th>3</th>\n",
       "      <td>반려동물</td>\n",
       "      <td>하긴 운 털 많이 날리 기는 하는데</td>\n",
       "    </tr>\n",
       "    <tr>\n",
       "      <th>4</th>\n",
       "      <td>반려동물</td>\n",
       "      <td>날리는 게 아니라 다리 털 많아서 한 거야</td>\n",
       "    </tr>\n",
       "  </tbody>\n",
       "</table>\n",
       "</div>"
      ],
      "text/plain": [
       "  category                                   text\n",
       "0     반려동물                 동물 키워도 털 하나 안 날릴 자신 있어\n",
       "1     반려동물        동물 털 들어간 애 들 안 키운다고 안 받아 나로 충분해\n",
       "2     반려동물  말티 푸 말티 푸 말티 푸 너무 너무 너무 너무 키우고 싶어 진짜루\n",
       "3     반려동물                    하긴 운 털 많이 날리 기는 하는데\n",
       "4     반려동물                날리는 게 아니라 다리 털 많아서 한 거야"
      ]
     },
     "execution_count": 2,
     "metadata": {},
     "output_type": "execute_result"
    }
   ],
   "source": [
    "target_PATH = r'C:\\Users\\KDP-43\\Desktop\\Flask_Project\\반려동물_clean.csv'\n",
    "false_PATH = r'C:\\Users\\KDP-43\\Desktop\\Flask_Project\\군대_clean.csv'\n",
    "\n",
    "targetDF = pd.read_csv(target_PATH, usecols=['category','text'])\n",
    "falseDF = pd.read_csv(false_PATH, usecols=['category','text'])\n",
    "\n",
    "# # 예외 카테고리 제거\n",
    "# falseDF.drop(falseDF[falseDF['category'] != \"군대\"].index, inplace=True)\n",
    "# falseDF['category'].value_counts()\n",
    "\n",
    "# falseDF.to_csv(\"군대_clean.csv\", encoding='utf-8', index_label='id', index=True, header=True)\n",
    "\n",
    "totDF = pd.concat([targetDF, falseDF])\n",
    "totDF.head(5)"
   ]
  },
  {
   "cell_type": "code",
   "execution_count": 3,
   "metadata": {},
   "outputs": [
    {
     "data": {
      "text/plain": [
       "category\n",
       "군대      54853\n",
       "반려동물    53184\n",
       "Name: count, dtype: int64"
      ]
     },
     "execution_count": 3,
     "metadata": {},
     "output_type": "execute_result"
    }
   ],
   "source": [
    "totDF['category'].value_counts()"
   ]
  },
  {
   "cell_type": "code",
   "execution_count": 4,
   "metadata": {},
   "outputs": [
    {
     "name": "stdout",
     "output_type": "stream",
     "text": [
      "<class 'pandas.core.frame.DataFrame'>\n",
      "Index: 108037 entries, 0 to 54852\n",
      "Data columns (total 3 columns):\n",
      " #   Column    Non-Null Count   Dtype \n",
      "---  ------    --------------   ----- \n",
      " 0   category  108037 non-null  object\n",
      " 1   text      108037 non-null  object\n",
      " 2   label     108037 non-null  int64 \n",
      "dtypes: int64(1), object(2)\n",
      "memory usage: 3.3+ MB\n"
     ]
    }
   ],
   "source": [
    "totDF['label'] = totDF['category'].apply(lambda x: int(1) if x=='반려동물' else int(0) if x == '군대' else 2 )\n",
    "totDF.info()"
   ]
  },
  {
   "cell_type": "code",
   "execution_count": 5,
   "metadata": {},
   "outputs": [
    {
     "data": {
      "text/plain": [
       "label\n",
       "0    54853\n",
       "1    53184\n",
       "Name: count, dtype: int64"
      ]
     },
     "execution_count": 5,
     "metadata": {},
     "output_type": "execute_result"
    }
   ],
   "source": [
    "totDF['label'].value_counts()"
   ]
  },
  {
   "cell_type": "code",
   "execution_count": 6,
   "metadata": {},
   "outputs": [
    {
     "name": "stdout",
     "output_type": "stream",
     "text": [
      "Train Data Size: 86430\n",
      "Valid Data Size: 21607\n"
     ]
    }
   ],
   "source": [
    "tmpDF = totDF.copy()\n",
    "tmpDF = tmpDF.reset_index(drop=True)\n",
    "train = tmpDF.sample(frac=0.8, random_state=42)\n",
    "valid = tmpDF.drop(train.index)\n",
    "\n",
    "# 확인\n",
    "print(f\"Train Data Size: {len(train)}\")\n",
    "print(f\"Valid Data Size: {len(valid)}\")"
   ]
  },
  {
   "cell_type": "code",
   "execution_count": 7,
   "metadata": {},
   "outputs": [],
   "source": [
    "# 불용어 처리 데이터 로드\n",
    "STOP_FILE = './kor_stopwordsVer2.txt'\n",
    "\n",
    "kor_stopwords = clean_korStopwords(STOP_FILE)\n",
    "kor_stopwords.append('키키')\n",
    "kor_stopwords.append('는')\n",
    "kor_stopwords.append('은')"
   ]
  },
  {
   "cell_type": "code",
   "execution_count": 8,
   "metadata": {},
   "outputs": [
    {
     "name": "stdout",
     "output_type": "stream",
     "text": [
      "['<pad>', '<unk>', '군대', '안', '거', '강아지', '잘', '고양이', '많이', '너무']\n",
      "5002\n"
     ]
    }
   ],
   "source": [
    "# 토크나이저 인스턴스 생성\n",
    "tokenizer = Okt()\n",
    "\n",
    "# 토큰화\n",
    "train_tokens = [\n",
    "    [token for token in tokenizer.morphs(text) if token not in kor_stopwords] for text in train.text\n",
    "]\n",
    "\n",
    "valid_tokens = [\n",
    "    [token for token in tokenizer.morphs(text) if token not in kor_stopwords] for text in valid.text\n",
    "]\n",
    "\n",
    "vocab = build_vocab(corpus=train_tokens, n_vocab=5000, special_tokens=[\"<pad>\",\"<unk>\"])\n",
    "token_to_id = {token: idx for idx, token in enumerate(vocab)}\n",
    "it_to_token = {idx: token for idx, token in enumerate(vocab)}\n",
    "\n",
    "print(vocab[:10])\n",
    "print(len(vocab))"
   ]
  },
  {
   "cell_type": "code",
   "execution_count": 9,
   "metadata": {},
   "outputs": [
    {
     "name": "stdout",
     "output_type": "stream",
     "text": [
      "단어 사전이 저장되었습니다.\n"
     ]
    }
   ],
   "source": [
    "# 단어 사전 저장\n",
    "import pickle\n",
    "with open('./pet_vocab.pkl', 'wb') as f:\n",
    "\tpickle.dump(token_to_id, f)\n",
    "\n",
    "print(\"단어 사전이 저장되었습니다.\")"
   ]
  },
  {
   "cell_type": "code",
   "execution_count": 10,
   "metadata": {},
   "outputs": [
    {
     "data": {
      "text/plain": [
       "(array([5.3998e+04, 3.0033e+04, 2.1890e+03, 1.6800e+02, 3.0000e+01,\n",
       "        8.0000e+00, 3.0000e+00, 1.0000e+00]),\n",
       " array([ 0.  ,  5.75, 11.5 , 17.25, 23.  , 28.75, 34.5 , 40.25, 46.  ]),\n",
       " <BarContainer object of 8 artists>)"
      ]
     },
     "execution_count": 10,
     "metadata": {},
     "output_type": "execute_result"
    },
    {
     "data": {
      "image/png": "[encoded data removed]",
      "text/plain": [
       "<Figure size 640x480 with 1 Axes>"
      ]
     },
     "metadata": {},
     "output_type": "display_data"
    }
   ],
   "source": [
    "# 패딩 적정 길이 찾기\n",
    "datalen = [len(tokens) for tokens in train_tokens]\n",
    "plt.hist(datalen, bins=8)"
   ]
  },
  {
   "cell_type": "code",
   "execution_count": 11,
   "metadata": {},
   "outputs": [
    {
     "data": {
      "text/plain": [
       "(array([ 4017., 20707., 29274., 18492.,  8138.,  3403.,  1403.,   559.,\n",
       "          227.,   130.]),\n",
       " array([ 0.,  2.,  4.,  6.,  8., 10., 12., 14., 16., 18., 20.]),\n",
       " <BarContainer object of 10 artists>)"
      ]
     },
     "execution_count": 11,
     "metadata": {},
     "output_type": "execute_result"
    },
    {
     "data": {
      "image/png": "[encoded data removed]",
      "text/plain": [
       "<Figure size 640x480 with 1 Axes>"
      ]
     },
     "metadata": {},
     "output_type": "display_data"
    }
   ],
   "source": [
    "datalen = [len(tokens) for tokens in train_tokens]\n",
    "datalen_100 = [len(tokens) for tokens in train_tokens if len(tokens) <= 20 ]\n",
    "plt.hist(datalen_100, bins=10)"
   ]
  },
  {
   "cell_type": "code",
   "execution_count": 12,
   "metadata": {},
   "outputs": [
    {
     "name": "stdout",
     "output_type": "stream",
     "text": [
      "[ 176  501  244  446 4924  534   35   74   31  589    0    0    0    0\n",
      "    0    0    0    0    0    0]\n",
      "[3619  392 3619  392 3619  392    9    9    9    9   63   97    1    0\n",
      "    0    0    0    0    0    0]\n"
     ]
    }
   ],
   "source": [
    "# 정수 인코딩 & 패딩\n",
    "unk_id = token_to_id[\"<unk>\"]\n",
    "\n",
    "train_ids = [\n",
    "\t[token_to_id.get(token, unk_id) for token in review] for review in train_tokens\n",
    "]\n",
    "\n",
    "valid_ids = [\n",
    "\t[token_to_id.get(token, unk_id) for token in review] for review in valid_tokens\n",
    "]\n",
    "\n",
    "max_length = 20\n",
    "pad_id = token_to_id[\"<pad>\"]\n",
    "train_ids = pad_sequences(train_ids, max_length, pad_id)\n",
    "valid_ids = pad_sequences(valid_ids, max_length, pad_id)\n",
    "\n",
    "print(train_ids[0])\n",
    "print(valid_ids[0])"
   ]
  },
  {
   "cell_type": "code",
   "execution_count": 13,
   "metadata": {},
   "outputs": [],
   "source": [
    "# 데이터 로더 적용\n",
    "train_ids = torch.tensor(train_ids)\n",
    "valid_ids = torch.tensor(valid_ids)\n",
    "\n",
    "train_labels = torch.tensor(train.label.values, dtype=torch.float32)\n",
    "valid_labels = torch.tensor(valid.label.values, dtype=torch.float32)\n",
    "\n",
    "train_DS = TensorDataset(train_ids, train_labels)\n",
    "valid_DS = TensorDataset(valid_ids, valid_labels)\n",
    "\n",
    "train_loader = DataLoader(train_DS, batch_size=64, shuffle=True)\n",
    "valid_loader = DataLoader(valid_DS, batch_size=64, shuffle=False)"
   ]
  },
  {
   "cell_type": "code",
   "execution_count": 14,
   "metadata": {},
   "outputs": [
    {
     "data": {
      "text/plain": [
       "5002"
      ]
     },
     "execution_count": 14,
     "metadata": {},
     "output_type": "execute_result"
    }
   ],
   "source": [
    "len(token_to_id)"
   ]
  },
  {
   "cell_type": "code",
   "execution_count": 15,
   "metadata": {},
   "outputs": [
    {
     "name": "stderr",
     "output_type": "stream",
     "text": [
      "c:\\Users\\KDP-43\\anaconda3\\envs\\TEXT_018_230_38\\lib\\site-packages\\torch\\optim\\lr_scheduler.py:28: UserWarning: The verbose parameter is deprecated. Please use get_last_lr() to access the learning rate.\n",
      "  warnings.warn(\"The verbose parameter is deprecated. Please use get_last_lr() \"\n"
     ]
    }
   ],
   "source": [
    "# 모델 파라미터 정의\n",
    "n_vocab = len(token_to_id)\n",
    "hidden_dim = 8\n",
    "embedding_dim = 128\n",
    "n_layers = 2\n",
    "model_type = \"gru\"\n",
    "\n",
    "pos_weight = torch.FloatTensor([totDF['label'].value_counts()[1] / totDF['label'].value_counts()[0]])\n",
    "\n",
    "device = \"cuda\" if torch.cuda.is_available() else \"cpu\"\n",
    "\n",
    "classifier = SentenceClassifier(\n",
    "    n_vocab=n_vocab, hidden_dim=hidden_dim, embedding_dim=embedding_dim, n_layers=n_layers\n",
    ").to(device)\n",
    "\n",
    "lossFunc = nn.BCEWithLogitsLoss(pos_weight=pos_weight).to(device)\n",
    "# optimizer = optim.RMSprop(classifier.parameters(), lr=0.001)\n",
    "optimizer = optim.Adam(classifier.parameters(), lr=0.01\t)\n",
    "scoreFunc = BinaryAccuracy().to(device)\n",
    "\n",
    "scheduler = lr_scheduler.ReduceLROnPlateau(optimizer, mode='max', patience=8, verbose=True) # score 사용 시"
   ]
  },
  {
   "cell_type": "code",
   "execution_count": 16,
   "metadata": {},
   "outputs": [
    {
     "name": "stdout",
     "output_type": "stream",
     "text": [
      "----------\n",
      "Epoch 1/30\n",
      "----------\n",
      "Epoch 1/30\n",
      "Train Loss: 0.6246 | Train Acc: 0.5983\n",
      "Valid Loss: 0.4720 | Valid Acc: 0.7332\n",
      "scheduler.num_bad_epochs => 0 scheduler.patience => 8\n",
      "----------\n",
      "Epoch 2/30\n",
      "----------\n",
      "Epoch 2/30\n",
      "Train Loss: 0.4618 | Train Acc: 0.7481\n",
      "Valid Loss: 0.4318 | Valid Acc: 0.7707\n",
      "scheduler.num_bad_epochs => 1 scheduler.patience => 8\n",
      "----------\n",
      "Epoch 3/30\n",
      "----------\n",
      "Epoch 3/30\n",
      "Train Loss: 0.4326 | Train Acc: 0.7670\n",
      "Valid Loss: 0.4225 | Valid Acc: 0.7584\n",
      "scheduler.num_bad_epochs => 2 scheduler.patience => 8\n",
      "----------\n",
      "Epoch 4/30\n",
      "----------\n",
      "Epoch 4/30\n",
      "Train Loss: 0.4173 | Train Acc: 0.7774\n",
      "Valid Loss: 0.4108 | Valid Acc: 0.7763\n",
      "scheduler.num_bad_epochs => 3 scheduler.patience => 8\n",
      "----------\n",
      "Epoch 5/30\n",
      "----------\n",
      "Epoch 5/30\n",
      "Train Loss: 0.4102 | Train Acc: 0.7832\n",
      "Valid Loss: 0.4019 | Valid Acc: 0.7776\n",
      "scheduler.num_bad_epochs => 4 scheduler.patience => 8\n",
      "----------\n",
      "Epoch 6/30\n",
      "----------\n",
      "Epoch 6/30\n",
      "Train Loss: 0.4048 | Train Acc: 0.7853\n",
      "Valid Loss: 0.4092 | Valid Acc: 0.7812\n",
      "scheduler.num_bad_epochs => 5 scheduler.patience => 8\n",
      "----------\n",
      "Epoch 7/30\n",
      "----------\n",
      "Epoch 7/30\n",
      "Train Loss: 0.4001 | Train Acc: 0.7870\n",
      "Valid Loss: 0.3968 | Valid Acc: 0.7872\n",
      "scheduler.num_bad_epochs => 6 scheduler.patience => 8\n",
      "----------\n",
      "Epoch 8/30\n",
      "----------\n",
      "Epoch 8/30\n",
      "Train Loss: 0.3924 | Train Acc: 0.7952\n",
      "Valid Loss: 0.3909 | Valid Acc: 0.7905\n",
      "scheduler.num_bad_epochs => 7 scheduler.patience => 8\n",
      "----------\n",
      "Epoch 9/30\n",
      "----------\n",
      "Epoch 9/30\n",
      "Train Loss: 0.3901 | Train Acc: 0.7928\n",
      "Valid Loss: 0.3937 | Valid Acc: 0.7888\n",
      "scheduler.num_bad_epochs => 8 scheduler.patience => 8\n",
      "----------\n",
      "Epoch 10/30\n",
      "----------\n",
      "Epoch 10/30\n",
      "Train Loss: 0.3874 | Train Acc: 0.7950\n",
      "Valid Loss: 0.3918 | Valid Acc: 0.7861\n",
      "scheduler.num_bad_epochs => 0 scheduler.patience => 8\n",
      "----------\n",
      "Epoch 11/30\n",
      "----------\n",
      "Epoch 11/30\n",
      "Train Loss: 0.3764 | Train Acc: 0.8035\n",
      "Valid Loss: 0.3816 | Valid Acc: 0.7928\n",
      "scheduler.num_bad_epochs => 1 scheduler.patience => 8\n",
      "----------\n",
      "Epoch 12/30\n",
      "----------\n",
      "Epoch 12/30\n",
      "Train Loss: 0.3743 | Train Acc: 0.8039\n",
      "Valid Loss: 0.3832 | Valid Acc: 0.7928\n",
      "scheduler.num_bad_epochs => 2 scheduler.patience => 8\n",
      "----------\n",
      "Epoch 13/30\n",
      "----------\n",
      "Epoch 13/30\n",
      "Train Loss: 0.3711 | Train Acc: 0.8060\n",
      "Valid Loss: 0.3803 | Valid Acc: 0.7930\n",
      "scheduler.num_bad_epochs => 3 scheduler.patience => 8\n",
      "----------\n",
      "Epoch 14/30\n",
      "----------\n",
      "Epoch 14/30\n",
      "Train Loss: 0.3691 | Train Acc: 0.8064\n",
      "Valid Loss: 0.3800 | Valid Acc: 0.7944\n",
      "scheduler.num_bad_epochs => 4 scheduler.patience => 8\n",
      "----------\n",
      "Epoch 15/30\n",
      "----------\n",
      "Epoch 15/30\n",
      "Train Loss: 0.3679 | Train Acc: 0.8081\n",
      "Valid Loss: 0.3790 | Valid Acc: 0.7942\n",
      "scheduler.num_bad_epochs => 5 scheduler.patience => 8\n",
      "----------\n",
      "Epoch 16/30\n",
      "----------\n",
      "Epoch 16/30\n",
      "Train Loss: 0.3663 | Train Acc: 0.8081\n",
      "Valid Loss: 0.3777 | Valid Acc: 0.7958\n",
      "scheduler.num_bad_epochs => 6 scheduler.patience => 8\n",
      "----------\n",
      "Epoch 17/30\n",
      "----------\n",
      "Epoch 17/30\n",
      "Train Loss: 0.3639 | Train Acc: 0.8106\n",
      "Valid Loss: 0.3753 | Valid Acc: 0.7971\n",
      "scheduler.num_bad_epochs => 7 scheduler.patience => 8\n",
      "----------\n",
      "Epoch 18/30\n",
      "----------\n",
      "Epoch 18/30\n",
      "Train Loss: 0.3624 | Train Acc: 0.8103\n",
      "Valid Loss: 0.3792 | Valid Acc: 0.7975\n",
      "scheduler.num_bad_epochs => 8 scheduler.patience => 8\n",
      "----------\n",
      "Epoch 19/30\n",
      "----------\n",
      "Epoch 19/30\n",
      "Train Loss: 0.3616 | Train Acc: 0.8113\n",
      "Valid Loss: 0.3769 | Valid Acc: 0.7985\n",
      "scheduler.num_bad_epochs => 0 scheduler.patience => 8\n",
      "----------\n",
      "Epoch 20/30\n",
      "----------\n",
      "Epoch 20/30\n",
      "Train Loss: 0.3600 | Train Acc: 0.8127\n",
      "Valid Loss: 0.3765 | Valid Acc: 0.7981\n",
      "scheduler.num_bad_epochs => 1 scheduler.patience => 8\n",
      "----------\n",
      "Epoch 21/30\n",
      "----------\n",
      "Epoch 21/30\n",
      "Train Loss: 0.3598 | Train Acc: 0.8114\n",
      "Valid Loss: 0.3764 | Valid Acc: 0.7979\n",
      "scheduler.num_bad_epochs => 2 scheduler.patience => 8\n",
      "----------\n",
      "Epoch 22/30\n",
      "----------\n",
      "Epoch 22/30\n",
      "Train Loss: 0.3600 | Train Acc: 0.8125\n",
      "Valid Loss: 0.3764 | Valid Acc: 0.7990\n",
      "scheduler.num_bad_epochs => 3 scheduler.patience => 8\n",
      "----------\n",
      "Epoch 23/30\n",
      "----------\n",
      "Epoch 23/30\n",
      "Train Loss: 0.3589 | Train Acc: 0.8140\n",
      "Valid Loss: 0.3764 | Valid Acc: 0.7970\n",
      "scheduler.num_bad_epochs => 4 scheduler.patience => 8\n",
      "----------\n",
      "Epoch 24/30\n",
      "----------\n",
      "Epoch 24/30\n",
      "Train Loss: 0.3568 | Train Acc: 0.8129\n",
      "Valid Loss: 0.3759 | Valid Acc: 0.7985\n",
      "scheduler.num_bad_epochs => 5 scheduler.patience => 8\n",
      "----------\n",
      "Epoch 25/30\n",
      "----------\n",
      "Epoch 25/30\n",
      "Train Loss: 0.3577 | Train Acc: 0.8122\n",
      "Valid Loss: 0.3756 | Valid Acc: 0.7986\n",
      "scheduler.num_bad_epochs => 6 scheduler.patience => 8\n",
      "----------\n",
      "Epoch 26/30\n",
      "----------\n",
      "Epoch 26/30\n",
      "Train Loss: 0.3560 | Train Acc: 0.8128\n",
      "Valid Loss: 0.3755 | Valid Acc: 0.7985\n",
      "scheduler.num_bad_epochs => 7 scheduler.patience => 8\n",
      "----------\n",
      "Epoch 27/30\n",
      "----------\n",
      "Epoch 27/30\n",
      "Train Loss: 0.3569 | Train Acc: 0.8138\n",
      "Valid Loss: 0.3752 | Valid Acc: 0.7993\n",
      "scheduler.num_bad_epochs => 8 scheduler.patience => 8\n",
      "----------\n",
      "Epoch 28/30\n",
      "----------\n",
      "Epoch 28/30\n",
      "Train Loss: 0.3566 | Train Acc: 0.8134\n",
      "Valid Loss: 0.3757 | Valid Acc: 0.7994\n",
      "scheduler.num_bad_epochs => 0 scheduler.patience => 8\n",
      "----------\n",
      "Epoch 29/30\n",
      "----------\n",
      "Epoch 29/30\n",
      "Train Loss: 0.3575 | Train Acc: 0.8125\n",
      "Valid Loss: 0.3757 | Valid Acc: 0.7991\n",
      "scheduler.num_bad_epochs => 1 scheduler.patience => 8\n",
      "----------\n",
      "Epoch 30/30\n",
      "----------\n",
      "Epoch 30/30\n",
      "Train Loss: 0.3564 | Train Acc: 0.8123\n",
      "Valid Loss: 0.3757 | Valid Acc: 0.7993\n",
      "scheduler.num_bad_epochs => 2 scheduler.patience => 8\n",
      "모델 학습 시간: 33분 37초\n"
     ]
    },
    {
     "data": {
      "image/png": "[encoded data removed]",
      "text/plain": [
       "<Figure size 1000x400 with 2 Axes>"
      ]
     },
     "metadata": {},
     "output_type": "display_data"
    }
   ],
   "source": [
    "trainval_Binary(classifier, train_loader, valid_loader, lossFunc, scoreFunc, optimizer, device, scheduler, num_epochs=30)"
   ]
  },
  {
   "cell_type": "code",
   "execution_count": null,
   "metadata": {},
   "outputs": [],
   "source": []
  }
 ],
 "metadata": {
  "kernelspec": {
   "display_name": "TEXT_018_230_38",
   "language": "python",
   "name": "python3"
  },
  "language_info": {
   "codemirror_mode": {
    "name": "ipython",
    "version": 3
   },
   "file_extension": ".py",
   "mimetype": "text/x-python",
   "name": "python",
   "nbconvert_exporter": "python",
   "pygments_lexer": "ipython3",
   "version": "3.8.19"
  }
 },
 "nbformat": 4,
 "nbformat_minor": 2
}

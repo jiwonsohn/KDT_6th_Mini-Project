{
 "cells": [
  {
   "cell_type": "markdown",
   "metadata": {},
   "source": []
  },
  {
   "cell_type": "markdown",
   "metadata": {},
   "source": []
  },
  {
   "cell_type": "code",
   "execution_count": 2,
   "metadata": {},
   "outputs": [],
   "source": [
    "# 자연어 처리 관련 모듈 ------------------------------------------------------------------------\n",
    "import re\n",
    "import numpy as np\n",
    "import pandas as pd\n",
    "import torch\n",
    "from collections import Counter\n",
    "from torch.utils.data import DataLoader, TensorDataset\n",
    "from konlpy.tag import Okt, Komoran, Kkma\n",
    "\n",
    "\n",
    "# 시각화 관련 모듈 -----------------------------------------------------------------------------\n",
    "import matplotlib.pyplot as plt"
   ]
  },
  {
   "cell_type": "code",
   "execution_count": 3,
   "metadata": {},
   "outputs": [],
   "source": [
    "tokenizer = Komoran()"
   ]
  },
  {
   "cell_type": "code",
   "execution_count": 4,
   "metadata": {},
   "outputs": [
    {
     "data": {
      "text/html": [
       "<div>\n",
       "<style scoped>\n",
       "    .dataframe tbody tr th:only-of-type {\n",
       "        vertical-align: middle;\n",
       "    }\n",
       "\n",
       "    .dataframe tbody tr th {\n",
       "        vertical-align: top;\n",
       "    }\n",
       "\n",
       "    .dataframe thead th {\n",
       "        text-align: right;\n",
       "    }\n",
       "</style>\n",
       "<table border=\"1\" class=\"dataframe\">\n",
       "  <thead>\n",
       "    <tr style=\"text-align: right;\">\n",
       "      <th></th>\n",
       "      <th>pronunciation</th>\n",
       "      <th>standard</th>\n",
       "    </tr>\n",
       "  </thead>\n",
       "  <tbody>\n",
       "    <tr>\n",
       "      <th>0</th>\n",
       "      <td>오랫동안 한 동네에서 살았던 할무닌데 도라가주씨 매매 아프네요</td>\n",
       "      <td>오랫동안 한 동네에서 살았던 할머니인데 돌아가겨서 마음이 아프네요</td>\n",
       "    </tr>\n",
       "    <tr>\n",
       "      <th>1</th>\n",
       "      <td>혈압약은 시간을 맞춰 챙겨 드셔야지 안 그러면 효과가 없습니다</td>\n",
       "      <td>혈압약은 시간을 맞춰 챙겨 드셔야지 안 그러면 효과가 없습니다</td>\n",
       "    </tr>\n",
       "    <tr>\n",
       "      <th>2</th>\n",
       "      <td>집에 돌아와 보이꺼네 문이 열려 있고 뼈다지가 열어둔 돈 전부 없어지던 어이떼</td>\n",
       "      <td>집에 돌아와 보니까 문이 열려 있고 서랍이 열어둔 돈 전부 없어지던 어이떼</td>\n",
       "    </tr>\n",
       "    <tr>\n",
       "      <th>3</th>\n",
       "      <td>아들 오늘 중요한 시험 보니까네 이 생서 하고 사가꼬 묵고 힘내서 시험 잘 바래이</td>\n",
       "      <td>아들 오늘 중요한 시험 보니까 이 생 엿 하고 사서 먹고 힘내서 시험 잘 봐</td>\n",
       "    </tr>\n",
       "    <tr>\n",
       "      <th>4</th>\n",
       "      <td>옛날부터 조상꿈이나 돼지꿈 꾸만 집에 돈 많이 들어온다고 좋아 해찌로</td>\n",
       "      <td>옛날부터 조상꿈이나 돼지꿈 꾸면 집에 돈 많이 들어온다고 좋아 했죠</td>\n",
       "    </tr>\n",
       "  </tbody>\n",
       "</table>\n",
       "</div>"
      ],
      "text/plain": [
       "                                   pronunciation  \\\n",
       "0             오랫동안 한 동네에서 살았던 할무닌데 도라가주씨 매매 아프네요   \n",
       "1             혈압약은 시간을 맞춰 챙겨 드셔야지 안 그러면 효과가 없습니다   \n",
       "2    집에 돌아와 보이꺼네 문이 열려 있고 뼈다지가 열어둔 돈 전부 없어지던 어이떼   \n",
       "3  아들 오늘 중요한 시험 보니까네 이 생서 하고 사가꼬 묵고 힘내서 시험 잘 바래이   \n",
       "4         옛날부터 조상꿈이나 돼지꿈 꾸만 집에 돈 많이 들어온다고 좋아 해찌로   \n",
       "\n",
       "                                     standard  \n",
       "0        오랫동안 한 동네에서 살았던 할머니인데 돌아가겨서 마음이 아프네요  \n",
       "1          혈압약은 시간을 맞춰 챙겨 드셔야지 안 그러면 효과가 없습니다  \n",
       "2   집에 돌아와 보니까 문이 열려 있고 서랍이 열어둔 돈 전부 없어지던 어이떼  \n",
       "3  아들 오늘 중요한 시험 보니까 이 생 엿 하고 사서 먹고 힘내서 시험 잘 봐  \n",
       "4       옛날부터 조상꿈이나 돼지꿈 꾸면 집에 돈 많이 들어온다고 좋아 했죠  "
      ]
     },
     "execution_count": 4,
     "metadata": {},
     "output_type": "execute_result"
    }
   ],
   "source": [
    "rawDF = pd.read_csv('../pronunciation_standard.txt', sep='\\t')\n",
    "rawDF.head(5)"
   ]
  },
  {
   "cell_type": "code",
   "execution_count": 31,
   "metadata": {},
   "outputs": [],
   "source": [
    "def cleanTxt(sent):\n",
    "\t# 한글 공백 제외 삭제\n",
    "\tsent = re.sub(r\"[^ㄱ-ㅎ가-힣\\s]\", \"\", sent)\n",
    "\treturn sent"
   ]
  },
  {
   "cell_type": "code",
   "execution_count": 32,
   "metadata": {},
   "outputs": [],
   "source": [
    "def load_preprocessed_data(tokenizer):\n",
    "    encoder_input, decoder_input, decoder_target = [], [], []\n",
    "\n",
    "    with open(\"../pronunciation_standard.txt\", \"r\") as lines:\n",
    "        # print(lines)\t\t\t\t\t\t\t\t\t\t\t# <_io.TextIOWrapper name='../dialect_standard.txt' mode='r' encoding='UTF-8'>\n",
    "        for i, line in enumerate(lines):\n",
    "            \n",
    "            # source 데이터와 target 데이터 분리\n",
    "            if not i: continue\t\t\t\t\t\t\t\t\t# header 라인 패스\n",
    "            elif len(line.strip().split('\\t'))==2:\n",
    "                \n",
    "                # print(line.strip().split('\\t'))\t\t\t\t\t# ['혈압약은 시간을', '혈압약은 시간을']\n",
    "                \n",
    "\t\t\t\t# 표준어 \t방언\n",
    "                src_line, tar_line = line.strip().split('\\t')[1], line.strip().split('\\t')[0]\n",
    "                # print(src_line)\n",
    "                # print(tar_line)\n",
    "\t\n",
    "\t\t\t\t# source 데이터 전처리\n",
    "                # print(cleanTxt(src_line))\n",
    "                src_line = [w for w in tokenizer.morphs(cleanTxt(src_line))]\n",
    "                # print(src_line)\n",
    "                # break\n",
    "\n",
    "\t\t\t\t# target 데이터 전처리\n",
    "                tar_line = tokenizer.morphs(cleanTxt(tar_line))\n",
    "                tar_line_in = [w for w in ([\"<sos>\"] + tar_line)]\n",
    "                tar_line_out = [w for w in (tar_line + [\"<eos>\"])]\n",
    "\n",
    "                encoder_input.append(src_line)\n",
    "                decoder_input.append(tar_line_in)\n",
    "                decoder_target.append(tar_line_out)\n",
    "                \n",
    "\n",
    "            # if i == len(lines) - 1:\n",
    "            #     break\n",
    "\n",
    "    return encoder_input, decoder_input, decoder_target"
   ]
  },
  {
   "cell_type": "code",
   "execution_count": 33,
   "metadata": {},
   "outputs": [],
   "source": [
    "# tmp = \"올해는\n",
    "#  배치 농사를 망우가 짐장을 할라믄 배치를 좀 사와가 담구야 데겠네\"\t\"올해는\n",
    "#  배추 농사를 망쳐서 김장을 하려면 배추를 좀 사와서 담궈야 되겠네\""
   ]
  },
  {
   "cell_type": "code",
   "execution_count": 34,
   "metadata": {},
   "outputs": [
    {
     "name": "stdout",
     "output_type": "stream",
     "text": [
      "인코더의 입력 : [['오랫동안', '한', '동네', '에서', '살', '았', '던', '할머니', '이', 'ㄴ데', '돌', '아가', '겨', '서', '마음', '이', '아프', '네요'], ['혈압', '약', '은', '시간', '을', '맞추', '어', '챙기', '어', '어', '들', '시', '어야지', '안', '그러면', '효과', '가', '없', '습니다'], ['집', '에', '돌아오', '아', '보', '니까', '문', '이', '열리', '어', '있', '고', '서랍', '이', '열', '어', '두', 'ㄴ', '돈', '전부', '없', '어', '지', '던', '어이', '떼'], ['아들', '오늘', '중요', '하', 'ㄴ', '시험', '보', '니까', '이', '생', '엿', '하', '고', '사서', '먹', '고', '힘', '내', '어서', '시험', '잘', '보', '아'], ['옛날', '부터', '조상', '꿈', '이나', '돼지꿈', '꾸', '면', '집', '에', '돈', '많이', '들어오', 'ㄴ다고', '좋', '아', '하', '았', '죠']]\n",
      "디코더의 입력 : [['<sos>', '오랫동안', '한', '동네', '에서', '살', '았', '던', '하', 'ㄹ', '무', '이', '니', 'ㄴ데', '도라', '가주', '씨', '매매', '아프', '네요'], ['<sos>', '혈압', '약', '은', '시간', '을', '맞추', '어', '챙기', '어', '어', '들', '시', '어야지', '안', '그러면', '효과', '가', '없', '습니다'], ['<sos>', '집', '에', '돌아오', '아', '보이', '꺼', '네', '문', '이', '열리', '어', '있', '고', '뼈', '다', '지', '가', '열', '어', '두', 'ㄴ', '돈', '전부', '없', '어', '지', '던', '어이', '떼'], ['<sos>', '아들', '오늘', '중요', '하', 'ㄴ', '시험', '보니', '까네', '이', '생', '서', '하', '고', '사가', '꼬', '묵', '고', '힘', '내', '어서', '시험', '잘', '바래', '이'], ['<sos>', '옛날', '부터', '조상', '꿈', '이나', '돼지꿈', '꾸', '마', 'ㄴ', '집', '에', '돈', '많이', '들어오', 'ㄴ다고', '좋', '아', '해', '찌', '로']]\n",
      "디코더의 레이블 : [['오랫동안', '한', '동네', '에서', '살', '았', '던', '하', 'ㄹ', '무', '이', '니', 'ㄴ데', '도라', '가주', '씨', '매매', '아프', '네요', '<eos>'], ['혈압', '약', '은', '시간', '을', '맞추', '어', '챙기', '어', '어', '들', '시', '어야지', '안', '그러면', '효과', '가', '없', '습니다', '<eos>'], ['집', '에', '돌아오', '아', '보이', '꺼', '네', '문', '이', '열리', '어', '있', '고', '뼈', '다', '지', '가', '열', '어', '두', 'ㄴ', '돈', '전부', '없', '어', '지', '던', '어이', '떼', '<eos>'], ['아들', '오늘', '중요', '하', 'ㄴ', '시험', '보니', '까네', '이', '생', '서', '하', '고', '사가', '꼬', '묵', '고', '힘', '내', '어서', '시험', '잘', '바래', '이', '<eos>'], ['옛날', '부터', '조상', '꿈', '이나', '돼지꿈', '꾸', '마', 'ㄴ', '집', '에', '돈', '많이', '들어오', 'ㄴ다고', '좋', '아', '해', '찌', '로', '<eos>']]\n"
     ]
    }
   ],
   "source": [
    "sents_std_in, sents_di_in, sents_di_out = load_preprocessed_data(tokenizer)\n",
    "print('인코더의 입력 :',sents_std_in[:5])\n",
    "print('디코더의 입력 :',sents_di_in[:5])\n",
    "print('디코더의 레이블 :',sents_di_out[:5])\n"
   ]
  },
  {
   "cell_type": "code",
   "execution_count": 35,
   "metadata": {},
   "outputs": [],
   "source": [
    "def build_vocab(sents):\n",
    "  word_list = []\n",
    "\n",
    "  for sent in sents:\n",
    "      for word in sent:\n",
    "        word_list.append(word)\n",
    "\n",
    "  # 각 단어별 등장 빈도를 계산하여 등장 빈도가 높은 순서로 정렬\n",
    "#   word_counts = Counter(word_list)\n",
    "#   vocab = sorted(word_counts, key=word_counts.get, reverse=True)\n",
    "  \n",
    "  vocab = set(word_list)\n",
    "\n",
    "  word_to_index = {}\n",
    "  word_to_index['<PAD>'] = 0\n",
    "  word_to_index['<UNK>'] = 1\n",
    "\n",
    "  # 등장 빈도가 높은 단어일수록 낮은 정수를 부여\n",
    "  for index, word in enumerate(vocab) :\n",
    "    word_to_index[word] = index + 2\n",
    "\n",
    "  return word_to_index\n"
   ]
  },
  {
   "cell_type": "code",
   "execution_count": 36,
   "metadata": {},
   "outputs": [
    {
     "name": "stdout",
     "output_type": "stream",
     "text": [
      "표준어 단어 집합의 크기 : 2366, 방언 단어 집합의 크기 : 4722\n"
     ]
    }
   ],
   "source": [
    "src_vocab = build_vocab(sents_std_in)\n",
    "tar_vocab = build_vocab(sents_di_in + sents_di_out)\n",
    "\n",
    "src_vocab_size = len(src_vocab)\n",
    "tar_vocab_size = len(tar_vocab)\n",
    "print(\"표준어 단어 집합의 크기 : {:d}, 방언 단어 집합의 크기 : {:d}\".format(src_vocab_size, tar_vocab_size))"
   ]
  },
  {
   "cell_type": "code",
   "execution_count": 37,
   "metadata": {},
   "outputs": [],
   "source": [
    "index_to_src = {v: k for k, v in src_vocab.items()}\n",
    "index_to_tar = {v: k for k, v in tar_vocab.items()}\n",
    "\n",
    "def texts_to_sequences(sents, word_to_index):\n",
    "  encoded_X_data = []\n",
    "  for sent in sents:\n",
    "    index_sequences = []\n",
    "    for word in sent:\n",
    "      try:\n",
    "          index_sequences.append(word_to_index[word])\n",
    "      except KeyError:\n",
    "          index_sequences.append(word_to_index['<UNK>'])\n",
    "    encoded_X_data.append(index_sequences)\n",
    "  return encoded_X_data\n"
   ]
  },
  {
   "cell_type": "code",
   "execution_count": 38,
   "metadata": {},
   "outputs": [],
   "source": [
    "encoder_input = texts_to_sequences(sents_std_in, src_vocab)\n",
    "decoder_input = texts_to_sequences(sents_di_in, tar_vocab)\n",
    "decoder_target = texts_to_sequences(sents_di_out, tar_vocab)\n"
   ]
  },
  {
   "cell_type": "code",
   "execution_count": 39,
   "metadata": {},
   "outputs": [
    {
     "name": "stdout",
     "output_type": "stream",
     "text": [
      "Index: 0, 정수 인코딩 전: ['오랫동안', '한', '동네', '에서', '살', '았', '던', '할머니', '이', 'ㄴ데', '돌', '아가', '겨', '서', '마음', '이', '아프', '네요'], 정수 인코딩 후: [723, 1485, 1737, 1133, 1877, 1342, 181, 1914, 131, 894, 1233, 1140, 2156, 580, 269, 131, 1611, 149]\n",
      "Index: 1, 정수 인코딩 전: ['혈압', '약', '은', '시간', '을', '맞추', '어', '챙기', '어', '어', '들', '시', '어야지', '안', '그러면', '효과', '가', '없', '습니다'], 정수 인코딩 후: [1743, 152, 981, 1535, 1366, 1694, 1468, 1374, 1468, 1468, 842, 1166, 1954, 1237, 126, 861, 275, 238, 1614]\n",
      "Index: 2, 정수 인코딩 전: ['집', '에', '돌아오', '아', '보', '니까', '문', '이', '열리', '어', '있', '고', '서랍', '이', '열', '어', '두', 'ㄴ', '돈', '전부', '없', '어', '지', '던', '어이', '떼'], 정수 인코딩 후: [1414, 331, 1797, 2361, 1075, 670, 1740, 131, 246, 1468, 159, 1599, 40, 131, 87, 1468, 2064, 1644, 2285, 2061, 238, 1468, 567, 181, 870, 1785]\n",
      "Index: 3, 정수 인코딩 전: ['아들', '오늘', '중요', '하', 'ㄴ', '시험', '보', '니까', '이', '생', '엿', '하', '고', '사서', '먹', '고', '힘', '내', '어서', '시험', '잘', '보', '아'], 정수 인코딩 후: [594, 1127, 344, 315, 1644, 693, 1075, 670, 131, 73, 773, 315, 1599, 1600, 96, 1599, 1483, 1834, 240, 693, 552, 1075, 2361]\n",
      "Index: 4, 정수 인코딩 전: ['옛날', '부터', '조상', '꿈', '이나', '돼지꿈', '꾸', '면', '집', '에', '돈', '많이', '들어오', 'ㄴ다고', '좋', '아', '하', '았', '죠'], 정수 인코딩 후: [985, 437, 1670, 532, 1976, 1681, 1774, 1498, 1414, 331, 2285, 145, 1030, 2082, 559, 2361, 315, 1342, 647]\n"
     ]
    }
   ],
   "source": [
    "# 상위 5개의 샘플에 대해서 정수 인코딩 전, 후 문장 출력\n",
    "# 인코더 입력이므로 <sos>나 <eos>가 없음\n",
    "for i, (item1, item2) in zip(range(5), zip(sents_std_in, encoder_input)):\n",
    "    print(f\"Index: {i}, 정수 인코딩 전: {item1}, 정수 인코딩 후: {item2}\")\n"
   ]
  },
  {
   "cell_type": "code",
   "execution_count": 40,
   "metadata": {},
   "outputs": [],
   "source": [
    "def pad_sequences(sentences, max_len=None):\n",
    "    # 최대 길이 값이 주어지지 않을 경우 데이터 내 최대 길이로 패딩\n",
    "    if max_len is None:\n",
    "        max_len = max([len(sentence) for sentence in sentences])\n",
    "\n",
    "    features = np.zeros((len(sentences), max_len), dtype=int)\n",
    "    for index, sentence in enumerate(sentences):\n",
    "        if len(sentence) != 0:\n",
    "            features[index, :len(sentence)] = np.array(sentence)[:max_len]\n",
    "    return features\n"
   ]
  },
  {
   "cell_type": "code",
   "execution_count": 41,
   "metadata": {},
   "outputs": [],
   "source": [
    "encoder_input = pad_sequences(encoder_input)\n",
    "decoder_input = pad_sequences(decoder_input)\n",
    "decoder_target = pad_sequences(decoder_target)"
   ]
  },
  {
   "cell_type": "code",
   "execution_count": 42,
   "metadata": {},
   "outputs": [
    {
     "name": "stdout",
     "output_type": "stream",
     "text": [
      "인코더의 입력의 크기(shape) : (15296, 37)\n",
      "디코더의 입력의 크기(shape) : (15296, 46)\n",
      "디코더의 레이블의 크기(shape) : (15296, 46)\n"
     ]
    }
   ],
   "source": [
    "print('인코더의 입력의 크기(shape) :',encoder_input.shape)\n",
    "print('디코더의 입력의 크기(shape) :',decoder_input.shape)\n",
    "print('디코더의 레이블의 크기(shape) :',decoder_target.shape)\n"
   ]
  },
  {
   "cell_type": "code",
   "execution_count": 44,
   "metadata": {},
   "outputs": [
    {
     "name": "stdout",
     "output_type": "stream",
     "text": [
      "['뱀', '에', '몰리', '면', '병원', '에', '가', '아야지', '된장', '같', '은', '거', '마음', '대로', '바르', '면', '큰일', '나', 'ㅂ니다', '<PAD>', '<PAD>', '<PAD>', '<PAD>', '<PAD>', '<PAD>', '<PAD>', '<PAD>', '<PAD>', '<PAD>', '<PAD>', '<PAD>', '<PAD>', '<PAD>', '<PAD>', '<PAD>', '<PAD>', '<PAD>']\n",
      "['<sos>', '뱀', '에', '몰리', '면', '병원', '에', '가', '아야지', '된장', '같', '은', '거', '마음', '대로', '바르', '면', '큰일', '남', '니', '더', '<PAD>', '<PAD>', '<PAD>', '<PAD>', '<PAD>', '<PAD>', '<PAD>', '<PAD>', '<PAD>', '<PAD>', '<PAD>', '<PAD>', '<PAD>', '<PAD>', '<PAD>', '<PAD>', '<PAD>', '<PAD>', '<PAD>', '<PAD>', '<PAD>', '<PAD>', '<PAD>', '<PAD>', '<PAD>']\n",
      "['뱀', '에', '몰리', '면', '병원', '에', '가', '아야지', '된장', '같', '은', '거', '마음', '대로', '바르', '면', '큰일', '남', '니', '더', '<eos>', '<PAD>', '<PAD>', '<PAD>', '<PAD>', '<PAD>', '<PAD>', '<PAD>', '<PAD>', '<PAD>', '<PAD>', '<PAD>', '<PAD>', '<PAD>', '<PAD>', '<PAD>', '<PAD>', '<PAD>', '<PAD>', '<PAD>', '<PAD>', '<PAD>', '<PAD>', '<PAD>', '<PAD>', '<PAD>']\n"
     ]
    }
   ],
   "source": [
    "print([index_to_src[word] for word in encoder_input[12300]])\n",
    "print([index_to_tar[word] for word in decoder_input[12300]])\n",
    "print([index_to_tar[word] for word in decoder_target[12300]])\n"
   ]
  },
  {
   "cell_type": "code",
   "execution_count": 45,
   "metadata": {},
   "outputs": [
    {
     "name": "stdout",
     "output_type": "stream",
     "text": [
      "훈련 데이터의 개수 : 10708\n",
      "검증 데이터의 개수 : 3059\n",
      "테스트 데이터의 개수 : 1529\n",
      "총합 15296\n"
     ]
    }
   ],
   "source": [
    "n_of_train = int(15296*0.7) +1\n",
    "n_of_val = int(15296*0.2)\n",
    "n_of_test = int(15296*0.1)\n",
    "\n",
    "\n",
    "print('훈련 데이터의 개수 :',n_of_train)\n",
    "print('검증 데이터의 개수 :',n_of_val)\n",
    "print('테스트 데이터의 개수 :',n_of_test)\n",
    "\n",
    "print(\"총합\",n_of_train+n_of_val+n_of_test)"
   ]
  },
  {
   "cell_type": "code",
   "execution_count": 46,
   "metadata": {},
   "outputs": [],
   "source": [
    "encoder_input_train = encoder_input[:n_of_train, :]\n",
    "decoder_input_train = decoder_input[:n_of_train, :]\n",
    "decoder_target_train = decoder_target[:n_of_train, :]\n",
    "\n",
    "encoder_input_val = encoder_input[n_of_train:n_of_train+n_of_val+1, :]\n",
    "decoder_input_val = decoder_input[n_of_train:n_of_train+n_of_val+1, :]\n",
    "decoder_target_val = decoder_target[n_of_train:n_of_train+n_of_val+1, :]\n",
    "\n",
    "encoder_input_test = encoder_input[-n_of_test:]\n",
    "decoder_input_test = decoder_input[-n_of_test:]\n",
    "decoder_target_test = decoder_target[-n_of_test:]"
   ]
  },
  {
   "cell_type": "code",
   "execution_count": 47,
   "metadata": {},
   "outputs": [
    {
     "name": "stdout",
     "output_type": "stream",
     "text": [
      "훈련 source 데이터의 크기 : (10708, 37)\n",
      "훈련 target 데이터의 크기 : (10708, 46)\n",
      "훈련 target 레이블의 크기 : (10708, 46)\n",
      "\n",
      "검증 source 데이터의 크기 : (3060, 37)\n",
      "검증 target 데이터의 크기 : (3060, 46)\n",
      "검증 target 레이블의 크기 : (3060, 46)\n",
      "\n",
      "테스트 source 데이터의 크기 : (1529, 37)\n",
      "테스트 target 데이터의 크기 : (1529, 46)\n",
      "테스트 target 레이블의 크기 : (1529, 46)\n"
     ]
    }
   ],
   "source": [
    "print('훈련 source 데이터의 크기 :',encoder_input_train.shape)\n",
    "print('훈련 target 데이터의 크기 :',decoder_input_train.shape)\n",
    "print('훈련 target 레이블의 크기 :',decoder_target_train.shape)\n",
    "print()\n",
    "print('검증 source 데이터의 크기 :',encoder_input_val.shape)\n",
    "print('검증 target 데이터의 크기 :',decoder_input_val.shape)\n",
    "print('검증 target 레이블의 크기 :',decoder_target_val.shape)\n",
    "print()\n",
    "print('테스트 source 데이터의 크기 :',encoder_input_test.shape)\n",
    "print('테스트 target 데이터의 크기 :',decoder_input_test.shape)\n",
    "print('테스트 target 레이블의 크기 :',decoder_target_test.shape)"
   ]
  },
  {
   "cell_type": "markdown",
   "metadata": {},
   "source": [
    "#### 번역기 만들기"
   ]
  },
  {
   "cell_type": "code",
   "execution_count": 48,
   "metadata": {},
   "outputs": [],
   "source": [
    "import torch\n",
    "import torch.nn as nn\n",
    "import torch.optim as optim\n",
    "\n",
    "embedding_dim = 256\n",
    "hidden_units = 256\n",
    "\n",
    "class Encoder(nn.Module):\n",
    "    def __init__(self, src_vocab_size, embedding_dim, hidden_units):\n",
    "        super(Encoder, self).__init__()\n",
    "        self.embedding = nn.Embedding(src_vocab_size, embedding_dim, padding_idx=0)\n",
    "        self.lstm = nn.LSTM(embedding_dim, hidden_units, batch_first=True)\n",
    "\n",
    "    def forward(self, x):\n",
    "        # x.shape == (batch_size, seq_len, embedding_dim)\n",
    "        x = self.embedding(x)\n",
    "        # hidden.shape == (1, batch_size, hidden_units), cell.shape == (1, batch_size, hidden_units)\n",
    "        _, (hidden, cell) = self.lstm(x)\n",
    "        # 인코더의 출력은 hidden state, cell state\n",
    "        return hidden, cell\n",
    "\n",
    "class Decoder(nn.Module):\n",
    "    def __init__(self, tar_vocab_size, embedding_dim, hidden_units):\n",
    "        super(Decoder, self).__init__()\n",
    "        self.embedding = nn.Embedding(tar_vocab_size, embedding_dim, padding_idx=0)\n",
    "        self.lstm = nn.LSTM(embedding_dim, hidden_units, batch_first=True)\n",
    "        self.fc = nn.Linear(hidden_units, tar_vocab_size)\n",
    "\n",
    "    def forward(self, x, hidden, cell):\n",
    "\n",
    "        # x.shape == (batch_size, seq_len, embedding_dim)\n",
    "        x = self.embedding(x)\n",
    "\n",
    "        # 디코더의 LSTM으로 인코더의 hidden state, cell state를 전달.\n",
    "        # output.shape == (batch_size, seq_len, hidden_units)\n",
    "        # hidden.shape == (1, batch_size, hidden_units)\n",
    "        # cell.shape == (1, batch_size, hidden_units)\n",
    "        output, (hidden, cell) = self.lstm(x, (hidden, cell))\n",
    "\n",
    "        # output.shape: (batch_size, seq_len, tar_vocab_size)\n",
    "        output = self.fc(output)\n",
    "\n",
    "        # 디코더의 출력은 예측값, hidden state, cell state\n",
    "        return output, hidden, cell\n",
    "\n",
    "class Seq2Seq(nn.Module):\n",
    "    def __init__(self, encoder, decoder):\n",
    "        super(Seq2Seq, self).__init__()\n",
    "        self.encoder = encoder\n",
    "        self.decoder = decoder\n",
    "\n",
    "    def forward(self, src, trg):\n",
    "        hidden, cell = self.encoder(src)\n",
    "\n",
    "        # 훈련 중에는 디코더의 출력 중 오직 output만 사용한다.\n",
    "        output, _, _ = self.decoder(trg, hidden, cell)\n",
    "        return output\n",
    "\n",
    "\n"
   ]
  },
  {
   "cell_type": "code",
   "execution_count": 49,
   "metadata": {},
   "outputs": [],
   "source": [
    "encoder = Encoder(src_vocab_size, embedding_dim, hidden_units)\n",
    "decoder = Decoder(tar_vocab_size, embedding_dim, hidden_units)\n",
    "model = Seq2Seq(encoder, decoder)\n",
    "\n",
    "LR = 0.001\n",
    "loss_function = nn.CrossEntropyLoss(ignore_index=0)\n",
    "optimizer = optim.Adam(model.parameters(), lr=LR)"
   ]
  },
  {
   "cell_type": "code",
   "execution_count": 50,
   "metadata": {},
   "outputs": [
    {
     "name": "stdout",
     "output_type": "stream",
     "text": [
      "Seq2Seq(\n",
      "  (encoder): Encoder(\n",
      "    (embedding): Embedding(2366, 256, padding_idx=0)\n",
      "    (lstm): LSTM(256, 256, batch_first=True)\n",
      "  )\n",
      "  (decoder): Decoder(\n",
      "    (embedding): Embedding(4722, 256, padding_idx=0)\n",
      "    (lstm): LSTM(256, 256, batch_first=True)\n",
      "    (fc): Linear(in_features=256, out_features=4722, bias=True)\n",
      "  )\n",
      ")\n"
     ]
    }
   ],
   "source": [
    "print(model)"
   ]
  },
  {
   "cell_type": "code",
   "execution_count": 54,
   "metadata": {},
   "outputs": [],
   "source": [
    "def evaluation(model, dataloader, loss_function, device):\n",
    "    model.eval()\n",
    "    total_loss = 0.0\n",
    "    total_correct = 0\n",
    "    total_count = 0\n",
    "\n",
    "    with torch.no_grad():\n",
    "        for encoder_inputs, decoder_inputs, decoder_targets in dataloader:\n",
    "            encoder_inputs = encoder_inputs.to(device)\n",
    "            decoder_inputs = decoder_inputs.to(device)\n",
    "            decoder_targets = decoder_targets.to(device)\n",
    "\n",
    "            # 순방향 전파\n",
    "            # outputs.shape == (batch_size, seq_len, tar_vocab_size)\n",
    "            outputs = model(encoder_inputs, decoder_inputs)\n",
    "\n",
    "            # 손실 계산\n",
    "            # outputs.view(-1, outputs.size(-1))의 shape는 (batch_size * seq_len, tar_vocab_size)\n",
    "            # decoder_targets.view(-1)의 shape는 (batch_size * seq_len)\n",
    "            loss = loss_function(outputs.view(-1, outputs.size(-1)), decoder_targets.view(-1))\n",
    "            total_loss += loss.item()\n",
    "\n",
    "            # 정확도 계산 (패딩 토큰 제외)\n",
    "            mask = decoder_targets != 0\n",
    "            total_correct += ((outputs.argmax(dim=-1) == decoder_targets) * mask).sum().item()\n",
    "            total_count += mask.sum().item()\n",
    "\n",
    "    return total_loss / len(dataloader), total_correct / total_count\n"
   ]
  },
  {
   "cell_type": "code",
   "execution_count": 52,
   "metadata": {},
   "outputs": [],
   "source": [
    "encoder_input_train_tensor = torch.tensor(encoder_input_train, dtype=torch.long)\n",
    "decoder_input_train_tensor = torch.tensor(decoder_input_train, dtype=torch.long)\n",
    "decoder_target_train_tensor = torch.tensor(decoder_target_train, dtype=torch.long)\n",
    "\n",
    "encoder_input_val_tensor = torch.tensor(encoder_input_val, dtype=torch.long)\n",
    "decoder_input_val_tensor = torch.tensor(decoder_input_val, dtype=torch.long)\n",
    "decoder_target_val_tensor = torch.tensor(decoder_target_val, dtype=torch.long)\n",
    "\n",
    "# 데이터셋 및 데이터로더 생성\n",
    "batch_size = 128\n",
    "\n",
    "train_dataset = TensorDataset(encoder_input_train_tensor, decoder_input_train_tensor, decoder_target_train_tensor)\n",
    "train_dataloader = DataLoader(train_dataset, batch_size=batch_size, shuffle=True)\n",
    "\n",
    "valid_dataset = TensorDataset(encoder_input_val_tensor, decoder_input_val_tensor, decoder_target_val_tensor)\n",
    "valid_dataloader = DataLoader(valid_dataset, batch_size=batch_size, shuffle=False)\n"
   ]
  },
  {
   "cell_type": "markdown",
   "metadata": {},
   "source": [
    "### 학습 설정"
   ]
  },
  {
   "cell_type": "code",
   "execution_count": 53,
   "metadata": {},
   "outputs": [
    {
     "data": {
      "text/plain": [
       "Seq2Seq(\n",
       "  (encoder): Encoder(\n",
       "    (embedding): Embedding(2366, 256, padding_idx=0)\n",
       "    (lstm): LSTM(256, 256, batch_first=True)\n",
       "  )\n",
       "  (decoder): Decoder(\n",
       "    (embedding): Embedding(4722, 256, padding_idx=0)\n",
       "    (lstm): LSTM(256, 256, batch_first=True)\n",
       "    (fc): Linear(in_features=256, out_features=4722, bias=True)\n",
       "  )\n",
       ")"
      ]
     },
     "execution_count": 53,
     "metadata": {},
     "output_type": "execute_result"
    }
   ],
   "source": [
    "# 학습 설정\n",
    "num_epochs = 20\n",
    "device = torch.device(\"cuda\" if torch.cuda.is_available() else \"cpu\")\n",
    "model.to(device)\n"
   ]
  },
  {
   "cell_type": "code",
   "execution_count": 55,
   "metadata": {},
   "outputs": [
    {
     "name": "stdout",
     "output_type": "stream",
     "text": [
      "Epoch: 1/20 | Train Loss: 4.7023 | Train Acc: 0.2074 | Valid Loss: 4.7411 | Valid Acc: 0.2044\n",
      "Validation loss improved from inf to 4.7411. 체크포인트를 저장합니다.\n",
      "Epoch: 2/20 | Train Loss: 3.2778 | Train Acc: 0.4063 | Valid Loss: 3.3418 | Valid Acc: 0.4012\n",
      "Validation loss improved from 4.7411 to 3.3418. 체크포인트를 저장합니다.\n",
      "Epoch: 3/20 | Train Loss: 2.3643 | Train Acc: 0.5933 | Valid Loss: 2.4587 | Valid Acc: 0.5840\n",
      "Validation loss improved from 3.3418 to 2.4587. 체크포인트를 저장합니다.\n",
      "Epoch: 4/20 | Train Loss: 1.8511 | Train Acc: 0.6764 | Valid Loss: 1.9736 | Valid Acc: 0.6649\n",
      "Validation loss improved from 2.4587 to 1.9736. 체크포인트를 저장합니다.\n",
      "Epoch: 5/20 | Train Loss: 1.5486 | Train Acc: 0.7207 | Valid Loss: 1.6947 | Valid Acc: 0.7090\n",
      "Validation loss improved from 1.9736 to 1.6947. 체크포인트를 저장합니다.\n",
      "Epoch: 6/20 | Train Loss: 1.3468 | Train Acc: 0.7440 | Valid Loss: 1.5174 | Valid Acc: 0.7291\n",
      "Validation loss improved from 1.6947 to 1.5174. 체크포인트를 저장합니다.\n",
      "Epoch: 7/20 | Train Loss: 1.1938 | Train Acc: 0.7662 | Valid Loss: 1.3874 | Valid Acc: 0.7496\n",
      "Validation loss improved from 1.5174 to 1.3874. 체크포인트를 저장합니다.\n",
      "Epoch: 8/20 | Train Loss: 1.0666 | Train Acc: 0.7879 | Valid Loss: 1.2828 | Valid Acc: 0.7691\n",
      "Validation loss improved from 1.3874 to 1.2828. 체크포인트를 저장합니다.\n",
      "Epoch: 9/20 | Train Loss: 0.9608 | Train Acc: 0.8022 | Valid Loss: 1.1991 | Valid Acc: 0.7817\n",
      "Validation loss improved from 1.2828 to 1.1991. 체크포인트를 저장합니다.\n",
      "Epoch: 10/20 | Train Loss: 0.8849 | Train Acc: 0.8076 | Valid Loss: 1.1442 | Valid Acc: 0.7845\n",
      "Validation loss improved from 1.1991 to 1.1442. 체크포인트를 저장합니다.\n",
      "Epoch: 11/20 | Train Loss: 0.8248 | Train Acc: 0.8131 | Valid Loss: 1.1056 | Valid Acc: 0.7875\n",
      "Validation loss improved from 1.1442 to 1.1056. 체크포인트를 저장합니다.\n",
      "Epoch: 12/20 | Train Loss: 0.7762 | Train Acc: 0.8189 | Valid Loss: 1.0767 | Valid Acc: 0.7902\n",
      "Validation loss improved from 1.1056 to 1.0767. 체크포인트를 저장합니다.\n",
      "Epoch: 13/20 | Train Loss: 0.7380 | Train Acc: 0.8223 | Valid Loss: 1.0579 | Valid Acc: 0.7914\n",
      "Validation loss improved from 1.0767 to 1.0579. 체크포인트를 저장합니다.\n",
      "Epoch: 14/20 | Train Loss: 0.7026 | Train Acc: 0.8277 | Valid Loss: 1.0418 | Valid Acc: 0.7945\n",
      "Validation loss improved from 1.0579 to 1.0418. 체크포인트를 저장합니다.\n",
      "Epoch: 15/20 | Train Loss: 0.6718 | Train Acc: 0.8331 | Valid Loss: 1.0314 | Valid Acc: 0.7961\n",
      "Validation loss improved from 1.0418 to 1.0314. 체크포인트를 저장합니다.\n",
      "Epoch: 16/20 | Train Loss: 0.6451 | Train Acc: 0.8360 | Valid Loss: 1.0246 | Valid Acc: 0.7948\n",
      "Validation loss improved from 1.0314 to 1.0246. 체크포인트를 저장합니다.\n",
      "Epoch: 17/20 | Train Loss: 0.6193 | Train Acc: 0.8400 | Valid Loss: 1.0146 | Valid Acc: 0.7971\n",
      "Validation loss improved from 1.0246 to 1.0146. 체크포인트를 저장합니다.\n",
      "Epoch: 18/20 | Train Loss: 0.5958 | Train Acc: 0.8440 | Valid Loss: 1.0089 | Valid Acc: 0.7978\n",
      "Validation loss improved from 1.0146 to 1.0089. 체크포인트를 저장합니다.\n",
      "Epoch: 19/20 | Train Loss: 0.5716 | Train Acc: 0.8479 | Valid Loss: 1.0043 | Valid Acc: 0.7979\n",
      "Validation loss improved from 1.0089 to 1.0043. 체크포인트를 저장합니다.\n",
      "Epoch: 20/20 | Train Loss: 0.5539 | Train Acc: 0.8510 | Valid Loss: 1.0019 | Valid Acc: 0.7985\n",
      "Validation loss improved from 1.0043 to 1.0019. 체크포인트를 저장합니다.\n"
     ]
    }
   ],
   "source": [
    "# Training loop\n",
    "best_val_loss = float('inf')\n",
    "\n",
    "train_history = {'Loss':[], 'Acc':[]}\n",
    "valid_history = {'Loss':[], 'Acc':[]}\n",
    "\n",
    "\n",
    "for epoch in range(num_epochs):\n",
    "    # 훈련 모드\n",
    "    model.train()\n",
    "\n",
    "    for encoder_inputs, decoder_inputs, decoder_targets in train_dataloader:\n",
    "        encoder_inputs = encoder_inputs.to(device)\n",
    "        decoder_inputs = decoder_inputs.to(device)\n",
    "        decoder_targets = decoder_targets.to(device)\n",
    "\n",
    "        # 기울기 초기화\n",
    "        optimizer.zero_grad()\n",
    "\n",
    "        # 순방향 전파\n",
    "        # outputs.shape == (batch_size, seq_len, tar_vocab_size)\n",
    "        outputs = model(encoder_inputs, decoder_inputs)\n",
    "\n",
    "        # 손실 계산 및 역방향 전파\n",
    "        # outputs.view(-1, outputs.size(-1))의 shape는 (batch_size * seq_len, tar_vocab_size)\n",
    "        # decoder_targets.view(-1)의 shape는 (batch_size * seq_len)\n",
    "        loss = loss_function(outputs.view(-1, outputs.size(-1)), decoder_targets.view(-1))\n",
    "        loss.backward()\n",
    "\n",
    "        # 가중치 업데이트\n",
    "        optimizer.step()\n",
    "\n",
    "    train_loss, train_acc = evaluation(model, train_dataloader, loss_function, device)\n",
    "    valid_loss, valid_acc = evaluation(model, valid_dataloader, loss_function, device)\n",
    "    \n",
    "    train_history['Loss'].append(train_loss)\n",
    "    train_history['Acc'].append(train_acc)\n",
    "    \n",
    "    valid_history['Loss'].append(valid_loss)\n",
    "    valid_history['Acc'].append(valid_acc)\n",
    "    \n",
    "    print(f'Epoch: {epoch+1}/{num_epochs} | Train Loss: {train_loss:.4f} | Train Acc: {train_acc:.4f} | Valid Loss: {valid_loss:.4f} | Valid Acc: {valid_acc:.4f}')\n",
    "\n",
    "    # 검증 손실이 최소일 때 체크포인트 저장\n",
    "    if valid_loss < best_val_loss:\n",
    "        print(f'Validation loss improved from {best_val_loss:.4f} to {valid_loss:.4f}. 체크포인트를 저장합니다.')\n",
    "        best_val_loss = valid_loss\n",
    "        torch.save(model.state_dict(), 'best_model_komoran.pth')\n"
   ]
  },
  {
   "cell_type": "code",
   "execution_count": 56,
   "metadata": {},
   "outputs": [
    {
     "data": {
      "text/plain": [
       "<matplotlib.legend.Legend at 0x18a78eab190>"
      ]
     },
     "execution_count": 56,
     "metadata": {},
     "output_type": "execute_result"
    },
    {
     "data": {
      "image/png": "[encoded data removed]",
      "text/plain": [
       "<Figure size 1000x400 with 2 Axes>"
      ]
     },
     "metadata": {},
     "output_type": "display_data"
    }
   ],
   "source": [
    "# show plot\n",
    "\n",
    "TH = len(train_history['Loss'])\n",
    "plt.figure(figsize=(10, 4))\n",
    "# Loss\n",
    "plt.subplot(1, 2, 1)\n",
    "plt.plot(range(1, TH+1), train_history['Loss'], 'r-', label='Train')\n",
    "plt.plot(range(1, TH+1), valid_history['Loss'], 'b-', label='Valid')\n",
    "plt.grid()\n",
    "plt.title('Loss over Epochs')\n",
    "plt.xlabel('Epochs')\n",
    "plt.ylabel('Loss')\n",
    "plt.legend()\n",
    "\n",
    "# Accuracy\n",
    "plt.subplot(1, 2, 2)\n",
    "plt.plot(range(1, TH+1), train_history['Acc'], 'r-', label='Train')\n",
    "plt.plot(range(1, TH+1), valid_history['Acc'], 'b-', label='Valid')\n",
    "plt.grid()\n",
    "plt.title('Accuracy over Epochs')\n",
    "plt.xlabel('Epochs')\n",
    "plt.ylabel('Accuracy')\n",
    "plt.legend()"
   ]
  },
  {
   "cell_type": "code",
   "execution_count": null,
   "metadata": {},
   "outputs": [],
   "source": []
  },
  {
   "cell_type": "markdown",
   "metadata": {},
   "source": [
    "#### 모델 로드"
   ]
  },
  {
   "cell_type": "code",
   "execution_count": 57,
   "metadata": {},
   "outputs": [
    {
     "name": "stdout",
     "output_type": "stream",
     "text": [
      "Best model validation loss: 1.0019\n",
      "Best model validation accuracy: 0.7985\n"
     ]
    }
   ],
   "source": [
    "# 모델 로드\n",
    "model.load_state_dict(torch.load('best_model_komoran.pth'))\n",
    "\n",
    "# 모델을 device에 올립니다.\n",
    "model.to(device)\n",
    "\n",
    "# 검증 데이터에 대한 정확도와 손실 계산\n",
    "val_loss, val_accuracy = evaluation(model, valid_dataloader, loss_function, device)\n",
    "\n",
    "print(f'Best model validation loss: {val_loss:.4f}')\n",
    "print(f'Best model validation accuracy: {val_accuracy:.4f}')\n"
   ]
  },
  {
   "cell_type": "code",
   "execution_count": 58,
   "metadata": {},
   "outputs": [
    {
     "name": "stdout",
     "output_type": "stream",
     "text": [
      "2638\n",
      "2284\n"
     ]
    }
   ],
   "source": [
    "print(tar_vocab['<sos>'])\n",
    "print(tar_vocab['<eos>'])\n"
   ]
  },
  {
   "cell_type": "markdown",
   "metadata": {},
   "source": [
    "#### seq2seq 번역기 동작시키기"
   ]
  },
  {
   "cell_type": "code",
   "execution_count": 60,
   "metadata": {},
   "outputs": [],
   "source": [
    "index_to_src = {v: k for k, v in src_vocab.items()}\n",
    "index_to_tar = {v: k for k, v in tar_vocab.items()}\n",
    "\n",
    "# 원문의 정수 시퀀스를 텍스트 시퀀스로 변환\n",
    "def seq_to_src(input_seq):\n",
    "  sentence = ''\n",
    "  for encoded_word in input_seq:\n",
    "    if(encoded_word != 0):\n",
    "      sentence = sentence + index_to_src[encoded_word] + ' '\n",
    "  return sentence\n",
    "\n",
    "# 번역문의 정수 시퀀스를 텍스트 시퀀스로 변환\n",
    "def seq_to_tar(input_seq):\n",
    "  sentence = ''\n",
    "  for encoded_word in input_seq:\n",
    "    if(encoded_word != 0 and encoded_word != tar_vocab['<sos>'] and encoded_word != tar_vocab['<eos>']):\n",
    "      sentence = sentence + index_to_tar[encoded_word] + ' '\n",
    "  return sentence\n"
   ]
  },
  {
   "cell_type": "code",
   "execution_count": null,
   "metadata": {},
   "outputs": [],
   "source": [
    "print(encoder_input_test[25])\n",
    "print(decoder_input_test[25])\n",
    "print(decoder_target_test[25])"
   ]
  },
  {
   "cell_type": "code",
   "execution_count": 59,
   "metadata": {},
   "outputs": [],
   "source": [
    "def decode_sequence(input_seq, model, src_vocab_size, tar_vocab_size, max_output_len, int_to_src_token, int_to_tar_token):\n",
    "    encoder_inputs = torch.tensor(input_seq, dtype=torch.long).unsqueeze(0).to(device)\n",
    "\n",
    "    # 인코더의 초기 상태 설정\n",
    "    hidden, cell = model.encoder(encoder_inputs)\n",
    "\n",
    "    # 시작 토큰 <sos>을 디코더의 첫 입력으로 설정\n",
    "    # unsqueeze(0)는 배치 차원을 추가하기 위함.\n",
    "    decoder_input = torch.tensor([2638], dtype=torch.long).unsqueeze(0).to(device)\n",
    "\n",
    "    decoded_tokens = []\n",
    "\n",
    "    # for문을 도는 것 == 디코더의 각 시점\n",
    "    for _ in range(max_output_len):\n",
    "        output, hidden, cell = model.decoder(decoder_input, hidden, cell)\n",
    "\n",
    "        # 소프트맥스 회귀를 수행. 예측 단어의 인덱스\n",
    "        output_token = output.argmax(dim=-1).item()\n",
    "\n",
    "        # 종료 토큰 <eos>\n",
    "        if output_token == 2284:\n",
    "            break\n",
    "\n",
    "        # 각 시점의 단어(정수)는 decoded_tokens에 누적하였다가 최종 번역 시퀀스로 리턴합니다.\n",
    "        decoded_tokens.append(output_token)\n",
    "\n",
    "        # 현재 시점의 예측. 다음 시점의 입력으로 사용된다.\n",
    "        decoder_input = torch.tensor([output_token], dtype=torch.long).unsqueeze(0).to(device)\n",
    "\n",
    "    return ' '.join(int_to_tar_token[token] for token in decoded_tokens)\n"
   ]
  },
  {
   "cell_type": "code",
   "execution_count": null,
   "metadata": {},
   "outputs": [],
   "source": [
    "encoder_input_test[1]"
   ]
  },
  {
   "cell_type": "code",
   "execution_count": 62,
   "metadata": {},
   "outputs": [
    {
     "name": "stdout",
     "output_type": "stream",
     "text": [
      "입력문장 : 수박 은 크 ㄴ 게 맛있 다고 하 는데 참외 는 작 은 게 맛있 는 거 맛있 다고 작 은 게 맛있 는 거 아니 ㅂ니까 \n",
      "정답문장 : 수박 은 크 ㄴ 기 맛있 다고 카 는데 참외 는 작 은 게 맛있 는 거 마시 따 꼬 작 은 기 맛있 는 거 아이 이 ㅂ니까 \n",
      "번역문장 : 수박 은 크 ㄴ 게 맛있 다고 하 는데 참외 는 작 은 게 맛있 는 건 교\n",
      "--------------------------------------------------\n",
      "입력문장 : 지금 은 안개 도 짙 고 파도 가 높 아서 배 가 전혀 못 다니 ㄴ다고 하 더라고요 \n",
      "정답문장 : 지금 은 안개 도 짙 고 파도 가 높 아서 배 가 전혀 못 다니 ㄴ다고 하 더라 꼬 요 \n",
      "번역문장 : 지금 안 기 도 짙 고 파도 가 노파 가 배 가 만 괴 못 댕기 ㄴ다 꼬 하대 예\n",
      "--------------------------------------------------\n",
      "입력문장 : 요즘 날씨 가 가물 어서 농사 도 못 짓 고 계속 집 에 만 있 어서 정말 답답 하 아 \n",
      "정답문장 : 오 새 날씨 가 가물 어서 농사 도 몰 ㄴ 짓 고 계속 집 에 만 이 쓰이 께 네 정말 답답 하 아 \n",
      "번역문장 : 요새 날씨 가 가물 어서 농사 도 못 짓 고 계속 집 에 만 이 쓰 니께 정말 답답 하 네\n",
      "--------------------------------------------------\n",
      "입력문장 : 배추 한 포기 키우 는 것 도 이렇 게 힘들 ㄴ데 어머니 는 어떻 게 평생 농사 를 짓 고 살 시 었 을까 \n",
      "정답문장 : 배치 한 포기 키우 는 것 도 이러쿠럼 힘들 ㄴ디 어 모이 는 우예 펭생 농 새 를 짓 고 살 라 쓸 라 \n",
      "번역문장 : 배치 한 포기 키우 는 것 도 이러쿠럼 힘들 ㄴ디 어 무 이 는 우예 평생 농사 를 짓 고 살 았 을라\n",
      "--------------------------------------------------\n",
      "입력문장 : 여기 는 시골 이 라 교통 이 좀 불편 하 ㄴ데 공기 도 깨끗 하 고 경치 가 참 좋 아요 \n",
      "정답문장 : 여개 는 시골 이 라 교통 이 쪼 ㅁ 불펜 하 ㄴ디 공기 도 깨 끔 하 고 겡치가 참 조 아예 \n",
      "번역문장 : 여기 는 시골 이 라 교통 이 좀 불편 하 ㄴ디 공기 도 깨 끔 하 고 경치 가 참 조 아예\n",
      "--------------------------------------------------\n"
     ]
    }
   ],
   "source": [
    "#### 번역 모델 결과 확인\n",
    "for seq_index in [3, 50, 100, 304, 1004]:\n",
    "  input_seq = encoder_input_test[seq_index]\n",
    "  translated_text = decode_sequence(input_seq, model, src_vocab_size, tar_vocab_size, 100, index_to_src, index_to_tar)\n",
    "\n",
    "  print(\"입력문장 :\",seq_to_src(encoder_input_test[seq_index]))\n",
    "  print(\"정답문장 :\",seq_to_tar(decoder_input_test[seq_index]))\n",
    "  print(\"번역문장 :\",translated_text)\n",
    "  print(\"-\"*50)\n"
   ]
  },
  {
   "cell_type": "code",
   "execution_count": 63,
   "metadata": {},
   "outputs": [
    {
     "name": "stdout",
     "output_type": "stream",
     "text": [
      "입력문장 : 수박 은 크 ㄴ 게 맛있 다고 하 는데 참외 는 작 은 게 맛있 는 거 맛있 다고 작 은 게 맛있 는 거 아니 ㅂ니까 \n",
      "번역문장 : 수박 은 크 ㄴ 게 맛있 다고 하 는데 참외 는 작 은 게 맛있 는 건 교\n",
      "--------------------------------------------------\n",
      "입력문장 : 지금 은 안개 도 짙 고 파도 가 높 아서 배 가 전혀 못 다니 ㄴ다고 하 더라고요 \n",
      "번역문장 : 지금 안 기 도 짙 고 파도 가 노파 가 배 가 만 괴 못 댕기 ㄴ다 꼬 하대 예\n",
      "--------------------------------------------------\n",
      "입력문장 : 요즘 날씨 가 가물 어서 농사 도 못 짓 고 계속 집 에 만 있 어서 정말 답답 하 아 \n",
      "번역문장 : 요새 날씨 가 가물 어서 농사 도 못 짓 고 계속 집 에 만 이 쓰 니께 정말 답답 하 네\n",
      "--------------------------------------------------\n",
      "입력문장 : 배추 한 포기 키우 는 것 도 이렇 게 힘들 ㄴ데 어머니 는 어떻 게 평생 농사 를 짓 고 살 시 었 을까 \n",
      "번역문장 : 배치 한 포기 키우 는 것 도 이러쿠럼 힘들 ㄴ디 어 무 이 는 우예 평생 농사 를 짓 고 살 았 을라\n",
      "--------------------------------------------------\n",
      "입력문장 : 여기 는 시골 이 라 교통 이 좀 불편 하 ㄴ데 공기 도 깨끗 하 고 경치 가 참 좋 아요 \n",
      "번역문장 : 여기 는 시골 이 라 교통 이 좀 불편 하 ㄴ디 공기 도 깨 끔 하 고 경치 가 참 조 아예\n",
      "--------------------------------------------------\n"
     ]
    }
   ],
   "source": [
    "#### 번역 모델 결과 확인\n",
    "for seq_index in [3, 50, 100, 304, 1004]:\n",
    "  input_seq = encoder_input_test[seq_index]\n",
    "  translated_text = decode_sequence(input_seq, model, src_vocab_size, tar_vocab_size, 100, index_to_src, index_to_tar)\n",
    "\n",
    "  print(\"입력문장 :\",seq_to_src(encoder_input_test[seq_index]))\n",
    "  print(\"번역문장 :\",translated_text)\n",
    "  print(\"-\"*50)"
   ]
  },
  {
   "cell_type": "code",
   "execution_count": null,
   "metadata": {},
   "outputs": [],
   "source": []
  }
 ],
 "metadata": {
  "kernelspec": {
   "display_name": "TEXT_018_230_38",
   "language": "python",
   "name": "python3"
  },
  "language_info": {
   "codemirror_mode": {
    "name": "ipython",
    "version": 3
   },
   "file_extension": ".py",
   "mimetype": "text/x-python",
   "name": "python",
   "nbconvert_exporter": "python",
   "pygments_lexer": "ipython3",
   "version": "3.8.19"
  }
 },
 "nbformat": 4,
 "nbformat_minor": 2
}

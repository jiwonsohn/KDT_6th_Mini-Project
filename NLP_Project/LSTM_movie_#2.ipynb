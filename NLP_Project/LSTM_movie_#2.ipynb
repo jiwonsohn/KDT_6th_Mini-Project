{
 "cells": [
  {
   "cell_type": "markdown",
   "metadata": {},
   "source": [
    "\n"
   ]
  },
  {
   "cell_type": "code",
   "execution_count": 1,
   "metadata": {},
   "outputs": [],
   "source": [
    "# 토큰화 & 형태소 분석 모듈 ----------------------------------\n",
    "from konlpy.tag import Okt\n",
    "from collections import Counter\n",
    "\n",
    "# 파이토치 모듈 ----------------------------------------------\n",
    "import torch\n",
    "import torch.nn as nn\n",
    "from torch.utils.data import TensorDataset, DataLoader\n",
    "from torch import optim\n",
    "from torchmetrics.classification import MulticlassF1Score\n",
    "import torch.optim.lr_scheduler as lr_scheduler\n",
    "from torchmetrics.classification import BinaryAccuracy\n",
    "\n",
    "# 데이터 전처리 & 로드 모듈 -----------------------------------\n",
    "import re\n",
    "import os\n",
    "import pandas as pd\n",
    "import numpy as np\n",
    "import time\n",
    "\n",
    "import matplotlib.pyplot as plt\n",
    "\n",
    "# 개인 정리 모듈 \n",
    "from RNN_utils import *"
   ]
  },
  {
   "cell_type": "code",
   "execution_count": 2,
   "metadata": {},
   "outputs": [
    {
     "data": {
      "text/html": [
       "<div>\n",
       "<style scoped>\n",
       "    .dataframe tbody tr th:only-of-type {\n",
       "        vertical-align: middle;\n",
       "    }\n",
       "\n",
       "    .dataframe tbody tr th {\n",
       "        vertical-align: top;\n",
       "    }\n",
       "\n",
       "    .dataframe thead th {\n",
       "        text-align: right;\n",
       "    }\n",
       "</style>\n",
       "<table border=\"1\" class=\"dataframe\">\n",
       "  <thead>\n",
       "    <tr style=\"text-align: right;\">\n",
       "      <th></th>\n",
       "      <th>review</th>\n",
       "      <th>rating</th>\n",
       "      <th>label</th>\n",
       "    </tr>\n",
       "  </thead>\n",
       "  <tbody>\n",
       "    <tr>\n",
       "      <th>0</th>\n",
       "      <td>시종일관 강약없는 비장은 실소를 유발\\n 박영태님, 신윤수님과 함께.</td>\n",
       "      <td>2.0</td>\n",
       "      <td>0</td>\n",
       "    </tr>\n",
       "    <tr>\n",
       "      <th>1</th>\n",
       "      <td>최민식이 이순신으로 나와서 일본사람 잡는데 대한민국사람이라면 감동해야지?? 라고 강...</td>\n",
       "      <td>1.0</td>\n",
       "      <td>0</td>\n",
       "    </tr>\n",
       "    <tr>\n",
       "      <th>2</th>\n",
       "      <td>어쨌든 해전 부분은 인상적.</td>\n",
       "      <td>2.5</td>\n",
       "      <td>0</td>\n",
       "    </tr>\n",
       "    <tr>\n",
       "      <th>3</th>\n",
       "      <td>칼의 노래도 아니고,\\n300도 아니고.\\n뻔한 연출에 과한 연극.\\n성웅을 그린다...</td>\n",
       "      <td>1.5</td>\n",
       "      <td>0</td>\n",
       "    </tr>\n",
       "    <tr>\n",
       "      <th>4</th>\n",
       "      <td>감독이나 관객이나 영화를 보지않고 역사만을 보고 카타르시스를 느끼고있다니</td>\n",
       "      <td>1.0</td>\n",
       "      <td>0</td>\n",
       "    </tr>\n",
       "  </tbody>\n",
       "</table>\n",
       "</div>"
      ],
      "text/plain": [
       "                                              review  rating  label\n",
       "0             시종일관 강약없는 비장은 실소를 유발\\n 박영태님, 신윤수님과 함께.     2.0      0\n",
       "1  최민식이 이순신으로 나와서 일본사람 잡는데 대한민국사람이라면 감동해야지?? 라고 강...     1.0      0\n",
       "2                                    어쨌든 해전 부분은 인상적.     2.5      0\n",
       "3  칼의 노래도 아니고,\\n300도 아니고.\\n뻔한 연출에 과한 연극.\\n성웅을 그린다...     1.5      0\n",
       "4           감독이나 관객이나 영화를 보지않고 역사만을 보고 카타르시스를 느끼고있다니     1.0      0"
      ]
     },
     "execution_count": 2,
     "metadata": {},
     "output_type": "execute_result"
    }
   ],
   "source": [
    "reviewDF = pd.read_csv('./Movie_total.csv', encoding='utf-8-sig')\n",
    "\n",
    "reviewDF.head(5)"
   ]
  },
  {
   "cell_type": "code",
   "execution_count": 3,
   "metadata": {},
   "outputs": [],
   "source": [
    "# 정규식 처리\n",
    "reviewDF['cleaned'] = reviewDF['review'].apply(cleantext)"
   ]
  },
  {
   "cell_type": "code",
   "execution_count": 4,
   "metadata": {},
   "outputs": [
    {
     "data": {
      "text/html": [
       "<div>\n",
       "<style scoped>\n",
       "    .dataframe tbody tr th:only-of-type {\n",
       "        vertical-align: middle;\n",
       "    }\n",
       "\n",
       "    .dataframe tbody tr th {\n",
       "        vertical-align: top;\n",
       "    }\n",
       "\n",
       "    .dataframe thead th {\n",
       "        text-align: right;\n",
       "    }\n",
       "</style>\n",
       "<table border=\"1\" class=\"dataframe\">\n",
       "  <thead>\n",
       "    <tr style=\"text-align: right;\">\n",
       "      <th></th>\n",
       "      <th>review</th>\n",
       "      <th>rating</th>\n",
       "      <th>label</th>\n",
       "      <th>cleaned</th>\n",
       "    </tr>\n",
       "  </thead>\n",
       "  <tbody>\n",
       "    <tr>\n",
       "      <th>0</th>\n",
       "      <td>시종일관 강약없는 비장은 실소를 유발\\n 박영태님, 신윤수님과 함께.</td>\n",
       "      <td>2.0</td>\n",
       "      <td>0</td>\n",
       "      <td>시종일관 강약없는 비장은 실소를 유발\\n 박영태님 신윤수님과 함께</td>\n",
       "    </tr>\n",
       "    <tr>\n",
       "      <th>1</th>\n",
       "      <td>최민식이 이순신으로 나와서 일본사람 잡는데 대한민국사람이라면 감동해야지?? 라고 강...</td>\n",
       "      <td>1.0</td>\n",
       "      <td>0</td>\n",
       "      <td>최민식이 이순신으로 나와서 일본사람 잡는데 대한민국사람이라면 감동해야지 라고 강요하...</td>\n",
       "    </tr>\n",
       "    <tr>\n",
       "      <th>2</th>\n",
       "      <td>어쨌든 해전 부분은 인상적.</td>\n",
       "      <td>2.5</td>\n",
       "      <td>0</td>\n",
       "      <td>어쨌든 해전 부분은 인상적</td>\n",
       "    </tr>\n",
       "    <tr>\n",
       "      <th>3</th>\n",
       "      <td>칼의 노래도 아니고,\\n300도 아니고.\\n뻔한 연출에 과한 연극.\\n성웅을 그린다...</td>\n",
       "      <td>1.5</td>\n",
       "      <td>0</td>\n",
       "      <td>칼의 노래도 아니고\\n도 아니고\\n뻔한 연출에 과한 연극\\n성웅을 그린다고 성역에 ...</td>\n",
       "    </tr>\n",
       "    <tr>\n",
       "      <th>4</th>\n",
       "      <td>감독이나 관객이나 영화를 보지않고 역사만을 보고 카타르시스를 느끼고있다니</td>\n",
       "      <td>1.0</td>\n",
       "      <td>0</td>\n",
       "      <td>감독이나 관객이나 영화를 보지않고 역사만을 보고 카타르시스를 느끼고있다니</td>\n",
       "    </tr>\n",
       "  </tbody>\n",
       "</table>\n",
       "</div>"
      ],
      "text/plain": [
       "                                              review  rating  label  \\\n",
       "0             시종일관 강약없는 비장은 실소를 유발\\n 박영태님, 신윤수님과 함께.     2.0      0   \n",
       "1  최민식이 이순신으로 나와서 일본사람 잡는데 대한민국사람이라면 감동해야지?? 라고 강...     1.0      0   \n",
       "2                                    어쨌든 해전 부분은 인상적.     2.5      0   \n",
       "3  칼의 노래도 아니고,\\n300도 아니고.\\n뻔한 연출에 과한 연극.\\n성웅을 그린다...     1.5      0   \n",
       "4           감독이나 관객이나 영화를 보지않고 역사만을 보고 카타르시스를 느끼고있다니     1.0      0   \n",
       "\n",
       "                                             cleaned  \n",
       "0               시종일관 강약없는 비장은 실소를 유발\\n 박영태님 신윤수님과 함께  \n",
       "1  최민식이 이순신으로 나와서 일본사람 잡는데 대한민국사람이라면 감동해야지 라고 강요하...  \n",
       "2                                     어쨌든 해전 부분은 인상적  \n",
       "3  칼의 노래도 아니고\\n도 아니고\\n뻔한 연출에 과한 연극\\n성웅을 그린다고 성역에 ...  \n",
       "4           감독이나 관객이나 영화를 보지않고 역사만을 보고 카타르시스를 느끼고있다니  "
      ]
     },
     "execution_count": 4,
     "metadata": {},
     "output_type": "execute_result"
    }
   ],
   "source": [
    "reviewDF.head(5)"
   ]
  },
  {
   "cell_type": "code",
   "execution_count": 5,
   "metadata": {},
   "outputs": [
    {
     "name": "stdout",
     "output_type": "stream",
     "text": [
      "<class 'pandas.core.frame.DataFrame'>\n",
      "RangeIndex: 28442 entries, 0 to 28441\n",
      "Data columns (total 4 columns):\n",
      " #   Column   Non-Null Count  Dtype  \n",
      "---  ------   --------------  -----  \n",
      " 0   review   28442 non-null  object \n",
      " 1   rating   28442 non-null  float64\n",
      " 2   label    28442 non-null  int64  \n",
      " 3   cleaned  28442 non-null  object \n",
      "dtypes: float64(1), int64(1), object(2)\n",
      "memory usage: 888.9+ KB\n"
     ]
    }
   ],
   "source": [
    "reviewDF.info()"
   ]
  },
  {
   "cell_type": "code",
   "execution_count": 6,
   "metadata": {},
   "outputs": [
    {
     "name": "stdout",
     "output_type": "stream",
     "text": [
      "Train Data Size: 22754\n",
      "Valid Data Size: 5688\n"
     ]
    }
   ],
   "source": [
    "train = reviewDF.sample(frac=0.8, random_state=12)\n",
    "valid = reviewDF.drop(train.index)\n",
    "\n",
    "# 확인\n",
    "print(f\"Train Data Size: {len(train)}\")\n",
    "print(f\"Valid Data Size: {len(valid)}\")"
   ]
  },
  {
   "cell_type": "code",
   "execution_count": 7,
   "metadata": {},
   "outputs": [
    {
     "data": {
      "text/plain": [
       "608"
      ]
     },
     "execution_count": 7,
     "metadata": {},
     "output_type": "execute_result"
    }
   ],
   "source": [
    "# 불용어 처리 데이터 로드\n",
    "STOP_FILE = './kor_stopwordsVer2.txt'\n",
    "\n",
    "kor_stopwords = clean_korStopwords(STOP_FILE)\n",
    "kor_stopwords.append('.')\n",
    "kor_stopwords.append('\\n')\n",
    "kor_stopwords.append('\\n ')\n",
    "kor_stopwords.append('영화')\n",
    "kor_stopwords.append('은')\n",
    "kor_stopwords.append('는')\n",
    "kor_stopwords.append('유아인')\n",
    "kor_stopwords.append('류승완')\n",
    "kor_stopwords.append('황정민')\n",
    "kor_stopwords.append('이순신')\n",
    "\n",
    "len(kor_stopwords)"
   ]
  },
  {
   "cell_type": "code",
   "execution_count": 8,
   "metadata": {},
   "outputs": [
    {
     "name": "stdout",
     "output_type": "stream",
     "text": [
      "['<pad>', '<unk>', '한', '도', '적', '연기', '잘', '다', '수', '하는']\n",
      "5002\n"
     ]
    }
   ],
   "source": [
    "# 토크나이저 인스턴스 생성\n",
    "tokenizer = Okt()\n",
    "\n",
    "# 토큰화\n",
    "train_tokens = [\n",
    "    [token for token in tokenizer.morphs(article) if token not in kor_stopwords] for article in train.cleaned\n",
    "]\n",
    "\n",
    "valid_tokens = [\n",
    "    [token for token in tokenizer.morphs(article) if token not in kor_stopwords] for article in valid.cleaned\n",
    "]\n",
    "\n",
    "vocab = build_vocab(corpus=train_tokens, n_vocab=5000, special_tokens=[\"<pad>\",\"<unk>\"])\n",
    "token_to_id = {token: idx for idx, token in enumerate(vocab)}\n",
    "it_to_token = {idx: token for idx, token in enumerate(vocab)}\n",
    "\n",
    "print(vocab[:10])\n",
    "print(len(vocab))"
   ]
  },
  {
   "cell_type": "code",
   "execution_count": 9,
   "metadata": {},
   "outputs": [
    {
     "name": "stdout",
     "output_type": "stream",
     "text": [
      "단어 사전이 저장되었습니다.\n"
     ]
    }
   ],
   "source": [
    "# 단어 사전 저장\n",
    "import pickle\n",
    "with open('./vocab.pkl', 'wb') as f:\n",
    "\tpickle.dump(token_to_id, f)\n",
    "\n",
    "print(\"단어 사전이 저장되었습니다.\")"
   ]
  },
  {
   "cell_type": "code",
   "execution_count": 10,
   "metadata": {},
   "outputs": [
    {
     "data": {
      "text/plain": [
       "(array([2.2478e+04, 1.8700e+02, 4.2000e+01, 2.6000e+01, 1.1000e+01,\n",
       "        3.0000e+00, 4.0000e+00, 3.0000e+00]),\n",
       " array([  0.   , 119.375, 238.75 , 358.125, 477.5  , 596.875, 716.25 ,\n",
       "        835.625, 955.   ]),\n",
       " <BarContainer object of 8 artists>)"
      ]
     },
     "execution_count": 10,
     "metadata": {},
     "output_type": "execute_result"
    },
    {
     "data": {
      "image/png": "[encoded data removed]",
      "text/plain": [
       "<Figure size 640x480 with 1 Axes>"
      ]
     },
     "metadata": {},
     "output_type": "display_data"
    }
   ],
   "source": [
    "# 패딩 적정 길이 찾기\n",
    "datalen = [len(tokens) for tokens in train_tokens]\n",
    "plt.hist(datalen, bins=8)"
   ]
  },
  {
   "cell_type": "code",
   "execution_count": 11,
   "metadata": {},
   "outputs": [
    {
     "data": {
      "text/plain": [
       "(array([19461.,  2279.,   438.,   207.,   105.,    80.,    41.,    22.]),\n",
       " array([  0.,  25.,  50.,  75., 100., 125., 150., 175., 200.]),\n",
       " <BarContainer object of 8 artists>)"
      ]
     },
     "execution_count": 11,
     "metadata": {},
     "output_type": "execute_result"
    },
    {
     "data": {
      "image/png": "[encoded data removed]",
      "text/plain": [
       "<Figure size 640x480 with 1 Axes>"
      ]
     },
     "metadata": {},
     "output_type": "display_data"
    }
   ],
   "source": [
    "datalen = [len(tokens) for tokens in train_tokens]\n",
    "datalen_100 = [len(tokens) for tokens in train_tokens if len(tokens) <= 200 ]\n",
    "plt.hist(datalen_100, bins=8)"
   ]
  },
  {
   "cell_type": "code",
   "execution_count": 12,
   "metadata": {},
   "outputs": [
    {
     "data": {
      "text/plain": [
       "(array([4981., 6982., 3744., 2192., 1562., 1090.,  469.,  312.,  247.,\n",
       "         187.]),\n",
       " array([ 0.,  5., 10., 15., 20., 25., 30., 35., 40., 45., 50.]),\n",
       " <BarContainer object of 10 artists>)"
      ]
     },
     "execution_count": 12,
     "metadata": {},
     "output_type": "execute_result"
    },
    {
     "data": {
      "image/png": "[encoded data removed]",
      "text/plain": [
       "<Figure size 640x480 with 1 Axes>"
      ]
     },
     "metadata": {},
     "output_type": "display_data"
    }
   ],
   "source": [
    "datalen = [len(tokens) for tokens in train_tokens]\n",
    "datalen_100 = [len(tokens) for tokens in train_tokens if len(tokens) <= 50 ]\n",
    "plt.hist(datalen_100, bins=10)"
   ]
  },
  {
   "cell_type": "code",
   "execution_count": 13,
   "metadata": {},
   "outputs": [],
   "source": [
    "all_tokens = [token for tokens in train_tokens for token in tokens]\n",
    "token_counts = Counter(all_tokens)\n",
    "frequencies = list(token_counts.values())\n",
    "\n",
    "# token_counts.most_common(80)"
   ]
  },
  {
   "cell_type": "code",
   "execution_count": 14,
   "metadata": {},
   "outputs": [
    {
     "name": "stdout",
     "output_type": "stream",
     "text": [
      "[ 1  1 17  0  0  0  0  0  0  0  0  0  0  0  0  0  0  0  0  0  0  0  0  0\n",
      "  0]\n",
      "[ 124  839    1    1  198   22  286   71 2616  125  638 4277    2    1\n",
      "   76 2299   71    3 2582    0    0    0    0    0    0]\n"
     ]
    }
   ],
   "source": [
    "# 정수 인코딩 & 패딩\n",
    "unk_id = token_to_id[\"<unk>\"]\n",
    "\n",
    "train_ids = [\n",
    "\t[token_to_id.get(token, unk_id) for token in review] for review in train_tokens\n",
    "]\n",
    "\n",
    "valid_ids = [\n",
    "\t[token_to_id.get(token, unk_id) for token in review] for review in valid_tokens\n",
    "]\n",
    "\n",
    "max_length = 25\n",
    "pad_id = token_to_id[\"<pad>\"]\n",
    "train_ids = pad_sequences(train_ids, max_length, pad_id)\n",
    "valid_ids = pad_sequences(valid_ids, max_length, pad_id)\n",
    "\n",
    "print(train_ids[0])\n",
    "print(valid_ids[0])"
   ]
  },
  {
   "cell_type": "code",
   "execution_count": 15,
   "metadata": {},
   "outputs": [],
   "source": [
    "# 데이터 로더 적용\n",
    "train_ids = torch.tensor(train_ids)\n",
    "valid_ids = torch.tensor(valid_ids)\n",
    "\n",
    "train_labels = torch.tensor(train.label.values, dtype=torch.float32)\n",
    "valid_labels = torch.tensor(valid.label.values, dtype=torch.float32)\n",
    "\n",
    "train_DS = TensorDataset(train_ids, train_labels)\n",
    "valid_DS = TensorDataset(valid_ids, valid_labels)\n",
    "\n",
    "train_loader = DataLoader(train_DS, batch_size=16, shuffle=True)\n",
    "valid_loader = DataLoader(valid_DS, batch_size=1, shuffle=False)"
   ]
  },
  {
   "cell_type": "code",
   "execution_count": 16,
   "metadata": {},
   "outputs": [
    {
     "data": {
      "text/plain": [
       "1.233021904687132"
      ]
     },
     "execution_count": 16,
     "metadata": {},
     "output_type": "execute_result"
    }
   ],
   "source": [
    "reviewDF['label'].value_counts()[0] / reviewDF['label'].value_counts()[1]"
   ]
  },
  {
   "cell_type": "code",
   "execution_count": 17,
   "metadata": {},
   "outputs": [
    {
     "name": "stderr",
     "output_type": "stream",
     "text": [
      "c:\\Users\\KDP-43\\anaconda3\\envs\\TEXT_018_230_38\\lib\\site-packages\\torch\\nn\\modules\\rnn.py:83: UserWarning: dropout option adds dropout after all but last recurrent layer, so non-zero dropout expects num_layers greater than 1, but got dropout=0.7 and num_layers=1\n",
      "  warnings.warn(\"dropout option adds dropout after all but last \"\n",
      "c:\\Users\\KDP-43\\anaconda3\\envs\\TEXT_018_230_38\\lib\\site-packages\\torch\\optim\\lr_scheduler.py:28: UserWarning: The verbose parameter is deprecated. Please use get_last_lr() to access the learning rate.\n",
      "  warnings.warn(\"The verbose parameter is deprecated. Please use get_last_lr() \"\n"
     ]
    }
   ],
   "source": [
    "# 모델 파라미터 정의\n",
    "n_vocab = len(token_to_id)\n",
    "hidden_dim = 8\n",
    "embedding_dim = 128\n",
    "n_layers = 1\n",
    "model_type = \"lstm\"\n",
    "\n",
    "pos_weight = torch.FloatTensor([reviewDF['label'].value_counts()[0] / reviewDF['label'].value_counts()[1]])\n",
    "\n",
    "device = \"cuda\" if torch.cuda.is_available() else \"cpu\"\n",
    "\n",
    "classifier = SentenceClassifier(\n",
    "    n_vocab=n_vocab, hidden_dim=hidden_dim, embedding_dim=embedding_dim, n_layers=n_layers\n",
    ").to(device)\n",
    "\n",
    "lossFunc = nn.BCEWithLogitsLoss(pos_weight=pos_weight).to(device)\n",
    "# optimizer = optim.RMSprop(classifier.parameters(), lr=0.001)\n",
    "optimizer = optim.Adam(classifier.parameters(), lr=0.001, weight_decay=1e-5\t)\n",
    "scoreFunc = BinaryAccuracy().to(device)\n",
    "\n",
    "scheduler = lr_scheduler.ReduceLROnPlateau(optimizer, mode='max', patience=5, verbose=True) # score 사용 시"
   ]
  },
  {
   "cell_type": "code",
   "execution_count": 18,
   "metadata": {},
   "outputs": [
    {
     "name": "stdout",
     "output_type": "stream",
     "text": [
      "----------\n",
      "Epoch 1/20\n",
      "----------\n",
      "Epoch 1/20\n",
      "Train Loss: 0.7670 | Train Acc: 0.5060\n",
      "Valid Loss: 0.7641 | Valid Acc: 0.5596\n",
      "scheduler.num_bad_epochs => 0 scheduler.patience => 5\n",
      "----------\n",
      "Epoch 2/20\n",
      "----------\n",
      "Epoch 2/20\n",
      "Train Loss: 0.7646 | Train Acc: 0.5047\n",
      "Valid Loss: 0.7635 | Valid Acc: 0.5596\n",
      "scheduler.num_bad_epochs => 1 scheduler.patience => 5\n",
      "----------\n",
      "Epoch 3/20\n",
      "----------\n",
      "Epoch 3/20\n",
      "Train Loss: 0.7622 | Train Acc: 0.5172\n",
      "Valid Loss: 0.7627 | Valid Acc: 0.5596\n",
      "scheduler.num_bad_epochs => 2 scheduler.patience => 5\n",
      "----------\n",
      "Epoch 4/20\n",
      "----------\n",
      "Epoch 4/20\n",
      "Train Loss: 0.7513 | Train Acc: 0.5502\n",
      "Valid Loss: 0.7369 | Valid Acc: 0.5682\n",
      "scheduler.num_bad_epochs => 3 scheduler.patience => 5\n",
      "----------\n",
      "Epoch 5/20\n",
      "----------\n",
      "Epoch 5/20\n",
      "Train Loss: 0.7084 | Train Acc: 0.6449\n",
      "Valid Loss: 0.7318 | Valid Acc: 0.6227\n",
      "scheduler.num_bad_epochs => 4 scheduler.patience => 5\n",
      "----------\n",
      "Epoch 6/20\n",
      "----------\n",
      "Epoch 6/20\n",
      "Train Loss: 0.6582 | Train Acc: 0.6998\n",
      "Valid Loss: 0.7283 | Valid Acc: 0.6391\n",
      "scheduler.num_bad_epochs => 5 scheduler.patience => 5\n",
      "----------\n",
      "Epoch 7/20\n",
      "----------\n",
      "Epoch 7/20\n",
      "Train Loss: 0.6191 | Train Acc: 0.7366\n",
      "Valid Loss: 0.7307 | Valid Acc: 0.6399\n",
      "scheduler.num_bad_epochs => 0 scheduler.patience => 5\n",
      "----------\n",
      "Epoch 8/20\n",
      "----------\n",
      "Epoch 8/20\n",
      "Train Loss: 0.5559 | Train Acc: 0.7853\n",
      "Valid Loss: 0.7497 | Valid Acc: 0.6519\n",
      "scheduler.num_bad_epochs => 1 scheduler.patience => 5\n",
      "----------\n",
      "Epoch 9/20\n",
      "----------\n",
      "Epoch 9/20\n",
      "Train Loss: 0.5460 | Train Acc: 0.7936\n",
      "Valid Loss: 0.7481 | Valid Acc: 0.6559\n",
      "scheduler.num_bad_epochs => 2 scheduler.patience => 5\n",
      "----------\n",
      "Epoch 10/20\n",
      "----------\n",
      "Epoch 10/20\n",
      "Train Loss: 0.5356 | Train Acc: 0.7962\n",
      "Valid Loss: 0.7526 | Valid Acc: 0.6579\n",
      "scheduler.num_bad_epochs => 3 scheduler.patience => 5\n",
      "----------\n",
      "Epoch 11/20\n",
      "----------\n",
      "Epoch 11/20\n",
      "Train Loss: 0.5272 | Train Acc: 0.8050\n",
      "Valid Loss: 0.7517 | Valid Acc: 0.6591\n",
      "scheduler.num_bad_epochs => 4 scheduler.patience => 5\n",
      "----------\n",
      "Epoch 12/20\n",
      "----------\n",
      "Epoch 12/20\n",
      "Train Loss: 0.5204 | Train Acc: 0.8102\n",
      "Valid Loss: 0.7617 | Valid Acc: 0.6596\n",
      "scheduler.num_bad_epochs => 5 scheduler.patience => 5\n",
      "----------\n",
      "Epoch 13/20\n",
      "----------\n",
      "Epoch 13/20\n",
      "Train Loss: 0.5118 | Train Acc: 0.8138\n",
      "Valid Loss: 0.7654 | Valid Acc: 0.6593\n",
      "scheduler.num_bad_epochs => 0 scheduler.patience => 5\n",
      "----------\n",
      "Epoch 14/20\n",
      "----------\n",
      "Epoch 14/20\n",
      "Train Loss: 0.5002 | Train Acc: 0.8213\n",
      "Valid Loss: 0.7734 | Valid Acc: 0.6617\n",
      "scheduler.num_bad_epochs => 0 scheduler.patience => 5\n",
      "----------\n",
      "Epoch 15/20\n",
      "----------\n",
      "Epoch 15/20\n",
      "Train Loss: 0.4944 | Train Acc: 0.8226\n",
      "Valid Loss: 0.7710 | Valid Acc: 0.6644\n",
      "scheduler.num_bad_epochs => 1 scheduler.patience => 5\n",
      "----------\n",
      "Epoch 16/20\n",
      "----------\n",
      "Epoch 16/20\n",
      "Train Loss: 0.4845 | Train Acc: 0.8282\n",
      "Valid Loss: 0.7785 | Valid Acc: 0.6614\n",
      "scheduler.num_bad_epochs => 0 scheduler.patience => 5\n",
      "----------\n",
      "Epoch 17/20\n",
      "----------\n",
      "Epoch 17/20\n",
      "Train Loss: 0.4822 | Train Acc: 0.8314\n",
      "Valid Loss: 0.7899 | Valid Acc: 0.6619\n",
      "scheduler.num_bad_epochs => 0 scheduler.patience => 5\n",
      "----------\n",
      "Epoch 18/20\n",
      "----------\n",
      "Epoch 18/20\n",
      "Train Loss: 0.4708 | Train Acc: 0.8362\n",
      "Valid Loss: 0.7918 | Valid Acc: 0.6630\n",
      "scheduler.num_bad_epochs => 0 scheduler.patience => 5\n",
      "----------\n",
      "Epoch 19/20\n",
      "----------\n",
      "Epoch 19/20\n",
      "Train Loss: 0.4643 | Train Acc: 0.8401\n",
      "Valid Loss: 0.7953 | Valid Acc: 0.6651\n",
      "scheduler.num_bad_epochs => 0 scheduler.patience => 5\n",
      "----------\n",
      "Epoch 20/20\n",
      "----------\n",
      "Epoch 20/20\n",
      "Train Loss: 0.4565 | Train Acc: 0.8432\n",
      "Valid Loss: 0.8068 | Valid Acc: 0.6632\n",
      "scheduler.num_bad_epochs => 0 scheduler.patience => 5\n",
      "모델 학습 시간: 7분 53초\n"
     ]
    },
    {
     "data": {
      "image/png": "[encoded data removed]",
      "text/plain": [
       "<Figure size 1000x400 with 2 Axes>"
      ]
     },
     "metadata": {},
     "output_type": "display_data"
    }
   ],
   "source": [
    "trainval_Binary(classifier, train_loader, valid_loader, lossFunc, scoreFunc, optimizer, device, scheduler, num_epochs=20)"
   ]
  },
  {
   "cell_type": "markdown",
   "metadata": {},
   "source": [
    "- hidden_dim  (64=>32): 모델 학습 시간: 20분 40초"
   ]
  },
  {
   "cell_type": "markdown",
   "metadata": {},
   "source": [
    "* LSTM, hidd_dim=32, max_length = 25\n",
    "----------\n",
    "Epoch 1/20\n",
    "----------\n",
    "Epoch 1/20\n",
    "Train Loss: 0.7668 | Train Acc: 0.4916\n",
    "Valid Loss: 0.7643 | Valid Acc: 0.5596\n",
    "scheduler.num_bad_epochs => 0 scheduler.patience => 5\n",
    "----------\n",
    "Epoch 2/20\n",
    "----------\n",
    "Epoch 2/20\n",
    "Train Loss: 0.7660 | Train Acc: 0.5026\n",
    "Valid Loss: 0.7646 | Valid Acc: 0.5596\n",
    "scheduler.num_bad_epochs => 0 scheduler.patience => 5\n",
    "----------\n",
    "Epoch 3/20\n",
    "----------\n",
    "Epoch 3/20\n",
    "Train Loss: 0.7660 | Train Acc: 0.4891\n",
    "Valid Loss: 0.7641 | Valid Acc: 0.5596\n",
    "scheduler.num_bad_epochs => 1 scheduler.patience => 5\n",
    "----------\n",
    "Epoch 4/20\n",
    "----------\n",
    "Epoch 4/20\n",
    "Train Loss: 0.7624 | Train Acc: 0.5173\n",
    "Valid Loss: 0.7547 | Valid Acc: 0.5596\n",
    "scheduler.num_bad_epochs => 2 scheduler.patience => 5\n",
    "----------\n",
    "Epoch 5/20\n",
    "----------\n",
    "Epoch 5/20\n",
    "Train Loss: 0.7429 | Train Acc: 0.5658\n",
    "Valid Loss: 0.7438 | Valid Acc: 0.5654\n",
    "scheduler.num_bad_epochs => 3 scheduler.patience => 5\n",
    "----------\n",
    "Epoch 6/20\n",
    "----------\n",
    "Epoch 6/20\n",
    "Train Loss: 0.7089 | Train Acc: 0.6167\n",
    "Valid Loss: 0.7391 | Valid Acc: 0.5786\n",
    "scheduler.num_bad_epochs => 4 scheduler.patience => 5\n",
    "----------\n",
    "Epoch 7/20\n",
    "----------\n",
    "Epoch 7/20\n",
    "Train Loss: 0.6727 | Train Acc: 0.6520\n",
    "Valid Loss: 0.7502 | Valid Acc: 0.6011\n",
    "scheduler.num_bad_epochs => 5 scheduler.patience => 5\n",
    "----------\n",
    "Epoch 8/20\n",
    "----------\n",
    "Epoch 8/20\n",
    "Train Loss: 0.6358 | Train Acc: 0.6829\n",
    "Valid Loss: 0.7714 | Valid Acc: 0.6143\n",
    "scheduler.num_bad_epochs => 0 scheduler.patience => 5\n",
    "----------\n",
    "Epoch 9/20\n",
    "----------\n",
    "Epoch 9/20\n",
    "Train Loss: 0.5948 | Train Acc: 0.7084\n",
    "Valid Loss: 0.7912 | Valid Acc: 0.6166\n",
    "scheduler.num_bad_epochs => 0 scheduler.patience => 5\n",
    "----------\n",
    "Epoch 10/20\n",
    "----------\n",
    "Epoch 10/20\n",
    "Train Loss: 0.5523 | Train Acc: 0.7341\n",
    "Valid Loss: 0.7965 | Valid Acc: 0.6241\n",
    "scheduler.num_bad_epochs => 0 scheduler.patience => 5\n",
    "----------\n",
    "Epoch 11/20\n",
    "----------\n",
    "Epoch 11/20\n",
    "Train Loss: 0.5108 | Train Acc: 0.7616\n",
    "Valid Loss: 0.8577 | Valid Acc: 0.6384\n",
    "scheduler.num_bad_epochs => 0 scheduler.patience => 5\n",
    "----------\n",
    "Epoch 12/20\n",
    "----------\n",
    "Epoch 12/20\n",
    "Train Loss: 0.4662 | Train Acc: 0.8017\n",
    "Valid Loss: 0.8343 | Valid Acc: 0.6363\n",
    "scheduler.num_bad_epochs => 1 scheduler.patience => 5\n",
    "----------\n",
    "Epoch 13/20\n",
    "----------\n",
    "Epoch 13/20\n",
    "Train Loss: 0.4252 | Train Acc: 0.8280\n",
    "Valid Loss: 0.9752 | Valid Acc: 0.6477\n",
    "scheduler.num_bad_epochs => 0 scheduler.patience => 5\n",
    "----------\n",
    "Epoch 14/20\n",
    "----------\n",
    "Epoch 14/20\n",
    "Train Loss: 0.3838 | Train Acc: 0.8517\n",
    "Valid Loss: 1.0027 | Valid Acc: 0.6431\n",
    "scheduler.num_bad_epochs => 0 scheduler.patience => 5\n",
    "----------\n",
    "Epoch 15/20\n",
    "----------\n",
    "Epoch 15/20\n",
    "Train Loss: 0.3427 | Train Acc: 0.8758\n",
    "Valid Loss: 1.0047 | Valid Acc: 0.6479\n",
    "scheduler.num_bad_epochs => 0 scheduler.patience => 5\n",
    "----------\n",
    "Epoch 16/20\n",
    "----------\n",
    "Epoch 16/20\n",
    "Train Loss: 0.3282 | Train Acc: 0.8843\n",
    "Valid Loss: 1.0504 | Valid Acc: 0.6632\n",
    "scheduler.num_bad_epochs => 0 scheduler.patience => 5\n",
    "----------\n",
    "Epoch 17/20\n",
    "----------\n",
    "Epoch 17/20\n",
    "Train Loss: 0.2983 | Train Acc: 0.8995\n",
    "Valid Loss: 1.1370 | Valid Acc: 0.6551\n",
    "scheduler.num_bad_epochs => 0 scheduler.patience => 5\n",
    "----------\n",
    "Epoch 18/20\n",
    "----------\n",
    "Epoch 18/20\n",
    "Train Loss: 0.2765 | Train Acc: 0.9075\n",
    "Valid Loss: 1.1910 | Valid Acc: 0.6616\n",
    "scheduler.num_bad_epochs => 0 scheduler.patience => 5\n",
    "----------\n",
    "Epoch 19/20\n",
    "----------\n",
    "Epoch 19/20\n",
    "Train Loss: 0.2571 | Train Acc: 0.9135\n",
    "Valid Loss: 1.1943 | Valid Acc: 0.6628\n",
    "scheduler.num_bad_epochs => 0 scheduler.patience => 5\n",
    "----------\n",
    "Epoch 20/20\n",
    "----------\n",
    "Epoch 20/20\n",
    "Train Loss: 0.2397 | Train Acc: 0.9211\n",
    "Valid Loss: 1.2308 | Valid Acc: 0.6672\n",
    "scheduler.num_bad_epochs => 0 scheduler.patience => 5\n",
    "모델 학습 시간: 15분 29초\n"
   ]
  },
  {
   "cell_type": "markdown",
   "metadata": {},
   "source": [
    "* GRU, hidd_dim = 32\n",
    "<br></br>\n",
    "----------\n",
    "Epoch 1/20\n",
    "----------\n",
    "Epoch 1/20\n",
    "Train Loss: 0.7664 | Train Acc: 0.4884\n",
    "Valid Loss: 0.7643 | Valid Acc: 0.5596\n",
    "scheduler.num_bad_epochs => 0 scheduler.patience => 5\n",
    "----------\n",
    "Epoch 2/20\n",
    "----------\n",
    "Epoch 2/20\n",
    "Train Loss: 0.7659 | Train Acc: 0.4974\n",
    "Valid Loss: 0.7645 | Valid Acc: 0.5596\n",
    "scheduler.num_bad_epochs => 0 scheduler.patience => 5\n",
    "----------\n",
    "Epoch 3/20\n",
    "----------\n",
    "Epoch 3/20\n",
    "Train Loss: 0.7661 | Train Acc: 0.4986\n",
    "Valid Loss: 0.7650 | Valid Acc: 0.5596\n",
    "scheduler.num_bad_epochs => 0 scheduler.patience => 5\n",
    "----------\n",
    "Epoch 4/20\n",
    "----------\n",
    "Epoch 4/20\n",
    "Train Loss: 0.7655 | Train Acc: 0.5043\n",
    "Valid Loss: 0.7647 | Valid Acc: 0.5596\n",
    "scheduler.num_bad_epochs => 1 scheduler.patience => 5\n",
    "----------\n",
    "Epoch 5/20\n",
    "----------\n",
    "Epoch 5/20\n",
    "Train Loss: 0.7651 | Train Acc: 0.4980\n",
    "Valid Loss: 0.7643 | Valid Acc: 0.5596\n",
    "scheduler.num_bad_epochs => 2 scheduler.patience => 5\n",
    "----------\n",
    "Epoch 6/20\n",
    "----------\n",
    "Epoch 6/20\n",
    "Train Loss: 0.7613 | Train Acc: 0.5030\n",
    "Valid Loss: 0.7655 | Valid Acc: 0.5584\n",
    "scheduler.num_bad_epochs => 0 scheduler.patience => 5\n",
    "----------\n",
    "Epoch 7/20\n",
    "----------\n",
    "Epoch 7/20\n",
    "Train Loss: 0.7536 | Train Acc: 0.5128\n",
    "Valid Loss: 0.7743 | Valid Acc: 0.5540\n",
    "scheduler.num_bad_epochs => 0 scheduler.patience => 5\n",
    "----------\n",
    "Epoch 8/20\n",
    "----------\n",
    "Epoch 8/20\n",
    "Train Loss: 0.7452 | Train Acc: 0.5225\n",
    "Valid Loss: 0.7773 | Valid Acc: 0.5550\n",
    "scheduler.num_bad_epochs => 0 scheduler.patience => 5\n",
    "----------\n",
    "Epoch 9/20\n",
    "----------\n",
    "Epoch 9/20\n",
    "Train Loss: 0.7348 | Train Acc: 0.5335\n",
    "Valid Loss: 0.7891 | Valid Acc: 0.5577\n",
    "scheduler.num_bad_epochs => 0 scheduler.patience => 5\n",
    "----------\n",
    "Epoch 10/20\n",
    "----------\n",
    "Epoch 10/20\n",
    "Train Loss: 0.7237 | Train Acc: 0.5391\n",
    "Valid Loss: 0.8045 | Valid Acc: 0.5636\n",
    "scheduler.num_bad_epochs => 0 scheduler.patience => 5\n",
    "----------\n",
    "Epoch 11/20\n",
    "----------\n",
    "Epoch 11/20\n",
    "Train Loss: 0.7134 | Train Acc: 0.5446\n",
    "Valid Loss: 0.8235 | Valid Acc: 0.5622\n",
    "scheduler.num_bad_epochs => 0 scheduler.patience => 5\n",
    "----------\n",
    "Epoch 12/20\n",
    "----------\n",
    "Epoch 12/20\n",
    "Train Loss: 0.7036 | Train Acc: 0.5603\n",
    "Valid Loss: 0.8368 | Valid Acc: 0.5631\n",
    "scheduler.num_bad_epochs => 0 scheduler.patience => 5\n",
    "----------\n",
    "Epoch 13/20\n",
    "----------\n",
    "Epoch 13/20\n",
    "Train Loss: 0.6897 | Train Acc: 0.5883\n",
    "Valid Loss: 0.8518 | Valid Acc: 0.5675\n",
    "scheduler.num_bad_epochs => 0 scheduler.patience => 5\n",
    "----------\n",
    "Epoch 14/20\n",
    "----------\n",
    "Epoch 14/20\n",
    "Train Loss: 0.6565 | Train Acc: 0.6483\n",
    "Valid Loss: 0.8951 | Valid Acc: 0.5830\n",
    "scheduler.num_bad_epochs => 0 scheduler.patience => 5\n",
    "----------\n",
    "Epoch 15/20\n",
    "----------\n",
    "Epoch 15/20\n",
    "Train Loss: 0.6104 | Train Acc: 0.7083\n",
    "Valid Loss: 0.8990 | Valid Acc: 0.5879\n",
    "scheduler.num_bad_epochs => 0 scheduler.patience => 5\n",
    "----------\n",
    "Epoch 16/20\n",
    "----------\n",
    "Epoch 16/20\n",
    "Train Loss: 0.5480 | Train Acc: 0.7595\n",
    "Valid Loss: 0.9591 | Valid Acc: 0.5993\n",
    "scheduler.num_bad_epochs => 0 scheduler.patience => 5\n",
    "----------\n",
    "Epoch 17/20\n",
    "----------\n",
    "Epoch 17/20\n",
    "Train Loss: 0.4905 | Train Acc: 0.8031\n",
    "Valid Loss: 0.9703 | Valid Acc: 0.6115\n",
    "scheduler.num_bad_epochs => 0 scheduler.patience => 5\n",
    "----------\n",
    "Epoch 18/20\n",
    "----------\n",
    "Epoch 18/20\n",
    "Train Loss: 0.4366 | Train Acc: 0.8285\n",
    "Valid Loss: 0.9930 | Valid Acc: 0.6264\n",
    "scheduler.num_bad_epochs => 0 scheduler.patience => 5\n",
    "----------\n",
    "Epoch 19/20\n",
    "----------\n",
    "Epoch 19/20\n",
    "Train Loss: 0.3818 | Train Acc: 0.8563\n",
    "Valid Loss: 1.1293 | Valid Acc: 0.6261\n",
    "scheduler.num_bad_epochs => 0 scheduler.patience => 5\n",
    "----------\n",
    "Epoch 20/20\n",
    "----------\n",
    "Epoch 20/20\n",
    "Train Loss: 0.3434 | Train Acc: 0.8732\n",
    "Valid Loss: 1.2011 | Valid Acc: 0.6268\n",
    "scheduler.num_bad_epochs => 0 scheduler.patience => 5\n",
    "모델 학습 시간: 22분 31초\n"
   ]
  },
  {
   "cell_type": "code",
   "execution_count": null,
   "metadata": {},
   "outputs": [],
   "source": []
  }
 ],
 "metadata": {
  "kernelspec": {
   "display_name": "TEXT_018_230_38",
   "language": "python",
   "name": "python3"
  },
  "language_info": {
   "codemirror_mode": {
    "name": "ipython",
    "version": 3
   },
   "file_extension": ".py",
   "mimetype": "text/x-python",
   "name": "python",
   "nbconvert_exporter": "python",
   "pygments_lexer": "ipython3",
   "version": "3.8.19"
  }
 },
 "nbformat": 4,
 "nbformat_minor": 2
}

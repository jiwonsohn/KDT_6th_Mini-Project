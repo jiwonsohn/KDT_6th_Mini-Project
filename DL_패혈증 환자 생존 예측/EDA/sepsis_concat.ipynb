{
 "cells": [
  {
   "cell_type": "markdown",
   "metadata": {},
   "source": [
    "### study.csv & primary.csv 합치기"
   ]
  },
  {
   "cell_type": "code",
   "execution_count": 1,
   "metadata": {},
   "outputs": [],
   "source": [
    "import pandas as pd"
   ]
  },
  {
   "cell_type": "code",
   "execution_count": 2,
   "metadata": {},
   "outputs": [
    {
     "name": "stdout",
     "output_type": "stream",
     "text": [
      "   age_years  sex_0male_1female  episode_number  hospital_outcome_1alive_0dead\n",
      "0          7                  1               1                              1\n",
      "1         17                  0               2                              1\n",
      "2         70                  0               1                              1\n",
      "3         76                  0               1                              1\n",
      "4          8                  0               1                              1\n",
      "\n",
      "   age_years  sex_0male_1female  episode_number  hospital_outcome_1alive_0dead\n",
      "0         21                  1               1                              1\n",
      "1         20                  1               1                              1\n",
      "2         21                  1               1                              1\n",
      "3         77                  0               1                              1\n",
      "4         72                  0               1                              1\n"
     ]
    }
   ],
   "source": [
    "study_PATH = r'./data/s41598-020-73558-3_sepsis_survival_study_cohort.csv'\n",
    "primary_PATH = r'./data/s41598-020-73558-3_sepsis_survival_primary_cohort.csv'\n",
    "\n",
    "studyDF = pd.read_csv(study_PATH)\n",
    "primyDF = pd.read_csv(primary_PATH)\n",
    "\n",
    "# 데이터 로드 확인\n",
    "print(studyDF.head(5))\n",
    "print()\n",
    "print(primyDF.head(5))"
   ]
  },
  {
   "cell_type": "code",
   "execution_count": 3,
   "metadata": {},
   "outputs": [
    {
     "name": "stdout",
     "output_type": "stream",
     "text": [
      "<class 'pandas.core.frame.DataFrame'>\n",
      "RangeIndex: 19051 entries, 0 to 19050\n",
      "Data columns (total 4 columns):\n",
      " #   Column                         Non-Null Count  Dtype\n",
      "---  ------                         --------------  -----\n",
      " 0   age_years                      19051 non-null  int64\n",
      " 1   sex_0male_1female              19051 non-null  int64\n",
      " 2   episode_number                 19051 non-null  int64\n",
      " 3   hospital_outcome_1alive_0dead  19051 non-null  int64\n",
      "dtypes: int64(4)\n",
      "memory usage: 595.5 KB\n"
     ]
    }
   ],
   "source": [
    "studyDF.info()"
   ]
  },
  {
   "cell_type": "code",
   "execution_count": 4,
   "metadata": {},
   "outputs": [
    {
     "name": "stdout",
     "output_type": "stream",
     "text": [
      "<class 'pandas.core.frame.DataFrame'>\n",
      "RangeIndex: 110204 entries, 0 to 110203\n",
      "Data columns (total 4 columns):\n",
      " #   Column                         Non-Null Count   Dtype\n",
      "---  ------                         --------------   -----\n",
      " 0   age_years                      110204 non-null  int64\n",
      " 1   sex_0male_1female              110204 non-null  int64\n",
      " 2   episode_number                 110204 non-null  int64\n",
      " 3   hospital_outcome_1alive_0dead  110204 non-null  int64\n",
      "dtypes: int64(4)\n",
      "memory usage: 3.4 MB\n"
     ]
    }
   ],
   "source": [
    "primyDF.info()"
   ]
  },
  {
   "cell_type": "markdown",
   "metadata": {},
   "source": [
    "#### DF 합치기\n",
    "- 공통 열 기준으로"
   ]
  },
  {
   "cell_type": "code",
   "execution_count": 5,
   "metadata": {},
   "outputs": [
    {
     "name": "stdout",
     "output_type": "stream",
     "text": [
      "        age_years  sex_0male_1female  episode_number  \\\n",
      "129245         69                  1               2   \n",
      "129246         29                  0               1   \n",
      "129247         79                  0               1   \n",
      "129248          1                  0               1   \n",
      "129249         77                  0               1   \n",
      "129250         33                  1               1   \n",
      "129251         58                  0               1   \n",
      "129252         44                  0               2   \n",
      "129253         61                  0               3   \n",
      "129254         78                  0               1   \n",
      "\n",
      "        hospital_outcome_1alive_0dead  \n",
      "129245                              1  \n",
      "129246                              1  \n",
      "129247                              1  \n",
      "129248                              1  \n",
      "129249                              0  \n",
      "129250                              1  \n",
      "129251                              1  \n",
      "129252                              1  \n",
      "129253                              0  \n",
      "129254                              1  \n"
     ]
    }
   ],
   "source": [
    "totalDF = pd.concat([primyDF, studyDF], ignore_index=True)\n",
    "\n",
    "print(totalDF.tail(10))"
   ]
  },
  {
   "cell_type": "code",
   "execution_count": 6,
   "metadata": {},
   "outputs": [],
   "source": [
    "# study + primary DF 저장\n",
    "# totalDF.to_csv(\"./data/total_sepsis.csv\", index=False)"
   ]
  },
  {
   "cell_type": "code",
   "execution_count": 7,
   "metadata": {},
   "outputs": [
    {
     "name": "stdout",
     "output_type": "stream",
     "text": [
      "<class 'pandas.core.frame.DataFrame'>\n",
      "RangeIndex: 129255 entries, 0 to 129254\n",
      "Data columns (total 4 columns):\n",
      " #   Column                         Non-Null Count   Dtype\n",
      "---  ------                         --------------   -----\n",
      " 0   age_years                      129255 non-null  int64\n",
      " 1   sex_0male_1female              129255 non-null  int64\n",
      " 2   episode_number                 129255 non-null  int64\n",
      " 3   hospital_outcome_1alive_0dead  129255 non-null  int64\n",
      "dtypes: int64(4)\n",
      "memory usage: 3.9 MB\n"
     ]
    }
   ],
   "source": [
    "totalDF.info()"
   ]
  },
  {
   "cell_type": "markdown",
   "metadata": {},
   "source": [
    "##### 생존/사망 비율"
   ]
  },
  {
   "cell_type": "code",
   "execution_count": null,
   "metadata": {},
   "outputs": [],
   "source": [
    "totalDF[totalDF.columns[-1]].value_counts()"
   ]
  },
  {
   "cell_type": "code",
   "execution_count": null,
   "metadata": {},
   "outputs": [],
   "source": [
    "import matplotlib.pyplot as plt\n",
    "\n",
    "lifedeath_counts = list( totalDF['hospital_outcome_1alive_0dead'].value_counts().values )\n",
    "label_num = list( totalDF['hospital_outcome_1alive_0dead'].value_counts().index )\n",
    "label_str = ['Alive', 'Dead']\n",
    "\n",
    "plt.pie(lifedeath_counts, labels=label_num, autopct='%.1f%%', startangle=200, counterclock=False,explode=[0.1, 0.1],\n",
    "        colors=['lightsteelblue','darksalmon'], shadow=True, textprops = {\"fontsize\":18})\n",
    "plt.title('Ratio', fontsize=22)\n",
    "plt.show()"
   ]
  },
  {
   "cell_type": "markdown",
   "metadata": {},
   "source": [
    "#### 오버샘플링 예시"
   ]
  },
  {
   "cell_type": "code",
   "execution_count": null,
   "metadata": {},
   "outputs": [],
   "source": [
    "# 필요한 라이브러리 불러오기\n",
    "from sklearn.datasets import make_classification\n",
    "from imblearn.over_sampling import SMOTE\n",
    "from collections import Counter\n",
    "import matplotlib.pyplot as plt\n",
    "\n",
    "# 불균형 데이터셋 생성 (양성 클래스가 10%, 음성 클래스가 90%인 경우)\n",
    "X, y = make_classification(n_samples=1000, n_features=20, n_informative=2, \n",
    "                           n_redundant=10, n_clusters_per_class=1, \n",
    "                           weights=[0.9, 0.1], flip_y=0, random_state=42)\n",
    "\n",
    "# 재샘플링 전 클래스 분포 확인\n",
    "print(f\"Original dataset shape: {Counter(y)}\")\n",
    "\n",
    "# SMOTE 적용\n",
    "smote = SMOTE(random_state=42)\n",
    "X_resampled, y_resampled = smote.fit_resample(X, y)\n",
    "\n",
    "# 재샘플링 후 클래스 분포 확인\n",
    "print(f\"Resampled dataset shape: {Counter(y_resampled)}\")\n",
    "\n",
    "# 시각화 (2D로 축소하여 표현)\n",
    "from sklearn.decomposition import PCA\n",
    "\n",
    "pca = PCA(n_components=2)\n",
    "X_res_pca = pca.fit_transform(X_resampled)\n",
    "\n",
    "plt.figure(figsize=(8, 6))\n",
    "plt.scatter(X_res_pca[y_resampled == 0][:, 0], X_res_pca[y_resampled == 0][:, 1], label='Class 0 (Majority)', alpha=0.6)\n",
    "plt.scatter(X_res_pca[y_resampled == 1][:, 0], X_res_pca[y_resampled == 1][:, 1], label='Class 1 (Minority)', alpha=0.6, marker='x')\n",
    "plt.title('SMOTE Resampled Data')\n",
    "plt.xlabel('PCA Component 1')\n",
    "plt.ylabel('PCA Component 2')\n",
    "plt.legend()\n",
    "plt.show()\n"
   ]
  },
  {
   "cell_type": "code",
   "execution_count": null,
   "metadata": {},
   "outputs": [],
   "source": [
    "import numpy as np\n",
    "from sklearn.metrics import precision_recall_curve\n",
    "import matplotlib.pyplot as plt\n",
    "\n",
    "# 가상 모델 예측 결과와 실제 레이블\n",
    "y_true = np.array([0, 0, 1, 1, 1, 0, 1, 0, 1, 0])\n",
    "y_scores = np.array([0.1, 0.4, 0.35, 0.8, 0.65, 0.2, 0.9, 0.1, 0.7, 0.3])\n",
    "\n",
    "# Precision-Recall 곡선 계산\n",
    "precision, recall, thresholds = precision_recall_curve(y_true, y_scores)\n",
    "\n",
    "# PR 곡선 시각화\n",
    "plt.plot(recall, precision, marker='.', label='PR curve')\n",
    "plt.title('Precision-Recall Curve')\n",
    "plt.xlabel('Recall')\n",
    "plt.ylabel('Precision')\n",
    "plt.legend()\n",
    "plt.grid(True)\n",
    "plt.show()\n",
    "\n",
    "# Threshold에 따른 Precision과 Recall 출력\n",
    "for t, p, r in zip(thresholds, precision[:-1], recall[:-1]):\n",
    "    print(f\"Threshold: {t:.2f}, Precision: {p:.2f}, Recall: {r:.2f}\")\n"
   ]
  },
  {
   "cell_type": "code",
   "execution_count": null,
   "metadata": {},
   "outputs": [],
   "source": []
  }
 ],
 "metadata": {
  "kernelspec": {
   "display_name": "torch_38",
   "language": "python",
   "name": "python3"
  },
  "language_info": {
   "codemirror_mode": {
    "name": "ipython",
    "version": 3
   },
   "file_extension": ".py",
   "mimetype": "text/x-python",
   "name": "python",
   "nbconvert_exporter": "python",
   "pygments_lexer": "ipython3",
   "version": "3.8.19"
  }
 },
 "nbformat": 4,
 "nbformat_minor": 2
}

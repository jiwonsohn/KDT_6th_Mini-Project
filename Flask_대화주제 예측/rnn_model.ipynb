{
 "cells": [
  {
   "cell_type": "markdown",
   "metadata": {},
   "source": [
    "### 대화주제 예측 RNN\n",
    "- 타겟: True=반려동물 False=군대\n",
    "- "
   ]
  },
  {
   "cell_type": "code",
   "execution_count": 11,
   "metadata": {},
   "outputs": [],
   "source": [
    "# 모듈 로딩\n",
    "# 토큰화 & 형태소 분석 모듈 ----------------------------------\n",
    "from konlpy.tag import Okt\n",
    "from collections import Counter\n",
    "\n",
    "# 파이토치 모듈 ----------------------------------------------\n",
    "import torch\n",
    "import torch.nn as nn\n",
    "from torch.utils.data import TensorDataset, DataLoader\n",
    "from torch import optim\n",
    "from torchmetrics.classification import MulticlassF1Score\n",
    "import torch.optim.lr_scheduler as lr_scheduler\n",
    "from torchmetrics.classification import BinaryAccuracy\n",
    "\n",
    "# 데이터 전처리 & 로드 모듈 -----------------------------------\n",
    "import re\n",
    "import os\n",
    "import pandas as pd\n",
    "import numpy as np\n",
    "import time\n",
    "\n",
    "import matplotlib.pyplot as plt\n",
    "\n",
    "# 개인 정리 모듈 \n",
    "from flask_utils import *"
   ]
  },
  {
   "cell_type": "code",
   "execution_count": 2,
   "metadata": {},
   "outputs": [],
   "source": [
    "# 반려동물, 군대 데이터 concat\n",
    "PATH_pet = r'C:\\Users\\KDP-43\\Desktop\\Flask_Project\\cleanData\\pet_sns.csv'\n",
    "PATH_false = r'C:\\Users\\KDP-43\\Desktop\\Flask_Project\\cleanData\\army_sns.csv'\n",
    "\n",
    "petDF   = pd.read_csv(PATH_pet, encoding='utf-8-sig')\n",
    "falseDF = pd.read_csv(PATH_false, encoding='utf-8-sig')"
   ]
  },
  {
   "cell_type": "code",
   "execution_count": 3,
   "metadata": {},
   "outputs": [
    {
     "name": "stdout",
     "output_type": "stream",
     "text": [
      "<class 'pandas.core.frame.DataFrame'>\n",
      "Index: 126865 entries, 0 to 64366\n",
      "Data columns (total 2 columns):\n",
      " #   Column     Non-Null Count   Dtype \n",
      "---  ------     --------------   ----- \n",
      " 0   norm_text  126851 non-null  object\n",
      " 1   label      126865 non-null  int64 \n",
      "dtypes: int64(1), object(1)\n",
      "memory usage: 2.9+ MB\n"
     ]
    }
   ],
   "source": [
    "totDF = pd.concat([petDF, falseDF])\n",
    "totDF.info()"
   ]
  },
  {
   "cell_type": "code",
   "execution_count": 4,
   "metadata": {},
   "outputs": [
    {
     "data": {
      "text/plain": [
       "0"
      ]
     },
     "execution_count": 4,
     "metadata": {},
     "output_type": "execute_result"
    }
   ],
   "source": [
    "# No Text check\n",
    "noText = totDF['norm_text'] == 'No Text'\n",
    "noText.sum()"
   ]
  },
  {
   "cell_type": "code",
   "execution_count": 5,
   "metadata": {},
   "outputs": [
    {
     "data": {
      "text/plain": [
       "label\n",
       "0    64367\n",
       "1    62498\n",
       "Name: count, dtype: int64"
      ]
     },
     "execution_count": 5,
     "metadata": {},
     "output_type": "execute_result"
    }
   ],
   "source": [
    "totDF['label'].value_counts()"
   ]
  },
  {
   "cell_type": "markdown",
   "metadata": {},
   "source": [
    "- 균형 클래스~~~~~^ㅁ^"
   ]
  },
  {
   "cell_type": "code",
   "execution_count": 6,
   "metadata": {},
   "outputs": [
    {
     "name": "stdout",
     "output_type": "stream",
     "text": [
      "<class 'pandas.core.frame.DataFrame'>\n",
      "Index: 126865 entries, 0 to 64366\n",
      "Data columns (total 2 columns):\n",
      " #   Column     Non-Null Count   Dtype \n",
      "---  ------     --------------   ----- \n",
      " 0   norm_text  126851 non-null  object\n",
      " 1   label      126865 non-null  int64 \n",
      "dtypes: int64(1), object(1)\n",
      "memory usage: 2.9+ MB\n"
     ]
    }
   ],
   "source": [
    "totDF.info()"
   ]
  },
  {
   "cell_type": "code",
   "execution_count": 7,
   "metadata": {},
   "outputs": [
    {
     "data": {
      "text/plain": [
       "norm_text    object\n",
       "label         int64\n",
       "dtype: object"
      ]
     },
     "execution_count": 7,
     "metadata": {},
     "output_type": "execute_result"
    }
   ],
   "source": [
    "totDF = totDF.astype({'norm_text':'str'})\n",
    "totDF.dtypes"
   ]
  },
  {
   "cell_type": "code",
   "execution_count": 8,
   "metadata": {},
   "outputs": [
    {
     "data": {
      "text/html": [
       "<div>\n",
       "<style scoped>\n",
       "    .dataframe tbody tr th:only-of-type {\n",
       "        vertical-align: middle;\n",
       "    }\n",
       "\n",
       "    .dataframe tbody tr th {\n",
       "        vertical-align: top;\n",
       "    }\n",
       "\n",
       "    .dataframe thead th {\n",
       "        text-align: right;\n",
       "    }\n",
       "</style>\n",
       "<table border=\"1\" class=\"dataframe\">\n",
       "  <thead>\n",
       "    <tr style=\"text-align: right;\">\n",
       "      <th></th>\n",
       "      <th>norm_text</th>\n",
       "      <th>label</th>\n",
       "      <th>cleaned</th>\n",
       "    </tr>\n",
       "  </thead>\n",
       "  <tbody>\n",
       "    <tr>\n",
       "      <th>64362</th>\n",
       "      <td>그러니깐 얼른 좋아져야 할 텐데</td>\n",
       "      <td>0</td>\n",
       "      <td>그러니깐 얼른 좋아져야 할 텐데</td>\n",
       "    </tr>\n",
       "    <tr>\n",
       "      <th>64363</th>\n",
       "      <td>그래도 막판에 미복귀 전역? 그렇게 하지 않나?</td>\n",
       "      <td>0</td>\n",
       "      <td>그래도 막판에 미복귀 전역 그렇게 하지 않나</td>\n",
       "    </tr>\n",
       "    <tr>\n",
       "      <th>64364</th>\n",
       "      <td>그런 것 같기도 하구 연예인들도 막 그랬잖아</td>\n",
       "      <td>0</td>\n",
       "      <td>그런 것 같기도 하구 연예인들도 막 그랬잖아</td>\n",
       "    </tr>\n",
       "    <tr>\n",
       "      <th>64365</th>\n",
       "      <td>응응 그런 기사 많이 봤어</td>\n",
       "      <td>0</td>\n",
       "      <td>응응 그런 기사 많이 봤어</td>\n",
       "    </tr>\n",
       "    <tr>\n",
       "      <th>64366</th>\n",
       "      <td>언니 동생도 그러려나?</td>\n",
       "      <td>0</td>\n",
       "      <td>언니 동생도 그러려나</td>\n",
       "    </tr>\n",
       "  </tbody>\n",
       "</table>\n",
       "</div>"
      ],
      "text/plain": [
       "                        norm_text  label                   cleaned\n",
       "64362           그러니깐 얼른 좋아져야 할 텐데      0         그러니깐 얼른 좋아져야 할 텐데\n",
       "64363  그래도 막판에 미복귀 전역? 그렇게 하지 않나?      0  그래도 막판에 미복귀 전역 그렇게 하지 않나\n",
       "64364    그런 것 같기도 하구 연예인들도 막 그랬잖아      0  그런 것 같기도 하구 연예인들도 막 그랬잖아\n",
       "64365              응응 그런 기사 많이 봤어      0            응응 그런 기사 많이 봤어\n",
       "64366                언니 동생도 그러려나?      0               언니 동생도 그러려나"
      ]
     },
     "execution_count": 8,
     "metadata": {},
     "output_type": "execute_result"
    }
   ],
   "source": [
    "# 정규식 전처리\n",
    "totDF['cleaned'] = totDF['norm_text'].apply(cleantext)\n",
    "totDF.tail(5)"
   ]
  },
  {
   "cell_type": "code",
   "execution_count": 9,
   "metadata": {},
   "outputs": [
    {
     "name": "stdout",
     "output_type": "stream",
     "text": [
      "<class 'pandas.core.frame.DataFrame'>\n",
      "Index: 126865 entries, 0 to 64366\n",
      "Data columns (total 3 columns):\n",
      " #   Column     Non-Null Count   Dtype \n",
      "---  ------     --------------   ----- \n",
      " 0   norm_text  126865 non-null  object\n",
      " 1   label      126865 non-null  int64 \n",
      " 2   cleaned    126865 non-null  object\n",
      "dtypes: int64(1), object(2)\n",
      "memory usage: 3.9+ MB\n"
     ]
    }
   ],
   "source": [
    "totDF.info()"
   ]
  },
  {
   "cell_type": "code",
   "execution_count": 10,
   "metadata": {},
   "outputs": [
    {
     "name": "stdout",
     "output_type": "stream",
     "text": [
      "Train Data Size: 101492\n",
      "Valid Data Size: 5482\n"
     ]
    }
   ],
   "source": [
    "tmpDF = totDF.copy()\n",
    "tmpDF = tmpDF.reset_index(drop=True)\n",
    "train = tmpDF.sample(frac=0.8, random_state=42)\n",
    "valid = tmpDF.drop(train.index)\n",
    "\n",
    "# 확인\n",
    "print(f\"Train Data Size: {len(train)}\")\n",
    "print(f\"Valid Data Size: {len(valid)}\")"
   ]
  },
  {
   "cell_type": "code",
   "execution_count": 14,
   "metadata": {},
   "outputs": [],
   "source": [
    "\n",
    "# 불용어 처리 데이터 로드\n",
    "STOP_FILE = './kor_stopwordsVer2.txt'\n",
    "\n",
    "kor_stopwords = clean_korStopwords(STOP_FILE)\n",
    "kor_stopwords.append('키키')\n",
    "kor_stopwords.append('는')\n",
    "kor_stopwords.append('은')"
   ]
  },
  {
   "cell_type": "code",
   "execution_count": 15,
   "metadata": {},
   "outputs": [
    {
     "name": "stdout",
     "output_type": "stream",
     "text": [
      "['<pad>', '<unk>', '도', '군대', '거', '안', '진짜', '강아지', '다', '잘']\n",
      "5002\n"
     ]
    }
   ],
   "source": [
    "# 토크나이저 인스턴스 생성\n",
    "tokenizer = Okt()\n",
    "\n",
    "# 토큰화\n",
    "train_tokens = [\n",
    "    [token for token in tokenizer.morphs(text) if token not in kor_stopwords] for text in train.cleaned\n",
    "]\n",
    "\n",
    "valid_tokens = [\n",
    "    [token for token in tokenizer.morphs(text) if token not in kor_stopwords] for text in valid.cleaned\n",
    "]\n",
    "\n",
    "vocab = build_vocab(corpus=train_tokens, n_vocab=5000, special_tokens=[\"<pad>\",\"<unk>\"])\n",
    "token_to_id = {token: idx for idx, token in enumerate(vocab)}\n",
    "it_to_token = {idx: token for idx, token in enumerate(vocab)}\n",
    "\n",
    "print(vocab[:10])\n",
    "print(len(vocab))"
   ]
  },
  {
   "cell_type": "code",
   "execution_count": 16,
   "metadata": {},
   "outputs": [
    {
     "name": "stdout",
     "output_type": "stream",
     "text": [
      "단어 사전이 저장되었습니다.\n"
     ]
    }
   ],
   "source": [
    "# 단어 사전 저장\n",
    "import pickle\n",
    "with open('./vocab.pkl', 'wb') as f:\n",
    "\tpickle.dump(token_to_id, f)\n",
    "\n",
    "print(\"단어 사전이 저장되었습니다.\")"
   ]
  },
  {
   "cell_type": "code",
   "execution_count": 17,
   "metadata": {},
   "outputs": [
    {
     "data": {
      "text/plain": [
       "(array([5.6631e+04, 4.0534e+04, 3.8860e+03, 3.8400e+02, 4.3000e+01,\n",
       "        8.0000e+00, 4.0000e+00, 2.0000e+00]),\n",
       " array([ 0.   ,  5.875, 11.75 , 17.625, 23.5  , 29.375, 35.25 , 41.125,\n",
       "        47.   ]),\n",
       " <BarContainer object of 8 artists>)"
      ]
     },
     "execution_count": 17,
     "metadata": {},
     "output_type": "execute_result"
    },
    {
     "data": {
      "image/png": "[encoded data removed]",
      "text/plain": [
       "<Figure size 640x480 with 1 Axes>"
      ]
     },
     "metadata": {},
     "output_type": "display_data"
    }
   ],
   "source": [
    "# 패딩 적정 길이 찾기\n",
    "datalen = [len(tokens) for tokens in train_tokens]\n",
    "plt.hist(datalen, bins=8)"
   ]
  },
  {
   "cell_type": "code",
   "execution_count": 20,
   "metadata": {},
   "outputs": [
    {
     "data": {
      "text/plain": [
       "(array([ 4756., 19411., 32464., 23628., 11590.,  5316.,  2349.,  1065.,\n",
       "          472.,   279.]),\n",
       " array([ 0.,  2.,  4.,  6.,  8., 10., 12., 14., 16., 18., 20.]),\n",
       " <BarContainer object of 10 artists>)"
      ]
     },
     "execution_count": 20,
     "metadata": {},
     "output_type": "execute_result"
    },
    {
     "data": {
      "image/png": "[encoded data removed]",
      "text/plain": [
       "<Figure size 640x480 with 1 Axes>"
      ]
     },
     "metadata": {},
     "output_type": "display_data"
    }
   ],
   "source": [
    "datalen = [len(tokens) for tokens in train_tokens]\n",
    "datalen_100 = [len(tokens) for tokens in train_tokens if len(tokens) <= 20 ]\n",
    "plt.hist(datalen_100, bins=10)"
   ]
  },
  {
   "cell_type": "markdown",
   "metadata": {},
   "source": [
    "- 적정길이 = 10?"
   ]
  },
  {
   "cell_type": "code",
   "execution_count": 18,
   "metadata": {},
   "outputs": [],
   "source": [
    "all_tokens = [token for tokens in train_tokens for token in tokens]\n",
    "token_counts = Counter(all_tokens)\n",
    "frequencies = list(token_counts.values())\n"
   ]
  },
  {
   "cell_type": "code",
   "execution_count": 21,
   "metadata": {},
   "outputs": [
    {
     "name": "stdout",
     "output_type": "stream",
     "text": [
      "[  44    1 2504  815   39    0    0    0    0    0    0    0    0    0\n",
      "    0    0    0    0    0    0    0    0    0    0    0]\n",
      "[  2  52 541  66 377 168   1 645 324   0   0   0   0   0   0   0   0   0\n",
      "   0   0   0   0   0   0   0]\n"
     ]
    }
   ],
   "source": [
    "# 정수 인코딩 & 패딩\n",
    "unk_id = token_to_id[\"<unk>\"]\n",
    "\n",
    "train_ids = [\n",
    "\t[token_to_id.get(token, unk_id) for token in review] for review in train_tokens\n",
    "]\n",
    "\n",
    "valid_ids = [\n",
    "\t[token_to_id.get(token, unk_id) for token in review] for review in valid_tokens\n",
    "]\n",
    "\n",
    "max_length = 25\n",
    "pad_id = token_to_id[\"<pad>\"]\n",
    "train_ids = pad_sequences(train_ids, max_length, pad_id)\n",
    "valid_ids = pad_sequences(valid_ids, max_length, pad_id)\n",
    "\n",
    "print(train_ids[0])\n",
    "print(valid_ids[0])"
   ]
  },
  {
   "cell_type": "code",
   "execution_count": 22,
   "metadata": {},
   "outputs": [],
   "source": [
    "# 데이터 로더 적용\n",
    "train_ids = torch.tensor(train_ids)\n",
    "valid_ids = torch.tensor(valid_ids)\n",
    "\n",
    "train_labels = torch.tensor(train.label.values, dtype=torch.float32)\n",
    "valid_labels = torch.tensor(valid.label.values, dtype=torch.float32)\n",
    "\n",
    "train_DS = TensorDataset(train_ids, train_labels)\n",
    "valid_DS = TensorDataset(valid_ids, valid_labels)\n",
    "\n",
    "train_loader = DataLoader(train_DS, batch_size=16, shuffle=True)\n",
    "valid_loader = DataLoader(valid_DS, batch_size=1, shuffle=False)"
   ]
  },
  {
   "cell_type": "code",
   "execution_count": 23,
   "metadata": {},
   "outputs": [
    {
     "name": "stderr",
     "output_type": "stream",
     "text": [
      "c:\\Users\\KDP-43\\anaconda3\\envs\\TEXT_018_230_38\\lib\\site-packages\\torch\\nn\\modules\\rnn.py:83: UserWarning: dropout option adds dropout after all but last recurrent layer, so non-zero dropout expects num_layers greater than 1, but got dropout=0.7 and num_layers=1\n",
      "  warnings.warn(\"dropout option adds dropout after all but last \"\n",
      "c:\\Users\\KDP-43\\anaconda3\\envs\\TEXT_018_230_38\\lib\\site-packages\\torch\\optim\\lr_scheduler.py:28: UserWarning: The verbose parameter is deprecated. Please use get_last_lr() to access the learning rate.\n",
      "  warnings.warn(\"The verbose parameter is deprecated. Please use get_last_lr() \"\n"
     ]
    }
   ],
   "source": [
    "# 모델 파라미터 정의\n",
    "n_vocab = len(token_to_id)\n",
    "hidden_dim = 8\n",
    "embedding_dim = 128\n",
    "n_layers = 1\n",
    "model_type = \"lstm\"\n",
    "\n",
    "pos_weight = torch.FloatTensor([totDF['label'].value_counts()[0] / totDF['label'].value_counts()[1]])\n",
    "\n",
    "device = \"cuda\" if torch.cuda.is_available() else \"cpu\"\n",
    "\n",
    "classifier = SentenceClassifier(\n",
    "    n_vocab=n_vocab, hidden_dim=hidden_dim, embedding_dim=embedding_dim, n_layers=n_layers\n",
    ").to(device)\n",
    "\n",
    "lossFunc = nn.BCEWithLogitsLoss(pos_weight=pos_weight).to(device)\n",
    "# optimizer = optim.RMSprop(classifier.parameters(), lr=0.001)\n",
    "optimizer = optim.Adam(classifier.parameters(), lr=0.001, weight_decay=1e-5\t)\n",
    "scoreFunc = BinaryAccuracy().to(device)\n",
    "\n",
    "scheduler = lr_scheduler.ReduceLROnPlateau(optimizer, mode='max', patience=5, verbose=True) # score 사용 시"
   ]
  },
  {
   "cell_type": "code",
   "execution_count": 25,
   "metadata": {},
   "outputs": [
    {
     "name": "stdout",
     "output_type": "stream",
     "text": [
      "----------\n",
      "Epoch 1/20\n",
      "----------\n",
      "Epoch 1/20\n",
      "Train Loss: 0.7035 | Train Acc: 0.4998\n",
      "Valid Loss: 0.7022 | Valid Acc: 0.5356\n",
      "scheduler.num_bad_epochs => 0 scheduler.patience => 5\n",
      "----------\n",
      "Epoch 2/20\n",
      "----------\n",
      "Epoch 2/20\n",
      "Train Loss: 0.7034 | Train Acc: 0.5012\n",
      "Valid Loss: 0.7029 | Valid Acc: 0.5356\n",
      "scheduler.num_bad_epochs => 0 scheduler.patience => 5\n",
      "----------\n",
      "Epoch 3/20\n",
      "----------\n",
      "Epoch 3/20\n",
      "Train Loss: 0.7034 | Train Acc: 0.5015\n",
      "Valid Loss: 0.7026 | Valid Acc: 0.5356\n",
      "scheduler.num_bad_epochs => 1 scheduler.patience => 5\n",
      "----------\n",
      "Epoch 4/20\n",
      "----------\n",
      "Epoch 4/20\n",
      "Train Loss: 0.7034 | Train Acc: 0.5019\n",
      "Valid Loss: 0.7033 | Valid Acc: 0.5356\n",
      "scheduler.num_bad_epochs => 0 scheduler.patience => 5\n",
      "----------\n",
      "Epoch 5/20\n",
      "----------\n",
      "Epoch 5/20\n",
      "Train Loss: 0.7034 | Train Acc: 0.5040\n",
      "Valid Loss: 0.7030 | Valid Acc: 0.5356\n",
      "scheduler.num_bad_epochs => 1 scheduler.patience => 5\n",
      "----------\n",
      "Epoch 6/20\n",
      "----------\n",
      "Epoch 6/20\n",
      "Train Loss: 0.7034 | Train Acc: 0.5035\n",
      "Valid Loss: 0.7025 | Valid Acc: 0.5356\n",
      "scheduler.num_bad_epochs => 2 scheduler.patience => 5\n",
      "----------\n",
      "Epoch 7/20\n",
      "----------\n",
      "Epoch 7/20\n",
      "Train Loss: 0.7034 | Train Acc: 0.5047\n",
      "Valid Loss: 0.7024 | Valid Acc: 0.5356\n",
      "scheduler.num_bad_epochs => 3 scheduler.patience => 5\n",
      "----------\n",
      "Epoch 8/20\n",
      "----------\n",
      "Epoch 8/20\n",
      "Train Loss: 0.7034 | Train Acc: 0.5027\n",
      "Valid Loss: 0.7020 | Valid Acc: 0.5356\n",
      "scheduler.num_bad_epochs => 4 scheduler.patience => 5\n",
      "----------\n",
      "Epoch 9/20\n",
      "----------\n",
      "Epoch 9/20\n",
      "Train Loss: 0.7034 | Train Acc: 0.5005\n",
      "Valid Loss: 0.7036 | Valid Acc: 0.5356\n",
      "scheduler.num_bad_epochs => 0 scheduler.patience => 5\n",
      "----------\n",
      "Epoch 10/20\n",
      "----------\n",
      "Epoch 10/20\n",
      "Train Loss: 0.7034 | Train Acc: 0.5039\n",
      "Valid Loss: 0.7043 | Valid Acc: 0.5356\n",
      "scheduler.num_bad_epochs => 0 scheduler.patience => 5\n",
      "----------\n",
      "Epoch 11/20\n",
      "----------\n",
      "Epoch 11/20\n",
      "Train Loss: 0.7034 | Train Acc: 0.5019\n",
      "Valid Loss: 0.7022 | Valid Acc: 0.5356\n",
      "scheduler.num_bad_epochs => 1 scheduler.patience => 5\n",
      "----------\n",
      "Epoch 12/20\n",
      "----------\n",
      "Epoch 12/20\n",
      "Train Loss: 0.7035 | Train Acc: 0.5034\n",
      "Valid Loss: 0.7026 | Valid Acc: 0.5356\n",
      "scheduler.num_bad_epochs => 2 scheduler.patience => 5\n",
      "----------\n",
      "Epoch 13/20\n",
      "----------\n",
      "Epoch 13/20\n",
      "Train Loss: 0.7034 | Train Acc: 0.5040\n",
      "Valid Loss: 0.7024 | Valid Acc: 0.5356\n",
      "scheduler.num_bad_epochs => 3 scheduler.patience => 5\n",
      "----------\n",
      "Epoch 14/20\n",
      "----------\n",
      "Epoch 14/20\n",
      "Train Loss: 0.7034 | Train Acc: 0.5050\n",
      "Valid Loss: 0.7026 | Valid Acc: 0.5356\n",
      "scheduler.num_bad_epochs => 4 scheduler.patience => 5\n",
      "----------\n",
      "Epoch 15/20\n",
      "----------\n",
      "Epoch 15/20\n",
      "Train Loss: 0.7034 | Train Acc: 0.5050\n",
      "Valid Loss: 0.7022 | Valid Acc: 0.5356\n",
      "scheduler.num_bad_epochs => 5 scheduler.patience => 5\n",
      "----------\n",
      "Epoch 16/20\n",
      "----------\n",
      "Epoch 16/20\n",
      "Train Loss: 0.7034 | Train Acc: 0.5010\n",
      "Valid Loss: 0.7028 | Valid Acc: 0.5356\n",
      "scheduler.num_bad_epochs => 0 scheduler.patience => 5\n",
      "----------\n",
      "Epoch 17/20\n",
      "----------\n",
      "Epoch 17/20\n",
      "Train Loss: 0.7034 | Train Acc: 0.5003\n",
      "Valid Loss: 0.7027 | Valid Acc: 0.5356\n",
      "scheduler.num_bad_epochs => 1 scheduler.patience => 5\n",
      "----------\n",
      "Epoch 18/20\n",
      "----------\n",
      "Epoch 18/20\n",
      "Train Loss: 0.7034 | Train Acc: 0.5052\n",
      "Valid Loss: 0.7028 | Valid Acc: 0.5356\n",
      "scheduler.num_bad_epochs => 2 scheduler.patience => 5\n",
      "----------\n",
      "Epoch 19/20\n",
      "----------\n",
      "Epoch 19/20\n",
      "Train Loss: 0.7034 | Train Acc: 0.4991\n",
      "Valid Loss: 0.7027 | Valid Acc: 0.5356\n",
      "scheduler.num_bad_epochs => 3 scheduler.patience => 5\n",
      "----------\n",
      "Epoch 20/20\n",
      "----------\n",
      "Epoch 20/20\n",
      "Train Loss: 0.7033 | Train Acc: 0.5039\n",
      "Valid Loss: 0.7028 | Valid Acc: 0.5356\n",
      "scheduler.num_bad_epochs => 4 scheduler.patience => 5\n",
      "모델 학습 시간: 75분 18초\n"
     ]
    },
    {
     "data": {
      "image/png": "[encoded data removed]",
      "text/plain": [
       "<Figure size 1000x400 with 2 Axes>"
      ]
     },
     "metadata": {},
     "output_type": "display_data"
    }
   ],
   "source": [
    "trainval_Binary(classifier, train_loader, valid_loader, lossFunc, scoreFunc, optimizer, device, scheduler, num_epochs=20)"
   ]
  },
  {
   "cell_type": "code",
   "execution_count": null,
   "metadata": {},
   "outputs": [],
   "source": []
  },
  {
   "cell_type": "code",
   "execution_count": null,
   "metadata": {},
   "outputs": [],
   "source": []
  },
  {
   "cell_type": "code",
   "execution_count": null,
   "metadata": {},
   "outputs": [],
   "source": []
  },
  {
   "cell_type": "code",
   "execution_count": null,
   "metadata": {},
   "outputs": [],
   "source": []
  },
  {
   "cell_type": "code",
   "execution_count": null,
   "metadata": {},
   "outputs": [],
   "source": []
  },
  {
   "cell_type": "code",
   "execution_count": null,
   "metadata": {},
   "outputs": [],
   "source": []
  },
  {
   "cell_type": "code",
   "execution_count": null,
   "metadata": {},
   "outputs": [],
   "source": []
  },
  {
   "cell_type": "code",
   "execution_count": null,
   "metadata": {},
   "outputs": [],
   "source": []
  }
 ],
 "metadata": {
  "kernelspec": {
   "display_name": "TEXT_018_230_38",
   "language": "python",
   "name": "python3"
  },
  "language_info": {
   "codemirror_mode": {
    "name": "ipython",
    "version": 3
   },
   "file_extension": ".py",
   "mimetype": "text/x-python",
   "name": "python",
   "nbconvert_exporter": "python",
   "pygments_lexer": "ipython3",
   "version": "3.8.19"
  }
 },
 "nbformat": 4,
 "nbformat_minor": 2
}

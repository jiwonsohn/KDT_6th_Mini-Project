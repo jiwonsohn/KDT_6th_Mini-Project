{
 "cells": [
  {
   "cell_type": "markdown",
   "metadata": {},
   "source": [
    "### 패혈증(Sepsis) 생존/사망 여부 예측 모델\n",
    "- .csv\n",
    "- 피쳐: 3개 (환자 나이, 환자 성별, 환자의 패혈증 발병 횟수)\n",
    "- 타겟: 9일 후 사망/생존 여부\n",
    "- 학습: 지도학습 >> 분류 >> 2진 분류\n",
    "- 알고리즘: DNN (MultiLayer Perceptron; 은닉층 min 2개)\n",
    "- 프레임워크: pytorch\n",
    "***\n",
    "- SMOTE: 타겟 클래스 비율 0.3"
   ]
  },
  {
   "cell_type": "code",
   "execution_count": 1,
   "metadata": {},
   "outputs": [],
   "source": [
    "# Model 모듈 로딩\n",
    "\n",
    "import torch\n",
    "import torch.nn as nn\n",
    "import torch.nn.functional as F\n",
    "from torch.utils.data import Dataset, DataLoader\n",
    "import torch.optim as optim\n",
    "from torchmetrics.classification import BinaryF1Score, BinaryAccuracy, BinaryRecall\n",
    "from torchmetrics.classification import BinaryConfusionMatrix\n",
    "from torchinfo import summary\n",
    "import torch.optim.lr_scheduler as lr_scheduler\n",
    "\n",
    "from custom_utils import *\n",
    "\n",
    "# Data 로딩 & 시각화 모듈 로딩\n",
    "import pandas as pd\n",
    "import matplotlib.pyplot as plt\n",
    "from sklearn.preprocessing import *\n",
    "from sklearn.model_selection import train_test_split\n"
   ]
  },
  {
   "cell_type": "code",
   "execution_count": 2,
   "metadata": {},
   "outputs": [],
   "source": [
    "# 모듈 버전 확인\n",
    "def ver_check():\n",
    "    print(f'torch v.{torch.__version__}')\n",
    "    print(f'pandas v.{pd.__version__}')\n"
   ]
  },
  {
   "cell_type": "code",
   "execution_count": 3,
   "metadata": {},
   "outputs": [
    {
     "name": "stdout",
     "output_type": "stream",
     "text": [
      "torch v.2.4.1\n",
      "pandas v.2.0.3\n"
     ]
    }
   ],
   "source": [
    "ver_check()"
   ]
  },
  {
   "cell_type": "code",
   "execution_count": 4,
   "metadata": {},
   "outputs": [],
   "source": [
    "# 랜덤 고정\n",
    "torch.manual_seed(1)\n",
    "\n",
    "# 텐서 저장 및 실행 위치 고정\n",
    "DEVICE = 'cuda' if torch.cuda.is_available() else 'cpu'"
   ]
  },
  {
   "cell_type": "markdown",
   "metadata": {},
   "source": [
    "#### 데이터 로드 & 타겟/피쳐 분리"
   ]
  },
  {
   "cell_type": "code",
   "execution_count": 5,
   "metadata": {},
   "outputs": [
    {
     "data": {
      "text/html": [
       "<div>\n",
       "<style scoped>\n",
       "    .dataframe tbody tr th:only-of-type {\n",
       "        vertical-align: middle;\n",
       "    }\n",
       "\n",
       "    .dataframe tbody tr th {\n",
       "        vertical-align: top;\n",
       "    }\n",
       "\n",
       "    .dataframe thead th {\n",
       "        text-align: right;\n",
       "    }\n",
       "</style>\n",
       "<table border=\"1\" class=\"dataframe\">\n",
       "  <thead>\n",
       "    <tr style=\"text-align: right;\">\n",
       "      <th></th>\n",
       "      <th>age_years</th>\n",
       "      <th>sex_0male_1female</th>\n",
       "      <th>episode_number</th>\n",
       "      <th>hospital_outcome_1alive_0dead</th>\n",
       "    </tr>\n",
       "  </thead>\n",
       "  <tbody>\n",
       "    <tr>\n",
       "      <th>129245</th>\n",
       "      <td>69</td>\n",
       "      <td>1</td>\n",
       "      <td>2</td>\n",
       "      <td>1</td>\n",
       "    </tr>\n",
       "    <tr>\n",
       "      <th>129246</th>\n",
       "      <td>29</td>\n",
       "      <td>0</td>\n",
       "      <td>1</td>\n",
       "      <td>1</td>\n",
       "    </tr>\n",
       "    <tr>\n",
       "      <th>129247</th>\n",
       "      <td>79</td>\n",
       "      <td>0</td>\n",
       "      <td>1</td>\n",
       "      <td>1</td>\n",
       "    </tr>\n",
       "    <tr>\n",
       "      <th>129248</th>\n",
       "      <td>1</td>\n",
       "      <td>0</td>\n",
       "      <td>1</td>\n",
       "      <td>1</td>\n",
       "    </tr>\n",
       "    <tr>\n",
       "      <th>129249</th>\n",
       "      <td>77</td>\n",
       "      <td>0</td>\n",
       "      <td>1</td>\n",
       "      <td>0</td>\n",
       "    </tr>\n",
       "    <tr>\n",
       "      <th>129250</th>\n",
       "      <td>33</td>\n",
       "      <td>1</td>\n",
       "      <td>1</td>\n",
       "      <td>1</td>\n",
       "    </tr>\n",
       "    <tr>\n",
       "      <th>129251</th>\n",
       "      <td>58</td>\n",
       "      <td>0</td>\n",
       "      <td>1</td>\n",
       "      <td>1</td>\n",
       "    </tr>\n",
       "    <tr>\n",
       "      <th>129252</th>\n",
       "      <td>44</td>\n",
       "      <td>0</td>\n",
       "      <td>2</td>\n",
       "      <td>1</td>\n",
       "    </tr>\n",
       "    <tr>\n",
       "      <th>129253</th>\n",
       "      <td>61</td>\n",
       "      <td>0</td>\n",
       "      <td>3</td>\n",
       "      <td>0</td>\n",
       "    </tr>\n",
       "    <tr>\n",
       "      <th>129254</th>\n",
       "      <td>78</td>\n",
       "      <td>0</td>\n",
       "      <td>1</td>\n",
       "      <td>1</td>\n",
       "    </tr>\n",
       "  </tbody>\n",
       "</table>\n",
       "</div>"
      ],
      "text/plain": [
       "        age_years  sex_0male_1female  episode_number  \\\n",
       "129245         69                  1               2   \n",
       "129246         29                  0               1   \n",
       "129247         79                  0               1   \n",
       "129248          1                  0               1   \n",
       "129249         77                  0               1   \n",
       "129250         33                  1               1   \n",
       "129251         58                  0               1   \n",
       "129252         44                  0               2   \n",
       "129253         61                  0               3   \n",
       "129254         78                  0               1   \n",
       "\n",
       "        hospital_outcome_1alive_0dead  \n",
       "129245                              1  \n",
       "129246                              1  \n",
       "129247                              1  \n",
       "129248                              1  \n",
       "129249                              0  \n",
       "129250                              1  \n",
       "129251                              1  \n",
       "129252                              1  \n",
       "129253                              0  \n",
       "129254                              1  "
      ]
     },
     "execution_count": 5,
     "metadata": {},
     "output_type": "execute_result"
    }
   ],
   "source": [
    "### 데이터 로딩\n",
    "DATA_FILE = r'./data/total_sepsis.csv'\n",
    "\n",
    "rawDF = pd.read_csv(DATA_FILE)\n",
    "\n",
    "# 확인\n",
    "rawDF.tail(10)"
   ]
  },
  {
   "cell_type": "code",
   "execution_count": 6,
   "metadata": {},
   "outputs": [
    {
     "name": "stdout",
     "output_type": "stream",
     "text": [
      "featreDF=> (129255, 3) 2D\n",
      "targetDF=> (129255, 1) 2D\n"
     ]
    }
   ],
   "source": [
    "# 타겟 & 피쳐 분리\n",
    "targetDF = rawDF[[rawDF.columns[-1]]]\n",
    "featureDF = rawDF[rawDF.columns[:-1]]\n",
    "\n",
    "# 타겟 & 피쳐 shape 확인\n",
    "print(f\"featreDF=> {featureDF.shape} {featureDF.ndim}D\")\n",
    "print(f\"targetDF=> {targetDF.shape} {targetDF.ndim}D\")"
   ]
  },
  {
   "cell_type": "code",
   "execution_count": null,
   "metadata": {},
   "outputs": [],
   "source": []
  },
  {
   "cell_type": "code",
   "execution_count": 7,
   "metadata": {},
   "outputs": [
    {
     "name": "stdout",
     "output_type": "stream",
     "text": [
      "hospital_outcome_1alive_0dead\n",
      "1                                117544\n",
      "0                                 11711\n",
      "Name: count, dtype: int64\n",
      "hospital_outcome_1alive_0dead\n",
      "1                                117544\n",
      "0                                 35263\n",
      "Name: count, dtype: int64\n"
     ]
    }
   ],
   "source": [
    "# 필요한 라이브러리 불러오기\n",
    "from imblearn.over_sampling import SMOTE\n",
    "\n",
    "resamp_ratio = 0.3\n",
    "n_neighbor = 5\n",
    "\n",
    "# 재샘플링 전 클래스 분포 확인\n",
    "print(targetDF.value_counts())\n",
    "\n",
    "# SMOTE 적용\n",
    "smote = SMOTE(sampling_strategy=resamp_ratio, random_state=42, \n",
    "              k_neighbors=n_neighbor)\n",
    "X_resampled, y_resampled = smote.fit_resample(featureDF,targetDF)\n",
    "\n",
    "# 재샘플링 후 클래스 분포 확인\n",
    "print(y_resampled.value_counts())"
   ]
  },
  {
   "cell_type": "code",
   "execution_count": 24,
   "metadata": {},
   "outputs": [
    {
     "ename": "AttributeError",
     "evalue": "type object 'SMOTE' has no attribute '__version__'",
     "output_type": "error",
     "traceback": [
      "\u001b[1;31m---------------------------------------------------------------------------\u001b[0m",
      "\u001b[1;31mAttributeError\u001b[0m                            Traceback (most recent call last)",
      "Cell \u001b[1;32mIn[24], line 1\u001b[0m\n\u001b[1;32m----> 1\u001b[0m \u001b[43mSMOTE\u001b[49m\u001b[38;5;241;43m.\u001b[39;49m\u001b[43m__version__\u001b[49m\n",
      "\u001b[1;31mAttributeError\u001b[0m: type object 'SMOTE' has no attribute '__version__'"
     ]
    }
   ],
   "source": [
    "SMOTE.__version__"
   ]
  },
  {
   "cell_type": "code",
   "execution_count": 8,
   "metadata": {},
   "outputs": [
    {
     "data": {
      "text/html": [
       "<div>\n",
       "<style scoped>\n",
       "    .dataframe tbody tr th:only-of-type {\n",
       "        vertical-align: middle;\n",
       "    }\n",
       "\n",
       "    .dataframe tbody tr th {\n",
       "        vertical-align: top;\n",
       "    }\n",
       "\n",
       "    .dataframe thead th {\n",
       "        text-align: right;\n",
       "    }\n",
       "</style>\n",
       "<table border=\"1\" class=\"dataframe\">\n",
       "  <thead>\n",
       "    <tr style=\"text-align: right;\">\n",
       "      <th></th>\n",
       "      <th>hospital_outcome_1alive_0dead</th>\n",
       "    </tr>\n",
       "  </thead>\n",
       "  <tbody>\n",
       "    <tr>\n",
       "      <th>0</th>\n",
       "      <td>1</td>\n",
       "    </tr>\n",
       "    <tr>\n",
       "      <th>1</th>\n",
       "      <td>1</td>\n",
       "    </tr>\n",
       "    <tr>\n",
       "      <th>2</th>\n",
       "      <td>1</td>\n",
       "    </tr>\n",
       "    <tr>\n",
       "      <th>3</th>\n",
       "      <td>1</td>\n",
       "    </tr>\n",
       "    <tr>\n",
       "      <th>4</th>\n",
       "      <td>1</td>\n",
       "    </tr>\n",
       "    <tr>\n",
       "      <th>...</th>\n",
       "      <td>...</td>\n",
       "    </tr>\n",
       "    <tr>\n",
       "      <th>152802</th>\n",
       "      <td>0</td>\n",
       "    </tr>\n",
       "    <tr>\n",
       "      <th>152803</th>\n",
       "      <td>0</td>\n",
       "    </tr>\n",
       "    <tr>\n",
       "      <th>152804</th>\n",
       "      <td>0</td>\n",
       "    </tr>\n",
       "    <tr>\n",
       "      <th>152805</th>\n",
       "      <td>0</td>\n",
       "    </tr>\n",
       "    <tr>\n",
       "      <th>152806</th>\n",
       "      <td>0</td>\n",
       "    </tr>\n",
       "  </tbody>\n",
       "</table>\n",
       "<p>152807 rows × 1 columns</p>\n",
       "</div>"
      ],
      "text/plain": [
       "        hospital_outcome_1alive_0dead\n",
       "0                                   1\n",
       "1                                   1\n",
       "2                                   1\n",
       "3                                   1\n",
       "4                                   1\n",
       "...                               ...\n",
       "152802                              0\n",
       "152803                              0\n",
       "152804                              0\n",
       "152805                              0\n",
       "152806                              0\n",
       "\n",
       "[152807 rows x 1 columns]"
      ]
     },
     "execution_count": 8,
     "metadata": {},
     "output_type": "execute_result"
    }
   ],
   "source": [
    "y_resampled"
   ]
  },
  {
   "cell_type": "markdown",
   "metadata": {},
   "source": [
    "#### 모델 클래스 설계 & 정의\n",
    "<hr>\n",
    "* 클래스이름: SepsisLODModel\n",
    "* 클래스목적: sepsis 피쳐 바탕으로 환자의 9일 후 생사여부 예측\n",
    "* 부모클래스: nn.Module\n",
    "* 매개_변수: in_in, out_out, h_in=[], h_out=[]\n",
    "* 기능_역할:\n",
    "\t- init(): 모델 구조 설정\n",
    "\t- forward(): 순방향 학습\n",
    "<hr>\n",
    "* 클래스 구조:<br>\n",
    "\t- 은닉층 개수=> 동적\n",
    "\t- 입력층: 입력: 3\t\t출력: 동적\tAF: ReLU<br>\n",
    "\t- 은닉층: 입력: 동적\t출력: 동적\tAF: ReLU<br>\n",
    "\t- 출력층: 입력: 동적\t출력: 1\t\tAF: Sigmoid<br>\n",
    "\n"
   ]
  },
  {
   "cell_type": "code",
   "execution_count": 9,
   "metadata": {},
   "outputs": [],
   "source": [
    "\n",
    "class SepsisLODModel(nn.Module):\n",
    "    \n",
    "\t'''\n",
    "\tdef __init__(self, in_out, h_in=[], h_out=[]):\n",
    "\n",
    "\t\tsuper().__init__()\n",
    "\t\tself.in_layer = nn.Linear(3, h_in[0] if len(h_in) else in_out)\n",
    "\t\tself.hd_layers = nn.ModuleList()\n",
    "\t\t\n",
    "\t\tfor idx in range(len(h_in)):\n",
    "\t\t\tself.hd_layers.append(nn.Linear(h_in[idx], h_out[idx]))\n",
    "\n",
    "\t\tself.ot_layer = nn.Linear(h_out[-1] if len(h_in) else in_out, 1)\n",
    "\t'''\n",
    "\t\n",
    "\tdef __init__(self,in_out,perceptrons = []) :\n",
    "\t\tsuper().__init__()\n",
    "\t\tself.in_layer = nn.Linear(3,perceptrons[0] if len(perceptrons) else in_out)\n",
    "\n",
    "\t\tself.hd_layers = nn.ModuleList()\n",
    "\t\tfor idx in range(len(perceptrons)-1) :\n",
    "\t\t\tself.hd_layers.append(nn.Linear(perceptrons[idx], perceptrons[idx+1]))\n",
    "\n",
    "\t\tself.ot_layer = nn.Linear(perceptrons[-1] if len(perceptrons) else in_out,1)\n",
    "\n",
    "\tdef forward(self, input_data):\n",
    "\t\tx = F.relu(self.in_layer(input_data))\n",
    "\n",
    "\t\tfor linear in self.hd_layers:\n",
    "\t\t\tx = F.relu(linear(x))\n",
    "\n",
    "\t\treturn F.sigmoid(self.ot_layer(x))\n",
    "\n"
   ]
  },
  {
   "cell_type": "code",
   "execution_count": 10,
   "metadata": {},
   "outputs": [],
   "source": [
    "# [테스트]\n",
    "in_out_ = 5\n",
    "perceptron = [10,50,25,5]\n",
    "model = SepsisLODModel(5, perceptron)\n",
    "\n",
    "# in_out_ = 5\n",
    "# h_in_ = [10, 50, 25]\n",
    "# h_out_ = [50,25, 10]\n",
    "\n",
    "# model = SepsisLODModel(in_out=in_out_, h_in=h_in_, h_out=h_out_)"
   ]
  },
  {
   "cell_type": "code",
   "execution_count": 11,
   "metadata": {},
   "outputs": [
    {
     "name": "stdout",
     "output_type": "stream",
     "text": [
      "SepsisLODModel(\n",
      "  (in_layer): Linear(in_features=3, out_features=10, bias=True)\n",
      "  (hd_layers): ModuleList(\n",
      "    (0): Linear(in_features=10, out_features=50, bias=True)\n",
      "    (1): Linear(in_features=50, out_features=25, bias=True)\n",
      "    (2): Linear(in_features=25, out_features=5, bias=True)\n",
      "  )\n",
      "  (ot_layer): Linear(in_features=5, out_features=1, bias=True)\n",
      ")\n",
      "\n"
     ]
    },
    {
     "data": {
      "text/plain": [
       "==========================================================================================\n",
       "Layer (type:depth-idx)                   Output Shape              Param #\n",
       "==========================================================================================\n",
       "SepsisLODModel                           [130000, 1]               --\n",
       "├─Linear: 1-1                            [130000, 10]              40\n",
       "├─ModuleList: 1-2                        --                        --\n",
       "│    └─Linear: 2-1                       [130000, 50]              550\n",
       "│    └─Linear: 2-2                       [130000, 25]              1,275\n",
       "│    └─Linear: 2-3                       [130000, 5]               130\n",
       "├─Linear: 1-3                            [130000, 1]               6\n",
       "==========================================================================================\n",
       "Total params: 2,001\n",
       "Trainable params: 2,001\n",
       "Non-trainable params: 0\n",
       "Total mult-adds (M): 260.13\n",
       "==========================================================================================\n",
       "Input size (MB): 1.56\n",
       "Forward/backward pass size (MB): 94.64\n",
       "Params size (MB): 0.01\n",
       "Estimated Total Size (MB): 96.21\n",
       "=========================================================================================="
      ]
     },
     "execution_count": 11,
     "metadata": {},
     "output_type": "execute_result"
    }
   ],
   "source": [
    "print(model)\n",
    "print()\n",
    "summary(model, input_size=(130000, 3))"
   ]
  },
  {
   "cell_type": "markdown",
   "metadata": {},
   "source": [
    "#### 데이터셋 클래스 설계 & 정의\n",
    "<hr>\n"
   ]
  },
  {
   "cell_type": "code",
   "execution_count": 12,
   "metadata": {},
   "outputs": [],
   "source": [
    "class SepsisDataset(Dataset):\n",
    "    \n",
    "\tdef __init__(self, featureDF, targetDF):\n",
    "\t\tself.featureDF = featureDF\n",
    "\t\tself.targetDF=targetDF\n",
    "\t\tself.n_rows=featureDF.shape[0]\n",
    "\t\tself.n_features=featureDF.shape[1]\n",
    "\t\t\n",
    "\tdef __len__(self):\n",
    "\t\treturn self.n_rows\n",
    "\t\n",
    "\tdef __getitem__(self, idx):\n",
    "\t\t# 텐서화\n",
    "\t\tfeatureTS = torch.FloatTensor(self.featureDF.iloc[idx].values)\n",
    "\t\ttargetTS = torch.FloatTensor(self.targetDF.iloc[idx].values)\n",
    "\n",
    "\t\treturn featureTS, targetTS"
   ]
  },
  {
   "cell_type": "code",
   "execution_count": 13,
   "metadata": {},
   "outputs": [
    {
     "name": "stdout",
     "output_type": "stream",
     "text": [
      "torch.Size([1, 3])\n",
      "torch.Size([1, 1])\n",
      "tensor([[21.,  1.,  1.]])\n",
      "tensor([[1.]])\n"
     ]
    }
   ],
   "source": [
    "## [테스트] 데이터셋 인스턴스 생성\n",
    "\n",
    "# 데이터셋 인스턴스 생성\n",
    "SepsisDS = SepsisDataset(featureDF, targetDF)\n",
    "\n",
    "# 데이터로더 인스턴스 생성\n",
    "SepsisDL = DataLoader(SepsisDS)\n",
    "\n",
    "for feature, label in SepsisDL: \n",
    "    print(feature.shape, label.shape, feature, label, sep='\\n')\n",
    "    break"
   ]
  },
  {
   "cell_type": "markdown",
   "metadata": {},
   "source": [
    "#### train, valid 데이터셋 분리"
   ]
  },
  {
   "cell_type": "code",
   "execution_count": 14,
   "metadata": {},
   "outputs": [
    {
     "name": "stdout",
     "output_type": "stream",
     "text": [
      "X_trian: (122245, 3) 2D\n",
      "y_trian: (122245, 1) 2D\n",
      "y_val :\n",
      " hospital_outcome_1alive_0dead\n",
      "1                                94035\n",
      "0                                28210\n",
      "Name: count, dtype: int64\n",
      "y_train :\n",
      " hospital_outcome_1alive_0dead\n",
      "1                                76.923392\n",
      "0                                23.076608\n",
      "Name: count, dtype: float64\n",
      "\n",
      "X_val: (30562, 3) 2D\n",
      "y_val: (30562, 1) 2D\n",
      "y_val :\n",
      " hospital_outcome_1alive_0dead\n",
      "1                                23509\n",
      "0                                 7053\n",
      "Name: count, dtype: int64\n",
      "y_val :\n",
      " hospital_outcome_1alive_0dead\n",
      "1                                76.922322\n",
      "0                                23.077678\n",
      "Name: count, dtype: float64\n"
     ]
    }
   ],
   "source": [
    "X_train, X_val, y_train, y_val = train_test_split(X_resampled, y_resampled,\n",
    "                                                  test_size=0.2,\n",
    "                                                  stratify=y_resampled,\n",
    "                                                  random_state=10)\n",
    "\n",
    "\n",
    "print(f'X_trian: {X_train.shape} {X_train.ndim}D')\n",
    "print(f'y_trian: {y_train.shape} {y_train.ndim}D')\n",
    "print(f'y_val :\\n {y_train.value_counts()}')\n",
    "print(f'y_train :\\n {y_train.value_counts()*(100/len(y_train))}')\n",
    "print()\n",
    "print(f'X_val: {X_val.shape} {X_val.ndim}D')\n",
    "print(f'y_val: {y_val.shape} {y_val.ndim}D')\n",
    "print(f'y_val :\\n {y_val.value_counts()}')\n",
    "print(f'y_val :\\n {y_val.value_counts()*(100/len(y_val))}')\n",
    "\n",
    "# 학습용, 검증용 데이터셋\n",
    "trainDS = SepsisDataset(X_train, y_train)\n",
    "valDS = SepsisDataset(X_val, y_val)\n",
    "\n"
   ]
  },
  {
   "cell_type": "markdown",
   "metadata": {},
   "source": [
    "#### 학습_준비\n",
    "- 학습_횟수 : EPOCH         <- 처음~끝까지 공부하는 단위\n",
    "- 배치_크기 : BATCH_SIZE    <- 한번에 학습할 데이터셋 양 \n",
    "- 위치_지정 : DEVICE    <- 텐서 저장 및 실행 위치 (GPU/CPU)\n",
    "- 학_습_률 : LR 가중치와 절편 업데이트 시 경사하강법으로 업데이트 간격 설정 0.001~0.1 "
   ]
  },
  {
   "cell_type": "code",
   "execution_count": 15,
   "metadata": {},
   "outputs": [],
   "source": [
    "### 학습 진행 관련 설정\n",
    "EPOCH = 15\n",
    "BATCH_SIZE = 5000\n",
    "LR = 0.001"
   ]
  },
  {
   "cell_type": "code",
   "execution_count": 16,
   "metadata": {},
   "outputs": [
    {
     "data": {
      "text/plain": [
       "' \\nperceptron = [50, 100, 300, 150, 50]\\n[14/15]\\n- [Train] LOSS: 0.27644 Score: 0.96708\\n- [Valid] LOSS: 0.28517 Score: 0.28517\\n'"
      ]
     },
     "execution_count": 16,
     "metadata": {},
     "output_type": "execute_result"
    }
   ],
   "source": [
    "''' \n",
    "perceptron = [50, 100, 300, 150, 50]\n",
    "[14/15]\n",
    "- [Train] LOSS: 0.27644 Score: 0.96708\n",
    "- [Valid] LOSS: 0.28517 Score: 0.28517\n",
    "'''"
   ]
  },
  {
   "cell_type": "code",
   "execution_count": 17,
   "metadata": {},
   "outputs": [],
   "source": [
    "# 모델 인스턴스 \n",
    "perceptron = [50, 100, 300, 100, 50]\n",
    "model = SepsisLODModel(in_out=5, perceptrons=perceptron).to(DEVICE)"
   ]
  },
  {
   "cell_type": "code",
   "execution_count": 18,
   "metadata": {},
   "outputs": [],
   "source": [
    "# 학습용 데이터로더 인스턴스\n",
    "trainDL = DataLoader(trainDS, batch_size=BATCH_SIZE, drop_last=True)"
   ]
  },
  {
   "cell_type": "markdown",
   "metadata": {},
   "source": [
    "#### 최적화, 손실함수 인스턴스 생성"
   ]
  },
  {
   "cell_type": "code",
   "execution_count": 19,
   "metadata": {},
   "outputs": [
    {
     "name": "stderr",
     "output_type": "stream",
     "text": [
      "c:\\Users\\KDP-43\\anaconda3\\envs\\torch_38\\lib\\site-packages\\torch\\optim\\lr_scheduler.py:60: UserWarning: The verbose parameter is deprecated. Please use get_last_lr() to access the learning rate.\n",
      "  warnings.warn(\n"
     ]
    }
   ],
   "source": [
    "# 최적화 인스턴스 => W,b 텐서 즉, model.parameters() 전달\n",
    "optimizer=optim.Adam(model.parameters(), lr=LR)\n",
    "\n",
    "# 손실함수 인스턴스 => 분류 => 이진분류 BinaryCrossEntropyLoss =>  BCELoss \n",
    "#                            예측값은 확률값으로 전달 ==> sigmoid() AF 처리 후 전달\n",
    "crossLoss=nn.BCELoss()\n",
    "\n",
    "# 모델 성능함수 인스턴스\n",
    "recall_func = BinaryRecall()\n",
    "f1score_func = BinaryF1Score()\n",
    "\n",
    "# 최적화 스케줄링 인스턴스 생성 => lr 조절 및 성능 개선 여부 체크\n",
    "scheduler = lr_scheduler.ReduceLROnPlateau(optimizer, patience=2, \n",
    "                                           verbose=True, factor=0.9)\n",
    "#\t\t\t\t\t\t\t\t\t\t\t=> patience=10(default)\n",
    "# \t\t\t\t\t\t\t\t\t\t\t=> factor: lr 감소 비율 설정\n",
    "#\t\t\t\t\t\t\t\t\t\t\t=> threshold: s"
   ]
  },
  {
   "cell_type": "markdown",
   "metadata": {},
   "source": [
    "#### 학습"
   ]
  },
  {
   "cell_type": "markdown",
   "metadata": {},
   "source": [
    "> 모델 저장 준비"
   ]
  },
  {
   "cell_type": "code",
   "execution_count": 20,
   "metadata": {},
   "outputs": [],
   "source": [
    "import os\n",
    "\n",
    "# 저장 경로\n",
    "SAVE_PATH = r'./models/Adam/'\n",
    "\n",
    "# 모델 구조 & 파라미터 모두 저장\n",
    "SAVE_MODEL = 'model_all.pth'\n",
    "\n",
    "# 경로상 폴더 존재 여부 체크\n",
    "if not os.path.exists(SAVE_PATH):\n",
    "    os.makedirs(SAVE_PATH)"
   ]
  },
  {
   "cell_type": "markdown",
   "metadata": {},
   "source": [
    "> 학습 진행"
   ]
  },
  {
   "cell_type": "code",
   "execution_count": 21,
   "metadata": {},
   "outputs": [
    {
     "name": "stdout",
     "output_type": "stream",
     "text": [
      "122245\n",
      "BATCH_CNT => 24.449\n",
      "24\n"
     ]
    }
   ],
   "source": [
    "## 학습 효과 확인 손실값과 성능평가값 저장 필요\n",
    "\n",
    "LOSS_history  = {'Train':[], 'Val':[] }\n",
    "Recall_history = {'Train':[], 'Val':[] }\n",
    "F1score_history = {'Train':[], 'Val':[] }\n",
    "\n",
    "BATCH_CNT = len(trainDS)/BATCH_SIZE\n",
    "print(len(trainDS))\n",
    "print(f'BATCH_CNT => {BATCH_CNT}')\n",
    "print(len(trainDL))"
   ]
  },
  {
   "cell_type": "code",
   "execution_count": 22,
   "metadata": {},
   "outputs": [
    {
     "name": "stdout",
     "output_type": "stream",
     "text": [
      "[0/15]\n",
      "- [Train] LOSS: 0.58756           Recall: 0.93684           F1score: 0.81610\n",
      "- [Valid] LOSS: 0.58096           Recall: 1.00000          F1score: 0.86956\n",
      "[1/15]\n",
      "- [Train] LOSS: 0.54706           Recall: 0.98164           F1score: 0.85362\n",
      "- [Valid] LOSS: 0.52267           Recall: 1.00000          F1score: 0.86956\n",
      "[2/15]\n",
      "- [Train] LOSS: 0.51380           Recall: 0.98164           F1score: 0.85362\n",
      "- [Valid] LOSS: 0.51570           Recall: 1.00000          F1score: 0.86956\n",
      "[3/15]\n",
      "- [Train] LOSS: 0.50554           Recall: 0.98094           F1score: 0.85346\n",
      "- [Valid] LOSS: 0.55041           Recall: 1.00000          F1score: 0.86956\n",
      "[4/15]\n",
      "- [Train] LOSS: 0.50745           Recall: 0.98164           F1score: 0.85362\n",
      "- [Valid] LOSS: 0.51285           Recall: 1.00000          F1score: 0.86956\n",
      "[5/15]\n",
      "- [Train] LOSS: 0.49832           Recall: 0.98161           F1score: 0.85361\n",
      "- [Valid] LOSS: 0.51378           Recall: 1.00000          F1score: 0.86956\n",
      "[6/15]\n",
      "- [Train] LOSS: 0.49740           Recall: 0.98088           F1score: 0.85344\n",
      "- [Valid] LOSS: 0.51053           Recall: 1.00000          F1score: 0.86956\n",
      "[7/15]\n",
      "- [Train] LOSS: 0.49830           Recall: 0.98164           F1score: 0.85362\n",
      "- [Valid] LOSS: 0.51879           Recall: 1.00000          F1score: 0.86956\n",
      "[8/15]\n",
      "- [Train] LOSS: 0.49344           Recall: 0.98164           F1score: 0.85362\n",
      "- [Valid] LOSS: 0.49766           Recall: 1.00000          F1score: 0.86956\n",
      "[9/15]\n",
      "- [Train] LOSS: 0.49008           Recall: 0.98164           F1score: 0.85362\n",
      "- [Valid] LOSS: 0.50412           Recall: 1.00000          F1score: 0.86956\n",
      "[10/15]\n",
      "- [Train] LOSS: 0.49039           Recall: 0.98164           F1score: 0.85362\n",
      "- [Valid] LOSS: 0.52652           Recall: 1.00000          F1score: 0.86956\n",
      "2 EPOCH 성능 개선이 없어서 조기종료함.\n"
     ]
    }
   ],
   "source": [
    "\n",
    "for epoch in range(EPOCH):\n",
    "    \n",
    "\t\n",
    "\t# 학습 모드로 모델 설정\n",
    "    model.train()\n",
    "    \n",
    "    loss_total=0\n",
    "    recall_total =0\n",
    "    f1score_total = 0\n",
    "\n",
    "\t# 배치크기만큼 데이터 로딩 & 학습 진행\n",
    "    for featureTS, targetTS in trainDL:\n",
    "        \n",
    "\t\t# 1 epoch 학습\n",
    "        pre_y = model(featureTS)\n",
    "        \n",
    "\t\t# 손실계산\n",
    "        loss = crossLoss(pre_y, targetTS)\n",
    "        loss_total += loss.item()\n",
    "        \n",
    "\t\t# 성능평가 계산\n",
    "        score_recall = recall_func(pre_y, targetTS)\n",
    "        recall_total += score_recall.item()\n",
    "        \n",
    "        score_f1 = f1score_func(pre_y, targetTS)\n",
    "        f1score_total += score_f1.item()\n",
    "        \n",
    "        \n",
    "\t\t# 최적화 진행\n",
    "        optimizer.zero_grad()\n",
    "        loss.backward()\n",
    "        optimizer.step()\n",
    "        \n",
    "\t# 한 에포크에 대해 검증\n",
    "    # 모델 -> 검증 모드로 설정\n",
    "    model.eval()\n",
    "    \n",
    "    with torch.no_grad():\t\t\t# required_grade= True 로 설정된 파라미터 해제!!\n",
    "        # 검증 데이터셋\n",
    "        val_featureTS = torch.FloatTensor( valDS.featureDF.values )\n",
    "        val_targetTS = torch.FloatTensor( valDS.targetDF.values )\n",
    "        \n",
    "\t\t# 평가\n",
    "        pre_val = model(val_featureTS)\n",
    "        \n",
    "\t\t# 손실\n",
    "        loss_val = crossLoss(pre_val, val_targetTS)\n",
    "        # 성능평가\n",
    "        recall_val = recall_func(pre_val, val_targetTS)\n",
    "        f1score_val = f1score_func(pre_val, val_targetTS)\n",
    "        \n",
    "\t# 한 에포크 당 손실값과 성능평가값 저장\n",
    "    LOSS_history['Train'].append(loss_total/BATCH_CNT)\n",
    "    Recall_history['Train'].append(recall_total/BATCH_CNT)\n",
    "    F1score_history['Train'].append(f1score_total/BATCH_CNT)\n",
    "    \n",
    "    LOSS_history['Val'].append(loss_val)\n",
    "    Recall_history['Val'].append(recall_val)\n",
    "    F1score_history['Val'].append(f1score_val)\n",
    "    \n",
    "\n",
    "    print(f\"[{epoch}/{EPOCH}]\\n- [Train] LOSS: {LOSS_history['Train'][-1]:.5f} \\\n",
    "          Recall: {Recall_history['Train'][-1]:.5f} \\\n",
    "          F1score: {F1score_history['Train'][-1]:.5f}\")\n",
    "    \n",
    "    print(f\"- [Valid] LOSS: {LOSS_history['Val'][-1]:.5f} \\\n",
    "          Recall: {Recall_history['Val'][-1]:.5f}\\\n",
    "          F1score: {F1score_history['Val'][-1]:.5f}\")\n",
    "    \n",
    "\n",
    "\t# 성능이 좋은 학습 가중치 저장----------------------------------\n",
    "    \n",
    "\t# 저장 파일명\n",
    "    SAVE_FILE = f'model_train_wb_{epoch}_{f1score_val:.5f}.pth'\n",
    "\n",
    "    if len( F1score_history['Val']) == 1:\n",
    "        # 첫번째 저장값이라 무조건 모델 저장\n",
    "        torch.save(model.state_dict(), SAVE_PATH+SAVE_FILE)\n",
    "        # 모델 전체 저장\n",
    "        torch.save(model, SAVE_PATH+SAVE_MODEL)\n",
    "    \n",
    "    else:\n",
    "        # 지금 점수[-1]가 이전 최고성능 점수보다 높으면 저장\n",
    "    \tif F1score_history['Val'][-1] > max( F1score_history['Val'][:-1]):\n",
    "            torch.save(model.state_dict(), SAVE_PATH+SAVE_FILE)\n",
    "            torch.save(model, SAVE_PATH+SAVE_MODEL)\n",
    "            \n",
    "\t\t\t\n",
    "\t# 최적화 스케쥴러 인스턴스 업데이트\n",
    "    scheduler.step(loss_val)\n",
    "    # print(f'scheduler.num_bad_epochs =>  {scheduler.num_bad_epochs}', end='  ')\n",
    "    # print(f'scheduler.patience =>  {scheduler.patience}')\n",
    "    \n",
    "\t# 손실 감소(or 성능 개선)이 안될 시, 조기 종료\n",
    "    if scheduler.num_bad_epochs >= scheduler.patience:\n",
    "        print(f'{epoch} EPOCH 성능 개선이 없어서 조기종료함.')\n",
    "        break"
   ]
  },
  {
   "cell_type": "code",
   "execution_count": null,
   "metadata": {},
   "outputs": [],
   "source": []
  },
  {
   "cell_type": "markdown",
   "metadata": {},
   "source": [
    "##### test 데이터셋 모델 테스트"
   ]
  },
  {
   "cell_type": "code",
   "execution_count": null,
   "metadata": {},
   "outputs": [],
   "source": []
  },
  {
   "cell_type": "code",
   "execution_count": null,
   "metadata": {},
   "outputs": [],
   "source": []
  },
  {
   "cell_type": "markdown",
   "metadata": {},
   "source": [
    "- 결과: 과대적합\n",
    "<hr>\n",
    "- 해결방안\n",
    "\t* 데이터 재샘플링: 오버샘플링, 언더샘플링\n",
    "\t\t* 오버샘플링: https://mkjjo.github.io/python/2019/01/04/smote_duplicate.html \n",
    "\t* 클래스 가중치 조정: class_weight 파라미터 조정"
   ]
  },
  {
   "cell_type": "code",
   "execution_count": null,
   "metadata": {},
   "outputs": [],
   "source": []
  },
  {
   "cell_type": "code",
   "execution_count": null,
   "metadata": {},
   "outputs": [],
   "source": []
  },
  {
   "cell_type": "code",
   "execution_count": null,
   "metadata": {},
   "outputs": [],
   "source": []
  },
  {
   "cell_type": "code",
   "execution_count": null,
   "metadata": {},
   "outputs": [],
   "source": []
  }
 ],
 "metadata": {
  "kernelspec": {
   "display_name": "torch_38",
   "language": "python",
   "name": "python3"
  },
  "language_info": {
   "codemirror_mode": {
    "name": "ipython",
    "version": 3
   },
   "file_extension": ".py",
   "mimetype": "text/x-python",
   "name": "python",
   "nbconvert_exporter": "python",
   "pygments_lexer": "ipython3",
   "version": "3.8.19"
  }
 },
 "nbformat": 4,
 "nbformat_minor": 2
}

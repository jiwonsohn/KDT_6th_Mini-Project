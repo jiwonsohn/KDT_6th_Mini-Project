{
 "cells": [
  {
   "cell_type": "markdown",
   "metadata": {},
   "source": [
    "### 패혈증(Sepsis) 생존/사망 여부 예측 모델\n",
    "- .csv\n",
    "- 피쳐: 3개 (환자 나이, 환자 성별, 환자의 패혈증 발병 횟수)\n",
    "- 타겟: 9일 후 사망/생존 여부\n",
    "- 학습: 지도학습 >> 분류 >> 2진 분류\n",
    "- 알고리즘: DNN (MultiLayer Perceptron; 은닉층 min 2개)\n",
    "- 프레임워크: pytorch\n",
    "***"
   ]
  },
  {
   "cell_type": "code",
   "execution_count": 2,
   "metadata": {},
   "outputs": [],
   "source": [
    "# Model 모듈 로딩\n",
    "\n",
    "import torch\n",
    "import torch.nn as nn\n",
    "import torch.nn.functional as F\n",
    "from torch.utils.data import Dataset, DataLoader\n",
    "import torch.optim as optim\n",
    "from torchmetrics.classification import BinaryF1Score, BinaryAccuracy, BinaryRecall, BinaryPrecision, BinaryPrecisionRecallCurve, BinarySpecificity\n",
    "from torchmetrics.classification import BinaryConfusionMatrix\n",
    "from torchinfo import summary\n",
    "import torch.optim.lr_scheduler as lr_scheduler\n",
    "\n",
    "from custom_utils import *\n",
    "\n",
    "# Data 로딩 & 시각화 모듈 로딩\n",
    "import pandas as pd\n",
    "import matplotlib.pyplot as plt\n",
    "from sklearn.preprocessing import *\n",
    "from sklearn.model_selection import train_test_split\n"
   ]
  },
  {
   "cell_type": "code",
   "execution_count": 3,
   "metadata": {},
   "outputs": [
    {
     "name": "stdout",
     "output_type": "stream",
     "text": [
      "torch v.2.4.1\n",
      "pandas v.2.0.3\n"
     ]
    }
   ],
   "source": [
    "ver_check()"
   ]
  },
  {
   "cell_type": "code",
   "execution_count": 4,
   "metadata": {},
   "outputs": [],
   "source": [
    "# 랜덤 고정\n",
    "torch.manual_seed(1)\n",
    "\n",
    "# 텐서 저장 및 실행 위치 고정\n",
    "DEVICE = 'cuda' if torch.cuda.is_available() else 'cpu'"
   ]
  },
  {
   "cell_type": "markdown",
   "metadata": {},
   "source": [
    "#### 데이터 로드 & 타겟/피쳐 분리"
   ]
  },
  {
   "cell_type": "code",
   "execution_count": 5,
   "metadata": {},
   "outputs": [
    {
     "data": {
      "text/html": [
       "<div>\n",
       "<style scoped>\n",
       "    .dataframe tbody tr th:only-of-type {\n",
       "        vertical-align: middle;\n",
       "    }\n",
       "\n",
       "    .dataframe tbody tr th {\n",
       "        vertical-align: top;\n",
       "    }\n",
       "\n",
       "    .dataframe thead th {\n",
       "        text-align: right;\n",
       "    }\n",
       "</style>\n",
       "<table border=\"1\" class=\"dataframe\">\n",
       "  <thead>\n",
       "    <tr style=\"text-align: right;\">\n",
       "      <th></th>\n",
       "      <th>age_years</th>\n",
       "      <th>sex_0male_1female</th>\n",
       "      <th>episode_number</th>\n",
       "      <th>hospital_outcome_1alive_0dead</th>\n",
       "    </tr>\n",
       "  </thead>\n",
       "  <tbody>\n",
       "    <tr>\n",
       "      <th>129250</th>\n",
       "      <td>33</td>\n",
       "      <td>1</td>\n",
       "      <td>1</td>\n",
       "      <td>1</td>\n",
       "    </tr>\n",
       "    <tr>\n",
       "      <th>129251</th>\n",
       "      <td>58</td>\n",
       "      <td>0</td>\n",
       "      <td>1</td>\n",
       "      <td>1</td>\n",
       "    </tr>\n",
       "    <tr>\n",
       "      <th>129252</th>\n",
       "      <td>44</td>\n",
       "      <td>0</td>\n",
       "      <td>2</td>\n",
       "      <td>1</td>\n",
       "    </tr>\n",
       "    <tr>\n",
       "      <th>129253</th>\n",
       "      <td>61</td>\n",
       "      <td>0</td>\n",
       "      <td>3</td>\n",
       "      <td>0</td>\n",
       "    </tr>\n",
       "    <tr>\n",
       "      <th>129254</th>\n",
       "      <td>78</td>\n",
       "      <td>0</td>\n",
       "      <td>1</td>\n",
       "      <td>1</td>\n",
       "    </tr>\n",
       "  </tbody>\n",
       "</table>\n",
       "</div>"
      ],
      "text/plain": [
       "        age_years  sex_0male_1female  episode_number  \\\n",
       "129250         33                  1               1   \n",
       "129251         58                  0               1   \n",
       "129252         44                  0               2   \n",
       "129253         61                  0               3   \n",
       "129254         78                  0               1   \n",
       "\n",
       "        hospital_outcome_1alive_0dead  \n",
       "129250                              1  \n",
       "129251                              1  \n",
       "129252                              1  \n",
       "129253                              0  \n",
       "129254                              1  "
      ]
     },
     "execution_count": 5,
     "metadata": {},
     "output_type": "execute_result"
    }
   ],
   "source": [
    "### 데이터 로딩\n",
    "DATA_FILE = r'./data/total_sepsis.csv'\n",
    "\n",
    "rawDF = pd.read_csv(DATA_FILE)\n",
    "\n",
    "# 확인\n",
    "rawDF.tail(5)"
   ]
  },
  {
   "cell_type": "code",
   "execution_count": 6,
   "metadata": {},
   "outputs": [
    {
     "data": {
      "text/plain": [
       "hospital_outcome_1alive_0dead\n",
       "0    117544\n",
       "1     11711\n",
       "Name: count, dtype: int64"
      ]
     },
     "execution_count": 6,
     "metadata": {},
     "output_type": "execute_result"
    }
   ],
   "source": [
    "# 타겟 변수 변환\n",
    "# dead -> 1, alive -> 0\n",
    "label = {0:1, 1:0}\n",
    "rawDF[rawDF.columns[-1]].replace(label, inplace=True)\n",
    "\n",
    "rawDF[rawDF.columns[-1]].value_counts()"
   ]
  },
  {
   "cell_type": "code",
   "execution_count": 7,
   "metadata": {},
   "outputs": [
    {
     "name": "stdout",
     "output_type": "stream",
     "text": [
      "featreDF=> (129255, 3) 2D\n",
      "targetDF=> (129255, 1) 2D\n"
     ]
    }
   ],
   "source": [
    "# 타겟 & 피쳐 분리\n",
    "targetDF = rawDF[[rawDF.columns[-1]]]\n",
    "featureDF = rawDF[rawDF.columns[:-1]]\n",
    "\n",
    "# 타겟 & 피쳐 shape 확인\n",
    "print(f\"featreDF=> {featureDF.shape} {featureDF.ndim}D\")\n",
    "print(f\"targetDF=> {targetDF.shape} {targetDF.ndim}D\")"
   ]
  },
  {
   "cell_type": "markdown",
   "metadata": {},
   "source": [
    "##### 모델 로드 & 테스트"
   ]
  },
  {
   "cell_type": "code",
   "execution_count": 8,
   "metadata": {},
   "outputs": [
    {
     "ename": "TypeError",
     "evalue": "list indices must be integers or slices, not tuple",
     "output_type": "error",
     "traceback": [
      "\u001b[1;31m---------------------------------------------------------------------------\u001b[0m",
      "\u001b[1;31mTypeError\u001b[0m                                 Traceback (most recent call last)",
      "Cell \u001b[1;32mIn[8], line 4\u001b[0m\n\u001b[0;32m      2\u001b[0m in_out_ \u001b[38;5;241m=\u001b[39m \u001b[38;5;241m5\u001b[39m\n\u001b[0;32m      3\u001b[0m perceptron \u001b[38;5;241m=\u001b[39m [\u001b[38;5;241m10\u001b[39m,\u001b[38;5;241m50\u001b[39m,\u001b[38;5;241m25\u001b[39m,\u001b[38;5;241m5\u001b[39m]\n\u001b[1;32m----> 4\u001b[0m model \u001b[38;5;241m=\u001b[39m \u001b[43mSepsisLODModel\u001b[49m\u001b[43m(\u001b[49m\u001b[38;5;241;43m5\u001b[39;49m\u001b[43m,\u001b[49m\u001b[43m \u001b[49m\u001b[43mperceptron\u001b[49m\u001b[43m)\u001b[49m\n",
      "File \u001b[1;32mc:\\Users\\KDP-43\\Desktop\\@DL_project\\custom_utils.py:82\u001b[0m, in \u001b[0;36mSepsisLODModel.__init__\u001b[1;34m(self, in_out, perceptrons)\u001b[0m\n\u001b[0;32m     80\u001b[0m \u001b[38;5;28;01mdef\u001b[39;00m \u001b[38;5;21m__init__\u001b[39m(\u001b[38;5;28mself\u001b[39m,in_out,perceptrons \u001b[38;5;241m=\u001b[39m []) :\n\u001b[0;32m     81\u001b[0m \t\u001b[38;5;28msuper\u001b[39m()\u001b[38;5;241m.\u001b[39m\u001b[38;5;21m__init__\u001b[39m()\n\u001b[1;32m---> 82\u001b[0m \t\u001b[38;5;28mself\u001b[39m\u001b[38;5;241m.\u001b[39min_layer \u001b[38;5;241m=\u001b[39m nn\u001b[38;5;241m.\u001b[39mLinear(\u001b[38;5;241m3\u001b[39m,\u001b[43mperceptrons\u001b[49m\u001b[43m[\u001b[49m\u001b[38;5;241;43m0\u001b[39;49m\u001b[43m,\u001b[49m\u001b[38;5;241;43m0\u001b[39;49m\u001b[43m]\u001b[49m \u001b[38;5;28;01mif\u001b[39;00m \u001b[38;5;28mlen\u001b[39m(perceptrons) \u001b[38;5;28;01melse\u001b[39;00m in_out)\n\u001b[0;32m     84\u001b[0m \t\u001b[38;5;28mself\u001b[39m\u001b[38;5;241m.\u001b[39mhd_layers \u001b[38;5;241m=\u001b[39m nn\u001b[38;5;241m.\u001b[39mModuleList()\n\u001b[0;32m     85\u001b[0m \t\u001b[38;5;28;01mfor\u001b[39;00m idx \u001b[38;5;129;01min\u001b[39;00m \u001b[38;5;28mrange\u001b[39m(\u001b[38;5;28mlen\u001b[39m(perceptrons)\u001b[38;5;241m-\u001b[39m\u001b[38;5;241m1\u001b[39m) :\n",
      "\u001b[1;31mTypeError\u001b[0m: list indices must be integers or slices, not tuple"
     ]
    }
   ],
   "source": [
    "# [테스트]\n",
    "in_out_ = 5\n",
    "perceptron = [10,50,25,5]\n",
    "model = SepsisLODModel(5, perceptron)"
   ]
  },
  {
   "cell_type": "code",
   "execution_count": 8,
   "metadata": {},
   "outputs": [
    {
     "name": "stdout",
     "output_type": "stream",
     "text": [
      "SepsisLODModel(\n",
      "  (in_layer): Linear(in_features=3, out_features=10, bias=True)\n",
      "  (hd_layers): ModuleList(\n",
      "    (0): Linear(in_features=10, out_features=50, bias=True)\n",
      "    (1): Linear(in_features=50, out_features=25, bias=True)\n",
      "    (2): Linear(in_features=25, out_features=5, bias=True)\n",
      "  )\n",
      "  (ot_layer): Linear(in_features=5, out_features=1, bias=True)\n",
      ")\n",
      "\n"
     ]
    }
   ],
   "source": [
    "print(model)\n",
    "print()\n",
    "# summary(model, input_size=(130000, 3))"
   ]
  },
  {
   "cell_type": "markdown",
   "metadata": {},
   "source": [
    "#### 데이터셋 클래스 설계 & 정의\n",
    "<hr>\n"
   ]
  },
  {
   "cell_type": "code",
   "execution_count": 9,
   "metadata": {},
   "outputs": [
    {
     "name": "stdout",
     "output_type": "stream",
     "text": [
      "torch.Size([1, 3])\n",
      "torch.Size([1, 1])\n",
      "tensor([[21.,  1.,  1.]])\n",
      "tensor([[0.]])\n"
     ]
    }
   ],
   "source": [
    "## [테스트] 데이터셋 인스턴스 생성\n",
    "\n",
    "# 데이터셋 인스턴스 생성\n",
    "SepsisDS = SepsisDataset(featureDF, targetDF)\n",
    "\n",
    "# 데이터로더 인스턴스 생성\n",
    "SepsisDL = DataLoader(SepsisDS)\n",
    "\n",
    "for feature, label in SepsisDL: \n",
    "    print(feature.shape, label.shape, feature, label, sep='\\n')\n",
    "    break"
   ]
  },
  {
   "cell_type": "markdown",
   "metadata": {},
   "source": [
    "#### train, valid 데이터셋 분리"
   ]
  },
  {
   "cell_type": "code",
   "execution_count": 10,
   "metadata": {},
   "outputs": [
    {
     "name": "stdout",
     "output_type": "stream",
     "text": [
      "X_train: (93063, 3) 2D\n",
      "y_train: (93063, 1) 2D\n",
      "y_train :\n",
      " hospital_outcome_1alive_0dead\n",
      "0                                84631\n",
      "1                                 8432\n",
      "Name: count, dtype: int64\n",
      "y_train :\n",
      " hospital_outcome_1alive_0dead\n",
      "0                                90.939471\n",
      "1                                 9.060529\n",
      "Name: count, dtype: float64\n",
      "\n",
      "X_val: (10341, 3) 2D\n",
      "y_val: (10341, 1) 2D\n",
      "y_val :\n",
      " hospital_outcome_1alive_0dead\n",
      "0                                9404\n",
      "1                                 937\n",
      "Name: count, dtype: int64\n",
      "y_val :\n",
      " hospital_outcome_1alive_0dead\n",
      "0                                90.938981\n",
      "1                                 9.061019\n",
      "Name: count, dtype: float64\n",
      "\n",
      "X_test: (25851, 3) 2D\n",
      "y_test: (25851, 1) 2D\n",
      "y_test :\n",
      " hospital_outcome_1alive_0dead\n",
      "0                                23509\n",
      "1                                 2342\n",
      "Name: count, dtype: int64\n",
      "y_test :\n",
      " hospital_outcome_1alive_0dead\n",
      "0                                90.940389\n",
      "1                                 9.059611\n",
      "Name: count, dtype: float64\n"
     ]
    }
   ],
   "source": [
    "X_train, X_test, y_train, y_test = train_test_split(featureDF, targetDF,\n",
    "                                                  test_size=0.2,\n",
    "                                                  stratify=targetDF,\n",
    "                                                  random_state=12)\n",
    "\n",
    "X_train, X_val, y_train, y_val = train_test_split(X_train,y_train,\n",
    "                                                  test_size=0.1,\n",
    "                                                  stratify=y_train,\n",
    "                                                  random_state=12)\n",
    "\n",
    "\n",
    "dataset_print(X_train,y_train,X_test,y_test,X_val,y_val)"
   ]
  },
  {
   "cell_type": "markdown",
   "metadata": {},
   "source": [
    "#### 오버샘플링"
   ]
  },
  {
   "cell_type": "code",
   "execution_count": 11,
   "metadata": {},
   "outputs": [
    {
     "name": "stdout",
     "output_type": "stream",
     "text": [
      "hospital_outcome_1alive_0dead\n",
      "0                                84631\n",
      "1                                 8432\n",
      "Name: count, dtype: int64\n",
      "hospital_outcome_1alive_0dead\n",
      "0                                90.939471\n",
      "1                                 9.060529\n",
      "Name: count, dtype: float64\n",
      "===============RESAMPLING===================\n",
      "hospital_outcome_1alive_0dead\n",
      "0                                84631\n",
      "1                                25389\n",
      "Name: count, dtype: int64\n",
      "hospital_outcome_1alive_0dead\n",
      "0                                76.923287\n",
      "1                                23.076713\n",
      "Name: count, dtype: float64\n"
     ]
    }
   ],
   "source": [
    "# 필요한 라이브러리 불러오기\n",
    "from imblearn.over_sampling import SMOTE\n",
    "\n",
    "resamp_ratio = 0.3\n",
    "n_neighbor = 10\n",
    "\n",
    "# 재샘플링 전 클래스 분포 확인\n",
    "print(y_train.value_counts())\n",
    "print(y_train.value_counts()*(100/len(y_train)))\n",
    "\n",
    "# SMOTE 적용\n",
    "smote = SMOTE(sampling_strategy=resamp_ratio, random_state=10, \n",
    "              k_neighbors=n_neighbor)\n",
    "X_resampled, y_resampled = smote.fit_resample(X_train,y_train)\n",
    "\n",
    "# 재샘플링 후 클래스 분포 확인\n",
    "print(\"===============RESAMPLING===================\")\n",
    "print(y_resampled.value_counts())\n",
    "print(y_resampled.value_counts()*(100/len(y_resampled)))"
   ]
  },
  {
   "cell_type": "code",
   "execution_count": 12,
   "metadata": {},
   "outputs": [],
   "source": [
    "# 학습용, 검증용 데이터셋\n",
    "trainDS = SepsisDataset(X_resampled, y_resampled)\n",
    "valDS = SepsisDataset(X_val, y_val)\n",
    "# testDS = SepsisDataset(X_test, y_test)"
   ]
  },
  {
   "cell_type": "code",
   "execution_count": 13,
   "metadata": {},
   "outputs": [
    {
     "data": {
      "text/plain": [
       "hospital_outcome_1alive_0dead\n",
       "0                                84631\n",
       "1                                25389\n",
       "Name: count, dtype: int64"
      ]
     },
     "execution_count": 13,
     "metadata": {},
     "output_type": "execute_result"
    }
   ],
   "source": [
    "y_resampled.value_counts()"
   ]
  },
  {
   "cell_type": "code",
   "execution_count": 14,
   "metadata": {},
   "outputs": [],
   "source": [
    "# postive_weight=y_resampled.value_counts()[0]/y_resampled.value_counts()[1]"
   ]
  },
  {
   "cell_type": "code",
   "execution_count": 15,
   "metadata": {},
   "outputs": [],
   "source": [
    "# import numpy as np"
   ]
  },
  {
   "cell_type": "code",
   "execution_count": 16,
   "metadata": {},
   "outputs": [],
   "source": [
    "# postive_weight=torch.FloatTensor(np.array(postive_weight))"
   ]
  },
  {
   "cell_type": "code",
   "execution_count": 1,
   "metadata": {},
   "outputs": [
    {
     "ename": "NameError",
     "evalue": "name 'y_resampled' is not defined",
     "output_type": "error",
     "traceback": [
      "\u001b[1;31m---------------------------------------------------------------------------\u001b[0m",
      "\u001b[1;31mNameError\u001b[0m                                 Traceback (most recent call last)",
      "Cell \u001b[1;32mIn[1], line 1\u001b[0m\n\u001b[1;32m----> 1\u001b[0m \u001b[43my_resampled\u001b[49m\u001b[38;5;241m.\u001b[39mvalue_counts()\n",
      "\u001b[1;31mNameError\u001b[0m: name 'y_resampled' is not defined"
     ]
    }
   ],
   "source": [
    "y_resampled.value_counts()"
   ]
  },
  {
   "cell_type": "code",
   "execution_count": 17,
   "metadata": {},
   "outputs": [
    {
     "name": "stdout",
     "output_type": "stream",
     "text": [
      "0.7692328667514997\n"
     ]
    }
   ],
   "source": [
    "numSample_list = [y_resampled.value_counts().values[1], y_resampled.value_counts().values[0]]\n",
    "weights = [1 - (x / sum(numSample_list)) for x in numSample_list][0]\n",
    "print(weights)"
   ]
  },
  {
   "cell_type": "markdown",
   "metadata": {},
   "source": [
    "#### 학습_준비\n",
    "- 학습_횟수 : EPOCH         <- 처음~끝까지 공부하는 단위\n",
    "- 배치_크기 : BATCH_SIZE    <- 한번에 학습할 데이터셋 양 \n",
    "- 위치_지정 : DEVICE    <- 텐서 저장 및 실행 위치 (GPU/CPU)\n",
    "- 학_습_률 : LR 가중치와 절편 업데이트 시 경사하강법으로 업데이트 간격 설정 0.001~0.1 "
   ]
  },
  {
   "cell_type": "code",
   "execution_count": 18,
   "metadata": {},
   "outputs": [],
   "source": [
    "### 학습 진행 관련 설정\n",
    "EPOCH = 100\n",
    "BATCH_SIZE = 1000\n",
    "LR = 0.01"
   ]
  },
  {
   "cell_type": "code",
   "execution_count": 19,
   "metadata": {},
   "outputs": [
    {
     "data": {
      "text/plain": [
       "' \\nperceptron = [50, 100, 300, 150, 50]\\n[14/15]\\n- [Train] LOSS: 0.27644 Score: 0.96708\\n- [Valid] LOSS: 0.28517 Score: 0.28517\\n'"
      ]
     },
     "execution_count": 19,
     "metadata": {},
     "output_type": "execute_result"
    }
   ],
   "source": [
    "''' \n",
    "perceptron = [50, 100, 300, 150, 50]\n",
    "[14/15]\n",
    "- [Train] LOSS: 0.27644 Score: 0.96708\n",
    "- [Valid] LOSS: 0.28517 Score: 0.28517\n",
    "'''"
   ]
  },
  {
   "cell_type": "code",
   "execution_count": 20,
   "metadata": {},
   "outputs": [],
   "source": [
    "# 모델 인스턴스 \n",
    "perceptron = [100,500,250,50]\n",
    "model = SepsisLODModel(in_out=5, perceptrons=perceptron).to(DEVICE)"
   ]
  },
  {
   "cell_type": "code",
   "execution_count": 21,
   "metadata": {},
   "outputs": [],
   "source": [
    "# 학습용 데이터로더 인스턴스\n",
    "trainDL = DataLoader(trainDS, batch_size=BATCH_SIZE, drop_last=True)"
   ]
  },
  {
   "cell_type": "markdown",
   "metadata": {},
   "source": [
    "#### 최적화, 손실함수 인스턴스 생성"
   ]
  },
  {
   "cell_type": "code",
   "execution_count": 22,
   "metadata": {},
   "outputs": [
    {
     "name": "stderr",
     "output_type": "stream",
     "text": [
      "c:\\Users\\KDP-43\\anaconda3\\envs\\torch_38\\lib\\site-packages\\torch\\optim\\lr_scheduler.py:60: UserWarning: The verbose parameter is deprecated. Please use get_last_lr() to access the learning rate.\n",
      "  warnings.warn(\n"
     ]
    }
   ],
   "source": [
    "# 최적화 인스턴스 => W,b 텐서 즉, model.parameters() 전달\n",
    "optimizer=optim.Adam(model.parameters(), lr=LR)\n",
    "# optimizer=optim.NAdam(model.parameters(), lr=LR)\n",
    "\n",
    "\n",
    "\n",
    "# 손실함수 인스턴스 => 분류 => 이진분류 BinaryCrossEntropyLoss =>  BCELoss \n",
    "\n",
    "# 클래스 가중치 부여\n",
    "weightsTS = torch.FloatTensor([weights]) \n",
    "crossLoss=nn.BCELoss(weight=weightsTS)\n",
    "\n",
    "# 모델 성능함수 인스턴스\n",
    "recall_func = BinaryRecall()\n",
    "f1score_func = BinaryF1Score(threshold=weights)\n",
    "precis_func = BinaryPrecision()\n",
    "specfi_func = BinarySpecificity()\n",
    "\n",
    "metric = BinaryConfusionMatrix()\n",
    "\n",
    "# 최적화 스케줄링 인스턴스 생성 => lr 조절 및 성능 개선 여부 체크\n",
    "scheduler = lr_scheduler.ReduceLROnPlateau(optimizer, patience=5, \n",
    "                                           verbose=True, factor=0.9)\n",
    "#\t\t\t\t\t\t\t\t\t\t\t=> patience=10(default)\n",
    "# \t\t\t\t\t\t\t\t\t\t\t=> factor: lr 감소 비율 설정\n",
    "#\t\t\t\t\t\t\t\t\t\t\t=> threshold: s"
   ]
  },
  {
   "cell_type": "markdown",
   "metadata": {},
   "source": [
    "#### 학습"
   ]
  },
  {
   "cell_type": "markdown",
   "metadata": {},
   "source": [
    "> 모델 저장 준비"
   ]
  },
  {
   "cell_type": "code",
   "execution_count": 23,
   "metadata": {},
   "outputs": [],
   "source": [
    "import os\n",
    "\n",
    "# 저장 경로\n",
    "SAVE_PATH = r'./models/Adam/'\n",
    "\n",
    "# 모델 구조 & 파라미터 모두 저장\n",
    "SAVE_MODEL = 'model_all.pth'\n",
    "\n",
    "# 경로상 폴더 존재 여부 체크\n",
    "if not os.path.exists(SAVE_PATH):\n",
    "    os.makedirs(SAVE_PATH)"
   ]
  },
  {
   "cell_type": "markdown",
   "metadata": {},
   "source": [
    "> 학습 진행"
   ]
  },
  {
   "cell_type": "code",
   "execution_count": 24,
   "metadata": {},
   "outputs": [
    {
     "name": "stdout",
     "output_type": "stream",
     "text": [
      "110020\n",
      "BATCH_CNT => 110.02\n",
      "110\n"
     ]
    }
   ],
   "source": [
    "## 학습 효과 확인 손실값과 성능평가값 저장 필요\n",
    "\n",
    "LOSS_history  = {'Train':[], 'Val':[] }\n",
    "Recall_history = {'Train':[], 'Val':[] }\n",
    "F1score_history = {'Train':[], 'Val':[] }\n",
    "Precis_history = {'Train':[], 'Val':[] }\n",
    "specfi_history = {'Train':[], 'Val':[] }\n",
    "\n",
    "BATCH_CNT = len(trainDS)/BATCH_SIZE\n",
    "print(len(trainDS))\n",
    "print(f'BATCH_CNT => {BATCH_CNT}')\n",
    "print(len(trainDL))"
   ]
  },
  {
   "cell_type": "code",
   "execution_count": 25,
   "metadata": {},
   "outputs": [
    {
     "name": "stdout",
     "output_type": "stream",
     "text": [
      "[0/100]\n",
      "- [Train] LOSS: 0.25472           Recall: 0.14440           Precision: 0.14543           Specificity: 0.00000          F1score: 0.12511\n",
      "- [Valid] LOSS: 7.52614           Recall: 0.99893          Precision: 0.09290          Specificity: 1.00000          F1score: 0.17331\n",
      "tensor([[ 265, 9139],\n",
      "        [   1,  936]])\n",
      "[1/100]\n",
      "- [Train] LOSS: 0.60965           Recall: 0.16975           Precision: 0.08240           Specificity: 0.00000          F1score: 0.02068\n",
      "- [Valid] LOSS: 1.02922           Recall: 0.99787          Precision: 0.09500          Specificity: 1.00000          F1score: 0.22425\n",
      "tensor([[  762, 18046],\n",
      "        [    3,  1871]])\n",
      "[2/100]\n",
      "- [Train] LOSS: 0.40365           Recall: 0.14661           Precision: 0.06444           Specificity: 0.00000          F1score: 0.01086\n",
      "- [Valid] LOSS: 0.61272           Recall: 0.99573          Precision: 0.09821          Specificity: 1.00000          F1score: 0.00000\n",
      "tensor([[ 1599, 26613],\n",
      "        [    7,  2804]])\n",
      "[3/100]\n",
      "- [Train] LOSS: 0.35281           Recall: 0.23716           Precision: 0.12590           Specificity: 0.00000          F1score: 0.06365\n",
      "- [Valid] LOSS: 2.16932           Recall: 0.99787          Precision: 0.09459          Specificity: 1.00000          F1score: 0.18152\n",
      "tensor([[ 2053, 35563],\n",
      "        [    9,  3739]])\n",
      "[4/100]\n",
      "- [Train] LOSS: 0.47349           Recall: 0.11768           Precision: 0.01156           Specificity: 0.00000          F1score: 0.01673\n",
      "- [Valid] LOSS: 0.48104           Recall: 0.00000          Precision: 0.00000          Specificity: 0.00000          F1score: 0.00000\n",
      "tensor([[11457, 35563],\n",
      "        [  946,  3739]])\n",
      "[5/100]\n",
      "- [Train] LOSS: 0.42056           Recall: 0.08117           Precision: 0.09089           Specificity: 0.00000          F1score: 0.02293\n",
      "- [Valid] LOSS: 1.24790           Recall: 0.99787          Precision: 0.09515          Specificity: 1.00000          F1score: 0.20000\n",
      "tensor([[11969, 44455],\n",
      "        [  948,  4674]])\n",
      "[6/100]\n",
      "- [Train] LOSS: 0.50112           Recall: 0.16462           Precision: 0.01862           Specificity: 0.00000          F1score: 0.01625\n",
      "- [Valid] LOSS: 0.45000           Recall: 0.00000          Precision: 0.00000          Specificity: 0.00000          F1score: 0.00000\n",
      "tensor([[21373, 44455],\n",
      "        [ 1885,  4674]])\n",
      "[7/100]\n",
      "- [Train] LOSS: 0.46488           Recall: 0.06204           Precision: 0.06362           Specificity: 0.00000          F1score: 0.01307\n",
      "- [Valid] LOSS: 1.12074           Recall: 0.99787          Precision: 0.09566          Specificity: 1.00000          F1score: 0.21308\n",
      "tensor([[21938, 53294],\n",
      "        [ 1887,  5609]])\n",
      "[8/100]\n",
      "- [Train] LOSS: 0.42722           Recall: 0.21222           Precision: 0.11249           Specificity: 0.00000          F1score: 0.08509\n",
      "- [Valid] LOSS: 3.04442           Recall: 0.99787          Precision: 0.09526          Specificity: 1.00000          F1score: 0.17870\n",
      "tensor([[22462, 62174],\n",
      "        [ 1889,  6544]])\n",
      "[9/100]\n",
      "- [Train] LOSS: 0.52004           Recall: 0.10069           Precision: 0.02010           Specificity: 0.00000          F1score: 0.01478\n",
      "- [Valid] LOSS: 0.45617           Recall: 0.00213          Precision: 0.00844          Specificity: 1.00000          F1score: 0.00000\n",
      "tensor([[31631, 62409],\n",
      "        [ 2824,  6546]])\n",
      "[10/100]\n",
      "- [Train] LOSS: 0.45113           Recall: 0.00029           Precision: 0.00059           Specificity: 0.00000          F1score: 0.00000\n",
      "- [Valid] LOSS: 0.45266           Recall: 0.00000          Precision: 0.00000          Specificity: 0.00000          F1score: 0.00000\n",
      "tensor([[41035, 62409],\n",
      "        [ 3761,  6546]])\n",
      "[11/100]\n",
      "- [Train] LOSS: 0.47579           Recall: 0.00000           Precision: 0.00000           Specificity: 0.00000          F1score: 0.00000\n",
      "- [Valid] LOSS: 0.40662           Recall: 0.00000          Precision: 0.00000          Specificity: 0.00000          F1score: 0.00000\n",
      "tensor([[50439, 62409],\n",
      "        [ 4698,  6546]])\n",
      "[12/100]\n",
      "- [Train] LOSS: 0.37360           Recall: 0.00000           Precision: 0.00000           Specificity: 0.00000          F1score: 0.00000\n",
      "- [Valid] LOSS: 0.44088           Recall: 0.00000          Precision: 0.00000          Specificity: 0.00000          F1score: 0.00000\n",
      "tensor([[59843, 62409],\n",
      "        [ 5635,  6546]])\n",
      "[13/100]\n",
      "- [Train] LOSS: 0.41273           Recall: 0.09004           Precision: 0.09998           Specificity: 0.00000          F1score: 0.05148\n",
      "- [Valid] LOSS: 2.56413           Recall: 1.00000          Precision: 0.09061          Specificity: 1.00000          F1score: 0.17180\n",
      "tensor([[59843, 71813],\n",
      "        [ 5635,  7483]])\n",
      "[14/100]\n",
      "- [Train] LOSS: 0.53315           Recall: 0.13343           Precision: 0.08382           Specificity: 0.00000          F1score: 0.01468\n",
      "- [Valid] LOSS: 1.07726           Recall: 1.00000          Precision: 0.09122          Specificity: 1.00000          F1score: 0.21948\n",
      "tensor([[59912, 81148],\n",
      "        [ 5635,  8420]])\n",
      "[15/100]\n",
      "- [Train] LOSS: 0.42981           Recall: 0.15438           Precision: 0.09028           Specificity: 0.00000          F1score: 0.05081\n",
      "- [Valid] LOSS: 2.73552           Recall: 1.00000          Precision: 0.09061          Specificity: 1.00000          F1score: 0.17243\n",
      "tensor([[59912, 90552],\n",
      "        [ 5635,  9357]])\n",
      "[16/100]\n",
      "- [Train] LOSS: 0.53894           Recall: 0.07243           Precision: 0.00787           Specificity: 0.00000          F1score: 0.01052\n",
      "- [Valid] LOSS: 0.38210           Recall: 0.00000          Precision: 0.00000          Specificity: 0.00000          F1score: 0.00000\n",
      "tensor([[69316, 90552],\n",
      "        [ 6572,  9357]])\n",
      "[17/100]\n",
      "- [Train] LOSS: 0.44532           Recall: 0.00000           Precision: 0.00000           Specificity: 0.00000          F1score: 0.00000\n",
      "- [Valid] LOSS: 0.37409           Recall: 0.00000          Precision: 0.00000          Specificity: 0.00000          F1score: 0.00000\n",
      "tensor([[78720, 90552],\n",
      "        [ 7509,  9357]])\n",
      "[18/100]\n",
      "- [Train] LOSS: 0.44172           Recall: 0.00000           Precision: 0.00000           Specificity: 0.00000          F1score: 0.00000\n",
      "- [Valid] LOSS: 0.36690           Recall: 0.00000          Precision: 0.00000          Specificity: 0.00000          F1score: 0.00000\n",
      "tensor([[88124, 90552],\n",
      "        [ 8446,  9357]])\n",
      "[19/100]\n",
      "- [Train] LOSS: 0.43860           Recall: 0.00000           Precision: 0.00000           Specificity: 0.00000          F1score: 0.00000\n",
      "- [Valid] LOSS: 0.36041           Recall: 0.00000          Precision: 0.00000          Specificity: 0.00000          F1score: 0.00000\n",
      "tensor([[97528, 90552],\n",
      "        [ 9383,  9357]])\n",
      "[20/100]\n",
      "- [Train] LOSS: 0.43590           Recall: 0.00000           Precision: 0.00000           Specificity: 0.00000          F1score: 0.00000\n",
      "- [Valid] LOSS: 0.35454           Recall: 0.00000          Precision: 0.00000          Specificity: 0.00000          F1score: 0.00000\n",
      "tensor([[106932,  90552],\n",
      "        [ 10320,   9357]])\n",
      "[21/100]\n",
      "- [Train] LOSS: 0.43354           Recall: 0.00000           Precision: 0.00000           Specificity: 0.00000          F1score: 0.00000\n",
      "- [Valid] LOSS: 0.34922           Recall: 0.00000          Precision: 0.00000          Specificity: 0.00000          F1score: 0.00000\n",
      "tensor([[116336,  90552],\n",
      "        [ 11257,   9357]])\n",
      "[22/100]\n",
      "- [Train] LOSS: 0.43149           Recall: 0.00000           Precision: 0.00000           Specificity: 0.00000          F1score: 0.00000\n",
      "- [Valid] LOSS: 0.34438           Recall: 0.00000          Precision: 0.00000          Specificity: 0.00000          F1score: 0.00000\n",
      "tensor([[125740,  90552],\n",
      "        [ 12194,   9357]])\n",
      "[23/100]\n",
      "- [Train] LOSS: 0.42969           Recall: 0.00000           Precision: 0.00000           Specificity: 0.00000          F1score: 0.00000\n",
      "- [Valid] LOSS: 0.33997           Recall: 0.00000          Precision: 0.00000          Specificity: 0.00000          F1score: 0.00000\n",
      "tensor([[135144,  90552],\n",
      "        [ 13131,   9357]])\n",
      "[24/100]\n",
      "- [Train] LOSS: 0.42812           Recall: 0.00000           Precision: 0.00000           Specificity: 0.00000          F1score: 0.00000\n",
      "- [Valid] LOSS: 0.33594           Recall: 0.00000          Precision: 0.00000          Specificity: 0.00000          F1score: 0.00000\n",
      "tensor([[144548,  90552],\n",
      "        [ 14068,   9357]])\n",
      "[25/100]\n",
      "- [Train] LOSS: 0.42674           Recall: 0.00000           Precision: 0.00000           Specificity: 0.00000          F1score: 0.00000\n",
      "- [Valid] LOSS: 0.33225           Recall: 0.00000          Precision: 0.00000          Specificity: 0.00000          F1score: 0.00000\n",
      "tensor([[153952,  90552],\n",
      "        [ 15005,   9357]])\n",
      "[26/100]\n",
      "- [Train] LOSS: 0.42554           Recall: 0.00000           Precision: 0.00000           Specificity: 0.00000          F1score: 0.00000\n",
      "- [Valid] LOSS: 0.32888           Recall: 0.00000          Precision: 0.00000          Specificity: 0.00000          F1score: 0.00000\n",
      "tensor([[163356,  90552],\n",
      "        [ 15942,   9357]])\n",
      "[27/100]\n",
      "- [Train] LOSS: 0.42448           Recall: 0.00000           Precision: 0.00000           Specificity: 0.00000          F1score: 0.00000\n",
      "- [Valid] LOSS: 0.32577           Recall: 0.00000          Precision: 0.00000          Specificity: 0.00000          F1score: 0.00000\n",
      "tensor([[172760,  90552],\n",
      "        [ 16879,   9357]])\n",
      "[28/100]\n",
      "- [Train] LOSS: 0.42355           Recall: 0.00000           Precision: 0.00000           Specificity: 0.00000          F1score: 0.00000\n",
      "- [Valid] LOSS: 0.32292           Recall: 0.00000          Precision: 0.00000          Specificity: 0.00000          F1score: 0.00000\n",
      "tensor([[182164,  90552],\n",
      "        [ 17816,   9357]])\n",
      "[29/100]\n",
      "- [Train] LOSS: 0.42273           Recall: 0.00000           Precision: 0.00000           Specificity: 0.00000          F1score: 0.00000\n",
      "- [Valid] LOSS: 0.32030           Recall: 0.00000          Precision: 0.00000          Specificity: 0.00000          F1score: 0.00000\n",
      "tensor([[191568,  90552],\n",
      "        [ 18753,   9357]])\n",
      "[30/100]\n",
      "- [Train] LOSS: 0.42201           Recall: 0.00000           Precision: 0.00000           Specificity: 0.00000          F1score: 0.00000\n",
      "- [Valid] LOSS: 0.31788           Recall: 0.00000          Precision: 0.00000          Specificity: 0.00000          F1score: 0.00000\n",
      "tensor([[200972,  90552],\n",
      "        [ 19690,   9357]])\n",
      "[31/100]\n",
      "- [Train] LOSS: 0.42137           Recall: 0.00000           Precision: 0.00000           Specificity: 0.00000          F1score: 0.00000\n",
      "- [Valid] LOSS: 0.31565           Recall: 0.00000          Precision: 0.00000          Specificity: 0.00000          F1score: 0.00000\n",
      "tensor([[210376,  90552],\n",
      "        [ 20627,   9357]])\n",
      "[32/100]\n",
      "- [Train] LOSS: 0.42081           Recall: 0.00000           Precision: 0.00000           Specificity: 0.00000          F1score: 0.00000\n",
      "- [Valid] LOSS: 0.31359           Recall: 0.00000          Precision: 0.00000          Specificity: 0.00000          F1score: 0.00000\n",
      "tensor([[219780,  90552],\n",
      "        [ 21564,   9357]])\n",
      "[33/100]\n",
      "- [Train] LOSS: 0.42032           Recall: 0.00000           Precision: 0.00000           Specificity: 0.00000          F1score: 0.00000\n",
      "- [Valid] LOSS: 0.31168           Recall: 0.00000          Precision: 0.00000          Specificity: 0.00000          F1score: 0.00000\n",
      "tensor([[229184,  90552],\n",
      "        [ 22501,   9357]])\n",
      "[34/100]\n",
      "- [Train] LOSS: 0.41988           Recall: 0.00000           Precision: 0.00000           Specificity: 0.00000          F1score: 0.00000\n",
      "- [Valid] LOSS: 0.30991           Recall: 0.00000          Precision: 0.00000          Specificity: 0.00000          F1score: 0.00000\n",
      "tensor([[238588,  90552],\n",
      "        [ 23438,   9357]])\n",
      "[35/100]\n",
      "- [Train] LOSS: 0.41949           Recall: 0.00000           Precision: 0.00000           Specificity: 0.00000          F1score: 0.00000\n",
      "- [Valid] LOSS: 0.30828           Recall: 0.00000          Precision: 0.00000          Specificity: 0.00000          F1score: 0.00000\n",
      "tensor([[247992,  90552],\n",
      "        [ 24375,   9357]])\n",
      "[36/100]\n",
      "- [Train] LOSS: 0.41915           Recall: 0.00000           Precision: 0.00000           Specificity: 0.00000          F1score: 0.00000\n",
      "- [Valid] LOSS: 0.30676           Recall: 0.00000          Precision: 0.00000          Specificity: 0.00000          F1score: 0.00000\n",
      "tensor([[257396,  90552],\n",
      "        [ 25312,   9357]])\n",
      "[37/100]\n",
      "- [Train] LOSS: 0.41885           Recall: 0.00000           Precision: 0.00000           Specificity: 0.00000          F1score: 0.00000\n",
      "- [Valid] LOSS: 0.30535           Recall: 0.00000          Precision: 0.00000          Specificity: 0.00000          F1score: 0.00000\n",
      "tensor([[266800,  90552],\n",
      "        [ 26249,   9357]])\n",
      "[38/100]\n",
      "- [Train] LOSS: 0.41858           Recall: 0.00000           Precision: 0.00000           Specificity: 0.00000          F1score: 0.00000\n",
      "- [Valid] LOSS: 0.30405           Recall: 0.00000          Precision: 0.00000          Specificity: 0.00000          F1score: 0.00000\n",
      "tensor([[276204,  90552],\n",
      "        [ 27186,   9357]])\n",
      "[39/100]\n",
      "- [Train] LOSS: 0.41835           Recall: 0.00000           Precision: 0.00000           Specificity: 0.00000          F1score: 0.00000\n",
      "- [Valid] LOSS: 0.30283           Recall: 0.00000          Precision: 0.00000          Specificity: 0.00000          F1score: 0.00000\n",
      "tensor([[285608,  90552],\n",
      "        [ 28123,   9357]])\n",
      "[40/100]\n",
      "- [Train] LOSS: 0.41814           Recall: 0.00000           Precision: 0.00000           Specificity: 0.00000          F1score: 0.00000\n",
      "- [Valid] LOSS: 0.30170           Recall: 0.00000          Precision: 0.00000          Specificity: 0.00000          F1score: 0.00000\n",
      "tensor([[295012,  90552],\n",
      "        [ 29060,   9357]])\n",
      "[41/100]\n",
      "- [Train] LOSS: 0.41795           Recall: 0.00000           Precision: 0.00000           Specificity: 0.00000          F1score: 0.00000\n",
      "- [Valid] LOSS: 0.30064           Recall: 0.00000          Precision: 0.00000          Specificity: 0.00000          F1score: 0.00000\n",
      "tensor([[304416,  90552],\n",
      "        [ 29997,   9357]])\n",
      "[42/100]\n",
      "- [Train] LOSS: 0.41779           Recall: 0.00000           Precision: 0.00000           Specificity: 0.00000          F1score: 0.00000\n",
      "- [Valid] LOSS: 0.29966           Recall: 0.00000          Precision: 0.00000          Specificity: 0.00000          F1score: 0.00000\n",
      "tensor([[313820,  90552],\n",
      "        [ 30934,   9357]])\n",
      "[43/100]\n",
      "- [Train] LOSS: 0.41764           Recall: 0.00000           Precision: 0.00000           Specificity: 0.00000          F1score: 0.00000\n",
      "- [Valid] LOSS: 0.29875           Recall: 0.00000          Precision: 0.00000          Specificity: 0.00000          F1score: 0.00000\n",
      "tensor([[323224,  90552],\n",
      "        [ 31871,   9357]])\n",
      "[44/100]\n",
      "- [Train] LOSS: 0.41751           Recall: 0.00000           Precision: 0.00000           Specificity: 0.00000          F1score: 0.00000\n",
      "- [Valid] LOSS: 0.29790           Recall: 0.00000          Precision: 0.00000          Specificity: 0.00000          F1score: 0.00000\n",
      "tensor([[332628,  90552],\n",
      "        [ 32808,   9357]])\n",
      "[45/100]\n",
      "- [Train] LOSS: 0.41739           Recall: 0.00000           Precision: 0.00000           Specificity: 0.00000          F1score: 0.00000\n",
      "- [Valid] LOSS: 0.29710           Recall: 0.00000          Precision: 0.00000          Specificity: 0.00000          F1score: 0.00000\n",
      "tensor([[342032,  90552],\n",
      "        [ 33745,   9357]])\n",
      "[46/100]\n",
      "- [Train] LOSS: 0.41729           Recall: 0.00000           Precision: 0.00000           Specificity: 0.00000          F1score: 0.00000\n",
      "- [Valid] LOSS: 0.29636           Recall: 0.00000          Precision: 0.00000          Specificity: 0.00000          F1score: 0.00000\n",
      "tensor([[351436,  90552],\n",
      "        [ 34682,   9357]])\n",
      "[47/100]\n",
      "- [Train] LOSS: 0.41720           Recall: 0.00000           Precision: 0.00000           Specificity: 0.00000          F1score: 0.00000\n",
      "- [Valid] LOSS: 0.29566           Recall: 0.00000          Precision: 0.00000          Specificity: 0.00000          F1score: 0.00000\n",
      "tensor([[360840,  90552],\n",
      "        [ 35619,   9357]])\n",
      "[48/100]\n",
      "- [Train] LOSS: 0.41712           Recall: 0.00000           Precision: 0.00000           Specificity: 0.00000          F1score: 0.00000\n",
      "- [Valid] LOSS: 0.29502           Recall: 0.00000          Precision: 0.00000          Specificity: 0.00000          F1score: 0.00000\n",
      "tensor([[370244,  90552],\n",
      "        [ 36556,   9357]])\n",
      "[49/100]\n",
      "- [Train] LOSS: 0.41705           Recall: 0.00000           Precision: 0.00000           Specificity: 0.00000          F1score: 0.00000\n",
      "- [Valid] LOSS: 0.29441           Recall: 0.00000          Precision: 0.00000          Specificity: 0.00000          F1score: 0.00000\n",
      "tensor([[379648,  90552],\n",
      "        [ 37493,   9357]])\n",
      "[50/100]\n",
      "- [Train] LOSS: 0.41698           Recall: 0.00000           Precision: 0.00000           Specificity: 0.00000          F1score: 0.00000\n",
      "- [Valid] LOSS: 0.29384           Recall: 0.00000          Precision: 0.00000          Specificity: 0.00000          F1score: 0.00000\n",
      "tensor([[389052,  90552],\n",
      "        [ 38430,   9357]])\n",
      "[51/100]\n",
      "- [Train] LOSS: 0.41692           Recall: 0.00000           Precision: 0.00000           Specificity: 0.00000          F1score: 0.00000\n",
      "- [Valid] LOSS: 0.29331           Recall: 0.00000          Precision: 0.00000          Specificity: 0.00000          F1score: 0.00000\n",
      "tensor([[398456,  90552],\n",
      "        [ 39367,   9357]])\n",
      "[52/100]\n",
      "- [Train] LOSS: 0.41687           Recall: 0.00000           Precision: 0.00000           Specificity: 0.00000          F1score: 0.00000\n",
      "- [Valid] LOSS: 0.29281           Recall: 0.00000          Precision: 0.00000          Specificity: 0.00000          F1score: 0.00000\n",
      "tensor([[407860,  90552],\n",
      "        [ 40304,   9357]])\n",
      "[53/100]\n",
      "- [Train] LOSS: 0.41683           Recall: 0.00000           Precision: 0.00000           Specificity: 0.00000          F1score: 0.00000\n",
      "- [Valid] LOSS: 0.29235           Recall: 0.00000          Precision: 0.00000          Specificity: 0.00000          F1score: 0.00000\n",
      "tensor([[417264,  90552],\n",
      "        [ 41241,   9357]])\n",
      "[54/100]\n",
      "- [Train] LOSS: 0.41678           Recall: 0.00000           Precision: 0.00000           Specificity: 0.00000          F1score: 0.00000\n",
      "- [Valid] LOSS: 0.29191           Recall: 0.00000          Precision: 0.00000          Specificity: 0.00000          F1score: 0.00000\n",
      "tensor([[426668,  90552],\n",
      "        [ 42178,   9357]])\n",
      "[55/100]\n",
      "- [Train] LOSS: 0.41675           Recall: 0.00000           Precision: 0.00000           Specificity: 0.00000          F1score: 0.00000\n",
      "- [Valid] LOSS: 0.29150           Recall: 0.00000          Precision: 0.00000          Specificity: 0.00000          F1score: 0.00000\n",
      "tensor([[436072,  90552],\n",
      "        [ 43115,   9357]])\n",
      "[56/100]\n",
      "- [Train] LOSS: 0.41672           Recall: 0.00000           Precision: 0.00000           Specificity: 0.00000          F1score: 0.00000\n",
      "- [Valid] LOSS: 0.29112           Recall: 0.00000          Precision: 0.00000          Specificity: 0.00000          F1score: 0.00000\n",
      "tensor([[445476,  90552],\n",
      "        [ 44052,   9357]])\n",
      "[57/100]\n",
      "- [Train] LOSS: 0.41669           Recall: 0.00000           Precision: 0.00000           Specificity: 0.00000          F1score: 0.00000\n",
      "- [Valid] LOSS: 0.29076           Recall: 0.00000          Precision: 0.00000          Specificity: 0.00000          F1score: 0.00000\n",
      "tensor([[454880,  90552],\n",
      "        [ 44989,   9357]])\n",
      "[58/100]\n",
      "- [Train] LOSS: 0.41666           Recall: 0.00000           Precision: 0.00000           Specificity: 0.00000          F1score: 0.00000\n",
      "- [Valid] LOSS: 0.29043           Recall: 0.00000          Precision: 0.00000          Specificity: 0.00000          F1score: 0.00000\n",
      "tensor([[464284,  90552],\n",
      "        [ 45926,   9357]])\n",
      "[59/100]\n",
      "- [Train] LOSS: 0.41664           Recall: 0.00000           Precision: 0.00000           Specificity: 0.00000          F1score: 0.00000\n",
      "- [Valid] LOSS: 0.29011           Recall: 0.00000          Precision: 0.00000          Specificity: 0.00000          F1score: 0.00000\n",
      "tensor([[473688,  90552],\n",
      "        [ 46863,   9357]])\n",
      "[60/100]\n",
      "- [Train] LOSS: 0.41661           Recall: 0.00000           Precision: 0.00000           Specificity: 0.00000          F1score: 0.00000\n",
      "- [Valid] LOSS: 0.28981           Recall: 0.00000          Precision: 0.00000          Specificity: 0.00000          F1score: 0.00000\n",
      "tensor([[483092,  90552],\n",
      "        [ 47800,   9357]])\n",
      "[61/100]\n",
      "- [Train] LOSS: 0.41660           Recall: 0.00000           Precision: 0.00000           Specificity: 0.00000          F1score: 0.00000\n",
      "- [Valid] LOSS: 0.28954           Recall: 0.00000          Precision: 0.00000          Specificity: 0.00000          F1score: 0.00000\n",
      "tensor([[492496,  90552],\n",
      "        [ 48737,   9357]])\n",
      "[62/100]\n",
      "- [Train] LOSS: 0.41658           Recall: 0.00000           Precision: 0.00000           Specificity: 0.00000          F1score: 0.00000\n",
      "- [Valid] LOSS: 0.28927           Recall: 0.00000          Precision: 0.00000          Specificity: 0.00000          F1score: 0.00000\n",
      "tensor([[501900,  90552],\n",
      "        [ 49674,   9357]])\n",
      "[63/100]\n",
      "- [Train] LOSS: 0.41656           Recall: 0.00000           Precision: 0.00000           Specificity: 0.00000          F1score: 0.00000\n",
      "- [Valid] LOSS: 0.28903           Recall: 0.00000          Precision: 0.00000          Specificity: 0.00000          F1score: 0.00000\n",
      "tensor([[511304,  90552],\n",
      "        [ 50611,   9357]])\n",
      "[64/100]\n",
      "- [Train] LOSS: 0.41655           Recall: 0.00000           Precision: 0.00000           Specificity: 0.00000          F1score: 0.00000\n",
      "- [Valid] LOSS: 0.28880           Recall: 0.00000          Precision: 0.00000          Specificity: 0.00000          F1score: 0.00000\n",
      "tensor([[520708,  90552],\n",
      "        [ 51548,   9357]])\n",
      "[65/100]\n",
      "- [Train] LOSS: 0.41654           Recall: 0.00000           Precision: 0.00000           Specificity: 0.00000          F1score: 0.00000\n",
      "- [Valid] LOSS: 0.28858           Recall: 0.00000          Precision: 0.00000          Specificity: 0.00000          F1score: 0.00000\n",
      "tensor([[530112,  90552],\n",
      "        [ 52485,   9357]])\n",
      "[66/100]\n",
      "- [Train] LOSS: 0.41653           Recall: 0.00000           Precision: 0.00000           Specificity: 0.00000          F1score: 0.00000\n",
      "- [Valid] LOSS: 0.28838           Recall: 0.00000          Precision: 0.00000          Specificity: 0.00000          F1score: 0.00000\n",
      "tensor([[539516,  90552],\n",
      "        [ 53422,   9357]])\n",
      "[67/100]\n",
      "- [Train] LOSS: 0.41652           Recall: 0.00000           Precision: 0.00000           Specificity: 0.00000          F1score: 0.00000\n",
      "- [Valid] LOSS: 0.28819           Recall: 0.00000          Precision: 0.00000          Specificity: 0.00000          F1score: 0.00000\n",
      "tensor([[548920,  90552],\n",
      "        [ 54359,   9357]])\n",
      "[68/100]\n",
      "- [Train] LOSS: 0.41651           Recall: 0.00000           Precision: 0.00000           Specificity: 0.00000          F1score: 0.00000\n",
      "- [Valid] LOSS: 0.28801           Recall: 0.00000          Precision: 0.00000          Specificity: 0.00000          F1score: 0.00000\n",
      "tensor([[558324,  90552],\n",
      "        [ 55296,   9357]])\n",
      "[69/100]\n",
      "- [Train] LOSS: 0.41650           Recall: 0.00000           Precision: 0.00000           Specificity: 0.00000          F1score: 0.00000\n",
      "- [Valid] LOSS: 0.28784           Recall: 0.00000          Precision: 0.00000          Specificity: 0.00000          F1score: 0.00000\n",
      "tensor([[567728,  90552],\n",
      "        [ 56233,   9357]])\n",
      "[70/100]\n",
      "- [Train] LOSS: 0.41649           Recall: 0.00000           Precision: 0.00000           Specificity: 0.00000          F1score: 0.00000\n",
      "- [Valid] LOSS: 0.28768           Recall: 0.00000          Precision: 0.00000          Specificity: 0.00000          F1score: 0.00000\n",
      "tensor([[577132,  90552],\n",
      "        [ 57170,   9357]])\n",
      "[71/100]\n",
      "- [Train] LOSS: 0.41648           Recall: 0.00000           Precision: 0.00000           Specificity: 0.00000          F1score: 0.00000\n",
      "- [Valid] LOSS: 0.28753           Recall: 0.00000          Precision: 0.00000          Specificity: 0.00000          F1score: 0.00000\n",
      "tensor([[586536,  90552],\n",
      "        [ 58107,   9357]])\n",
      "[72/100]\n",
      "- [Train] LOSS: 0.41648           Recall: 0.00000           Precision: 0.00000           Specificity: 0.00000          F1score: 0.00000\n",
      "- [Valid] LOSS: 0.28739           Recall: 0.00000          Precision: 0.00000          Specificity: 0.00000          F1score: 0.00000\n",
      "tensor([[595940,  90552],\n",
      "        [ 59044,   9357]])\n",
      "[73/100]\n",
      "- [Train] LOSS: 0.41647           Recall: 0.00000           Precision: 0.00000           Specificity: 0.00000          F1score: 0.00000\n",
      "- [Valid] LOSS: 0.28726           Recall: 0.00000          Precision: 0.00000          Specificity: 0.00000          F1score: 0.00000\n",
      "tensor([[605344,  90552],\n",
      "        [ 59981,   9357]])\n",
      "[74/100]\n",
      "- [Train] LOSS: 0.41647           Recall: 0.00000           Precision: 0.00000           Specificity: 0.00000          F1score: 0.00000\n",
      "- [Valid] LOSS: 0.28714           Recall: 0.00000          Precision: 0.00000          Specificity: 0.00000          F1score: 0.00000\n",
      "tensor([[614748,  90552],\n",
      "        [ 60918,   9357]])\n",
      "[75/100]\n",
      "- [Train] LOSS: 0.41646           Recall: 0.00000           Precision: 0.00000           Specificity: 0.00000          F1score: 0.00000\n",
      "- [Valid] LOSS: 0.28702           Recall: 0.00000          Precision: 0.00000          Specificity: 0.00000          F1score: 0.00000\n",
      "tensor([[624152,  90552],\n",
      "        [ 61855,   9357]])\n",
      "[76/100]\n",
      "- [Train] LOSS: 0.41646           Recall: 0.00000           Precision: 0.00000           Specificity: 0.00000          F1score: 0.00000\n",
      "- [Valid] LOSS: 0.28691           Recall: 0.00000          Precision: 0.00000          Specificity: 0.00000          F1score: 0.00000\n",
      "tensor([[633556,  90552],\n",
      "        [ 62792,   9357]])\n",
      "[77/100]\n",
      "- [Train] LOSS: 0.41645           Recall: 0.00000           Precision: 0.00000           Specificity: 0.00000          F1score: 0.00000\n",
      "- [Valid] LOSS: 0.28681           Recall: 0.00000          Precision: 0.00000          Specificity: 0.00000          F1score: 0.00000\n",
      "tensor([[642960,  90552],\n",
      "        [ 63729,   9357]])\n",
      "[78/100]\n",
      "- [Train] LOSS: 0.41645           Recall: 0.00000           Precision: 0.00000           Specificity: 0.00000          F1score: 0.00000\n",
      "- [Valid] LOSS: 0.28671           Recall: 0.00000          Precision: 0.00000          Specificity: 0.00000          F1score: 0.00000\n",
      "tensor([[652364,  90552],\n",
      "        [ 64666,   9357]])\n",
      "[79/100]\n",
      "- [Train] LOSS: 0.41645           Recall: 0.00000           Precision: 0.00000           Specificity: 0.00000          F1score: 0.00000\n",
      "- [Valid] LOSS: 0.28662           Recall: 0.00000          Precision: 0.00000          Specificity: 0.00000          F1score: 0.00000\n",
      "tensor([[661768,  90552],\n",
      "        [ 65603,   9357]])\n",
      "[80/100]\n",
      "- [Train] LOSS: 0.41645           Recall: 0.00000           Precision: 0.00000           Specificity: 0.00000          F1score: 0.00000\n",
      "- [Valid] LOSS: 0.28653           Recall: 0.00000          Precision: 0.00000          Specificity: 0.00000          F1score: 0.00000\n",
      "tensor([[671172,  90552],\n",
      "        [ 66540,   9357]])\n",
      "[81/100]\n",
      "- [Train] LOSS: 0.41644           Recall: 0.00000           Precision: 0.00000           Specificity: 0.00000          F1score: 0.00000\n",
      "- [Valid] LOSS: 0.28645           Recall: 0.00000          Precision: 0.00000          Specificity: 0.00000          F1score: 0.00000\n",
      "tensor([[680576,  90552],\n",
      "        [ 67477,   9357]])\n",
      "[82/100]\n",
      "- [Train] LOSS: 0.41644           Recall: 0.00000           Precision: 0.00000           Specificity: 0.00000          F1score: 0.00000\n",
      "- [Valid] LOSS: 0.28637           Recall: 0.00000          Precision: 0.00000          Specificity: 0.00000          F1score: 0.00000\n",
      "tensor([[689980,  90552],\n",
      "        [ 68414,   9357]])\n",
      "[83/100]\n",
      "- [Train] LOSS: 0.41644           Recall: 0.00000           Precision: 0.00000           Specificity: 0.00000          F1score: 0.00000\n",
      "- [Valid] LOSS: 0.28630           Recall: 0.00000          Precision: 0.00000          Specificity: 0.00000          F1score: 0.00000\n",
      "tensor([[699384,  90552],\n",
      "        [ 69351,   9357]])\n",
      "[84/100]\n",
      "- [Train] LOSS: 0.41644           Recall: 0.00000           Precision: 0.00000           Specificity: 0.00000          F1score: 0.00000\n",
      "- [Valid] LOSS: 0.28623           Recall: 0.00000          Precision: 0.00000          Specificity: 0.00000          F1score: 0.00000\n",
      "tensor([[708788,  90552],\n",
      "        [ 70288,   9357]])\n",
      "[85/100]\n",
      "- [Train] LOSS: 0.41643           Recall: 0.00000           Precision: 0.00000           Specificity: 0.00000          F1score: 0.00000\n",
      "- [Valid] LOSS: 0.28617           Recall: 0.00000          Precision: 0.00000          Specificity: 0.00000          F1score: 0.00000\n",
      "tensor([[718192,  90552],\n",
      "        [ 71225,   9357]])\n",
      "[86/100]\n",
      "- [Train] LOSS: 0.41643           Recall: 0.00000           Precision: 0.00000           Specificity: 0.00000          F1score: 0.00000\n",
      "- [Valid] LOSS: 0.28611           Recall: 0.00000          Precision: 0.00000          Specificity: 0.00000          F1score: 0.00000\n",
      "tensor([[727596,  90552],\n",
      "        [ 72162,   9357]])\n",
      "[87/100]\n",
      "- [Train] LOSS: 0.41643           Recall: 0.00000           Precision: 0.00000           Specificity: 0.00000          F1score: 0.00000\n",
      "- [Valid] LOSS: 0.28605           Recall: 0.00000          Precision: 0.00000          Specificity: 0.00000          F1score: 0.00000\n",
      "tensor([[737000,  90552],\n",
      "        [ 73099,   9357]])\n",
      "[88/100]\n",
      "- [Train] LOSS: 0.41643           Recall: 0.00000           Precision: 0.00000           Specificity: 0.00000          F1score: 0.00000\n",
      "- [Valid] LOSS: 0.28600           Recall: 0.00000          Precision: 0.00000          Specificity: 0.00000          F1score: 0.00000\n",
      "tensor([[746404,  90552],\n",
      "        [ 74036,   9357]])\n",
      "[89/100]\n",
      "- [Train] LOSS: 0.41643           Recall: 0.00000           Precision: 0.00000           Specificity: 0.00000          F1score: 0.00000\n",
      "- [Valid] LOSS: 0.28595           Recall: 0.00000          Precision: 0.00000          Specificity: 0.00000          F1score: 0.00000\n",
      "tensor([[755808,  90552],\n",
      "        [ 74973,   9357]])\n",
      "[90/100]\n",
      "- [Train] LOSS: 0.41643           Recall: 0.00000           Precision: 0.00000           Specificity: 0.00000          F1score: 0.00000\n",
      "- [Valid] LOSS: 0.28590           Recall: 0.00000          Precision: 0.00000          Specificity: 0.00000          F1score: 0.00000\n",
      "tensor([[765212,  90552],\n",
      "        [ 75910,   9357]])\n",
      "[91/100]\n",
      "- [Train] LOSS: 0.41643           Recall: 0.00000           Precision: 0.00000           Specificity: 0.00000          F1score: 0.00000\n",
      "- [Valid] LOSS: 0.28586           Recall: 0.00000          Precision: 0.00000          Specificity: 0.00000          F1score: 0.00000\n",
      "tensor([[774616,  90552],\n",
      "        [ 76847,   9357]])\n",
      "[92/100]\n",
      "- [Train] LOSS: 0.41643           Recall: 0.00000           Precision: 0.00000           Specificity: 0.00000          F1score: 0.00000\n",
      "- [Valid] LOSS: 0.28582           Recall: 0.00000          Precision: 0.00000          Specificity: 0.00000          F1score: 0.00000\n",
      "tensor([[784020,  90552],\n",
      "        [ 77784,   9357]])\n",
      "[93/100]\n",
      "- [Train] LOSS: 0.41642           Recall: 0.00000           Precision: 0.00000           Specificity: 0.00000          F1score: 0.00000\n",
      "- [Valid] LOSS: 0.28578           Recall: 0.00000          Precision: 0.00000          Specificity: 0.00000          F1score: 0.00000\n",
      "tensor([[793424,  90552],\n",
      "        [ 78721,   9357]])\n",
      "[94/100]\n",
      "- [Train] LOSS: 0.41642           Recall: 0.00000           Precision: 0.00000           Specificity: 0.00000          F1score: 0.00000\n",
      "- [Valid] LOSS: 0.28574           Recall: 0.00000          Precision: 0.00000          Specificity: 0.00000          F1score: 0.00000\n",
      "tensor([[802828,  90552],\n",
      "        [ 79658,   9357]])\n",
      "[95/100]\n",
      "- [Train] LOSS: 0.41642           Recall: 0.00000           Precision: 0.00000           Specificity: 0.00000          F1score: 0.00000\n",
      "- [Valid] LOSS: 0.28570           Recall: 0.00000          Precision: 0.00000          Specificity: 0.00000          F1score: 0.00000\n",
      "tensor([[812232,  90552],\n",
      "        [ 80595,   9357]])\n",
      "[96/100]\n",
      "- [Train] LOSS: 0.41642           Recall: 0.00000           Precision: 0.00000           Specificity: 0.00000          F1score: 0.00000\n",
      "- [Valid] LOSS: 0.28567           Recall: 0.00000          Precision: 0.00000          Specificity: 0.00000          F1score: 0.00000\n",
      "tensor([[821636,  90552],\n",
      "        [ 81532,   9357]])\n",
      "[97/100]\n",
      "- [Train] LOSS: 0.41642           Recall: 0.00000           Precision: 0.00000           Specificity: 0.00000          F1score: 0.00000\n",
      "- [Valid] LOSS: 0.28564           Recall: 0.00000          Precision: 0.00000          Specificity: 0.00000          F1score: 0.00000\n",
      "tensor([[831040,  90552],\n",
      "        [ 82469,   9357]])\n",
      "[98/100]\n",
      "- [Train] LOSS: 0.41642           Recall: 0.00000           Precision: 0.00000           Specificity: 0.00000          F1score: 0.00000\n",
      "- [Valid] LOSS: 0.28561           Recall: 0.00000          Precision: 0.00000          Specificity: 0.00000          F1score: 0.00000\n",
      "tensor([[840444,  90552],\n",
      "        [ 83406,   9357]])\n",
      "[99/100]\n",
      "- [Train] LOSS: 0.41642           Recall: 0.00000           Precision: 0.00000           Specificity: 0.00000          F1score: 0.00000\n",
      "- [Valid] LOSS: 0.28558           Recall: 0.00000          Precision: 0.00000          Specificity: 0.00000          F1score: 0.00000\n",
      "tensor([[849848,  90552],\n",
      "        [ 84343,   9357]])\n"
     ]
    }
   ],
   "source": [
    "\n",
    "for epoch in range(EPOCH):\n",
    "    \n",
    "\t\n",
    "\t# 학습 모드로 모델 설정\n",
    "    model.train()\n",
    "    \n",
    "    loss_total =0\n",
    "    recall_total =0\n",
    "    f1score_total =0\n",
    "    precis_total =0\n",
    "    specfi_total =0\n",
    "\n",
    "\t# 배치크기만큼 데이터 로딩 & 학습 진행\n",
    "    for featureTS, targetTS in trainDL:\n",
    "        \n",
    "\t\t# 1 epoch 학습\n",
    "        pre_y = model(featureTS)\n",
    "        \n",
    "\t\t# 손실계산\n",
    "        loss = crossLoss(pre_y, targetTS)\n",
    "        loss_total += loss.item()\n",
    "        \n",
    "\t\t# 성능평가 계산\n",
    "        score_recall = recall_func(pre_y, targetTS)\n",
    "        recall_total += score_recall.item()\n",
    "        \n",
    "        score_f1 = f1score_func(pre_y, targetTS)\n",
    "        f1score_total += score_f1.item()\n",
    "        \n",
    "        score_precis = precis_func(pre_y, targetTS)\n",
    "        precis_total += score_precis.item()\n",
    "        \n",
    "        score_specif = specfi_func(pre_y, targetTS)\n",
    "        specfi_total = score_specif.item()\n",
    "        \n",
    "\t\t# 최적화 진행\n",
    "        optimizer.zero_grad()\n",
    "        loss.backward()\n",
    "        optimizer.step()\n",
    "        \n",
    "\t# 한 에포크에 대해 검증\n",
    "    # 모델 -> 검증 모드로 설정\n",
    "    model.eval()\n",
    "    \n",
    "    with torch.no_grad():\t\t\t# required_grade= True 로 설정된 파라미터 해제!!\n",
    "        # 검증 데이터셋\n",
    "        val_featureTS = torch.FloatTensor( valDS.featureDF.values )\n",
    "        val_targetTS = torch.FloatTensor( valDS.targetDF.values )\n",
    "        \n",
    "\t\t# 평가\n",
    "        pre_val = model(val_featureTS)\n",
    "        \n",
    "\t\t# 손실\n",
    "        loss_val = crossLoss(pre_val, val_targetTS)\n",
    "        # 성능평가\n",
    "        recall_val = recall_func(pre_val, val_targetTS)\n",
    "        f1score_val = f1score_func(pre_val, val_targetTS)\n",
    "        precis_val = precis_func(pre_val, val_targetTS)\n",
    "        specfi = specfi_func(pre_val, val_targetTS)\n",
    "        \n",
    "\t# 한 에포크 당 손실값과 성능평가값 저장\n",
    "    LOSS_history['Train'].append(loss_total/BATCH_CNT)\n",
    "    Recall_history['Train'].append(recall_total/BATCH_CNT)\n",
    "    F1score_history['Train'].append(f1score_total/BATCH_CNT)\n",
    "    Precis_history['Train'].append(precis_total/BATCH_CNT)\n",
    "    specfi_history['Train'].append(specfi_total/BATCH_CNT)\n",
    "    \n",
    "    LOSS_history['Val'].append(loss_val)\n",
    "    Recall_history['Val'].append(recall_val)\n",
    "    F1score_history['Val'].append(f1score_val)\n",
    "    Precis_history['Val'].append(precis_val)\n",
    "    specfi_history['Val'].append(score_precis)\n",
    "    \n",
    "    print(f\"[{epoch}/{EPOCH}]\\n- [Train] LOSS: {LOSS_history['Train'][-1]:.5f} \\\n",
    "          Recall: {Recall_history['Train'][-1]:.5f} \\\n",
    "          Precision: {Precis_history['Train'][-1]:.5f} \\\n",
    "          Specificity: {specfi_history['Train'][-1]:.5f}\\\n",
    "          F1score: {F1score_history['Train'][-1]:.5f}\")\n",
    "    \n",
    "    print(f\"- [Valid] LOSS: {LOSS_history['Val'][-1]:.5f} \\\n",
    "          Recall: {Recall_history['Val'][-1]:.5f}\\\n",
    "          Precision: {Precis_history['Val'][-1]:.5f}\\\n",
    "          Specificity: {specfi_history['Val'][-1]:.5f}\\\n",
    "          F1score: {F1score_history['Val'][-1]:.5f}\")\n",
    "    \n",
    "    metric.update(pre_val, val_targetTS)\n",
    "    metric_result = metric.compute()\n",
    "    print(metric_result)\n",
    "    \n",
    "\n",
    "\t# 성능이 좋은 학습 가중치 저장----------------------------------\n",
    "    \n",
    "\t# 저장 파일명\n",
    "    SAVE_FILE = f'model_train_wb_{epoch}_{f1score_val:.5f}.pth'\n",
    "\n",
    "    if len( F1score_history['Val']) == 1:\n",
    "        # 첫번째 저장값이라 무조건 모델 저장\n",
    "        torch.save(model.state_dict(), SAVE_PATH+SAVE_FILE)\n",
    "        # 모델 전체 저장\n",
    "        torch.save(model, SAVE_PATH+SAVE_MODEL)\n",
    "    \n",
    "    else:\n",
    "        # 지금 점수[-1]가 이전 최고성능 점수보다 높으면 저장\n",
    "    \tif F1score_history['Val'][-1] > max( F1score_history['Val'][:-1]):\n",
    "            torch.save(model.state_dict(), SAVE_PATH+SAVE_FILE)\n",
    "            torch.save(model, SAVE_PATH+SAVE_MODEL)\n",
    "            \n",
    "\t\t\t\n",
    "\t# 최적화 스케쥴러 인스턴스 업데이트\n",
    "    scheduler.step(loss_val)\n",
    "    # print(f'scheduler.num_bad_epochs =>  {scheduler.num_bad_epochs}', end='  ')\n",
    "    # print(f'scheduler.patience =>  {scheduler.patience}')\n",
    "    \n",
    "\t# 손실 감소(or 성능 개선)이 안될 시, 조기 종료\n",
    "    if scheduler.num_bad_epochs >= scheduler.patience:\n",
    "        print(f'{epoch} EPOCH 성능 개선이 없어서 조기종료함.')\n",
    "        break"
   ]
  },
  {
   "cell_type": "code",
   "execution_count": 28,
   "metadata": {},
   "outputs": [
    {
     "data": {
      "text/plain": [
       "10"
      ]
     },
     "execution_count": 28,
     "metadata": {},
     "output_type": "execute_result"
    }
   ],
   "source": [
    "n_neighbor"
   ]
  },
  {
   "cell_type": "code",
   "execution_count": 31,
   "metadata": {},
   "outputs": [
    {
     "ename": "AttributeError",
     "evalue": "'numpy.ndarray' object has no attribute 'plot'",
     "output_type": "error",
     "traceback": [
      "\u001b[1;31m---------------------------------------------------------------------------\u001b[0m",
      "\u001b[1;31mAttributeError\u001b[0m                            Traceback (most recent call last)",
      "Cell \u001b[1;32mIn[31], line 1\u001b[0m\n\u001b[1;32m----> 1\u001b[0m \u001b[43mshowLossScore\u001b[49m\u001b[43m(\u001b[49m\u001b[43mLOSS_history\u001b[49m\u001b[43m,\u001b[49m\u001b[43m \u001b[49m\u001b[43mRecall_history\u001b[49m\u001b[43m,\u001b[49m\u001b[43m \u001b[49m\u001b[43mF1score_history\u001b[49m\u001b[43m,\u001b[49m\u001b[43m \u001b[49m\u001b[43mspecfi_history\u001b[49m\u001b[43m,\u001b[49m\u001b[43m \u001b[49m\u001b[43mresamp_ratio\u001b[49m\u001b[43m,\u001b[49m\u001b[43m \u001b[49m\u001b[43mn_neighbor\u001b[49m\u001b[43m)\u001b[49m\n",
      "File \u001b[1;32mc:\\Users\\KDP-43\\Desktop\\@DL_project\\custom_utils.py:190\u001b[0m, in \u001b[0;36mshowLossScore\u001b[1;34m(LOSS_history, Recall_history, F1score_history, specfi_history, resamp_ratio, n_neighbor)\u001b[0m\n\u001b[0;32m    186\u001b[0m fig\u001b[38;5;241m.\u001b[39msuptitle(\u001b[38;5;124mf\u001b[39m\u001b[38;5;124m\"\u001b[39m\u001b[38;5;124moverSamppling ratio:\u001b[39m\u001b[38;5;132;01m{\u001b[39;00mresamp_ratio\u001b[38;5;132;01m}\u001b[39;00m\u001b[38;5;124m n_neigh: \u001b[39m\u001b[38;5;132;01m{\u001b[39;00mn_neighbor\u001b[38;5;132;01m}\u001b[39;00m\u001b[38;5;124m\"\u001b[39m)\n\u001b[0;32m    188\u001b[0m TH \u001b[38;5;241m=\u001b[39m \u001b[38;5;28mlen\u001b[39m(F1score_history[\u001b[38;5;124m'\u001b[39m\u001b[38;5;124mTrain\u001b[39m\u001b[38;5;124m'\u001b[39m])\n\u001b[1;32m--> 190\u001b[0m \u001b[43maxes\u001b[49m\u001b[43m[\u001b[49m\u001b[38;5;241;43m0\u001b[39;49m\u001b[43m]\u001b[49m\u001b[38;5;241;43m.\u001b[39;49m\u001b[43mplot\u001b[49m(\u001b[38;5;28mrange\u001b[39m(\u001b[38;5;241m1\u001b[39m, TH\u001b[38;5;241m+\u001b[39m\u001b[38;5;241m1\u001b[39m), LOSS_history[\u001b[38;5;124m'\u001b[39m\u001b[38;5;124mTrain\u001b[39m\u001b[38;5;124m'\u001b[39m][:TH],label\u001b[38;5;241m=\u001b[39m\u001b[38;5;124m\"\u001b[39m\u001b[38;5;124mTrain\u001b[39m\u001b[38;5;124m\"\u001b[39m)\n\u001b[0;32m    191\u001b[0m axes[\u001b[38;5;241m0\u001b[39m]\u001b[38;5;241m.\u001b[39mplot(\u001b[38;5;28mrange\u001b[39m(\u001b[38;5;241m1\u001b[39m, TH\u001b[38;5;241m+\u001b[39m\u001b[38;5;241m1\u001b[39m), LOSS_history[\u001b[38;5;124m'\u001b[39m\u001b[38;5;124mVal\u001b[39m\u001b[38;5;124m'\u001b[39m][:TH],label\u001b[38;5;241m=\u001b[39m\u001b[38;5;124m\"\u001b[39m\u001b[38;5;124mValid\u001b[39m\u001b[38;5;124m\"\u001b[39m)\n\u001b[0;32m    192\u001b[0m axes[\u001b[38;5;241m0\u001b[39m]\u001b[38;5;241m.\u001b[39mgrid()\n",
      "\u001b[1;31mAttributeError\u001b[0m: 'numpy.ndarray' object has no attribute 'plot'"
     ]
    },
    {
     "data": {
      "image/png": "[encoded data removed]",
      "text/plain": [
       "<Figure size 1400x500 with 4 Axes>"
      ]
     },
     "metadata": {},
     "output_type": "display_data"
    }
   ],
   "source": [
    "showLossScore(LOSS_history, Recall_history, F1score_history, specfi_history, resamp_ratio, n_neighbor)"
   ]
  },
  {
   "cell_type": "markdown",
   "metadata": {},
   "source": [
    "##### test 데이터셋 모델 테스트"
   ]
  },
  {
   "cell_type": "code",
   "execution_count": 1,
   "metadata": {},
   "outputs": [
    {
     "name": "stdout",
     "output_type": "stream",
     "text": [
      "[80, 1, 0]\n"
     ]
    },
    {
     "ename": "NameError",
     "evalue": "name 'torch' is not defined",
     "output_type": "error",
     "traceback": [
      "\u001b[1;31m---------------------------------------------------------------------------\u001b[0m",
      "\u001b[1;31mNameError\u001b[0m                                 Traceback (most recent call last)",
      "Cell \u001b[1;32mIn[1], line 18\u001b[0m\n\u001b[0;32m     15\u001b[0m \u001b[38;5;28mprint\u001b[39m(data_input)\n\u001b[0;32m     17\u001b[0m \u001b[38;5;66;03m# 텐서화\u001b[39;00m\n\u001b[1;32m---> 18\u001b[0m dataTS \u001b[38;5;241m=\u001b[39m \u001b[43mtorch\u001b[49m\u001b[38;5;241m.\u001b[39mFloatTensor(data_input)\u001b[38;5;241m.\u001b[39mreshape(\u001b[38;5;241m1\u001b[39m,\u001b[38;5;241m-\u001b[39m\u001b[38;5;241m1\u001b[39m)\n\u001b[0;32m     19\u001b[0m \u001b[38;5;28mprint\u001b[39m(dataTS, dataTS\u001b[38;5;241m.\u001b[39mshape)\n\u001b[0;32m     21\u001b[0m \u001b[38;5;66;03m# test data 예측\u001b[39;00m\n",
      "\u001b[1;31mNameError\u001b[0m: name 'torch' is not defined"
     ]
    }
   ],
   "source": [
    "data_input = [80, \"여자\", 0]\n",
    "\n",
    "# 입력 데이터 적합성 확인-----------------------------------------------------------\n",
    "if len(data_input) !=3: print(\"나이, 성별, 발병 횟수 순으로 다시 입력하세요.\")\n",
    "\n",
    "# \n",
    "\n",
    "# input data 성별 전처리\n",
    "gender_dict = {\"남자\":0,\"남\":0,\"남성\":0, \"여자\":1,\"여\":1,\"여성\":1}\n",
    "## 성별 적합성 확인\n",
    "if data_input[1] not in list(gender_dict.keys()): \n",
    "    print(\"성별은 [남,여] [남성,여성] [남자,여자]만 가능합니다.\")\n",
    "\n",
    "data_input[1] = gender_dict[data_input[1]]\n",
    "print(data_input)\n",
    "\n",
    "# 텐서화\n",
    "dataTS = torch.FloatTensor(data_input).reshape(1,-1)\n",
    "print(dataTS, dataTS.shape)\n",
    "\n",
    "# test data 예측\n",
    "model.eval()\n",
    "with torch.no_grad():\n",
    "    pre_test = model(dataTS)\n",
    "    \n",
    "print(\"이진 분류 사망(1) 확률:\", pre_test)\n",
    "print(\"이진 분류 생존(0) 확률:\", 1-pre_test)\n",
    "print()\n",
    "print(pre_test > weights)\n",
    "print((pre_test >weights).item())\n",
    "\n",
    "result ='사망' if (pre_test > weights).item() else '생존'\n",
    "print(result)"
   ]
  },
  {
   "cell_type": "code",
   "execution_count": null,
   "metadata": {},
   "outputs": [],
   "source": [
    "### 데이터 로딩\n",
    "DATA_FILE2 = r'./data/s41598-020-73558-3_sepsis_survival_validation_cohort.csv'\n",
    "\n",
    "testDF = pd.read_csv(DATA_FILE2)\n",
    "\n",
    "# 확인\n",
    "testDF.tail(5)"
   ]
  },
  {
   "cell_type": "code",
   "execution_count": 26,
   "metadata": {},
   "outputs": [],
   "source": [
    "testDS = SepsisDataset(testDF[testDF.columns[:-1]], testDF[[testDF.columns[-1]]])"
   ]
  },
  {
   "cell_type": "code",
   "execution_count": null,
   "metadata": {},
   "outputs": [],
   "source": [
    "# 모델 테스트 모드 설정\n",
    "model.eval()\n",
    "with torch.no_grad():\n",
    "    # 검증 데이터셋\n",
    "    test_featrueTS=torch.FloatTensor(testDS.featureDF.values).to(DEVICE)\n",
    "    test_targetTS=torch.FloatTensor(testDS.targetDF.values).to(DEVICE)\n",
    "    \n",
    "    # 추론/평가\n",
    "    pre_test=model(test_featrueTS)\n",
    "\n",
    "    # 손실\n",
    "    loss_test=crossLoss(pre_test, test_targetTS)\n",
    "    # 성능평가\n",
    "    #score_val=F1Score(task='binary')(pre_test, val_targetTS)\n",
    "    # 성능평가\n",
    "    f1score_test=f1score_func(pre_test, test_targetTS)\n",
    "    recall_test = recall_func(pre_test, test_targetTS)\n",
    "    \n",
    "print(f'- [TEST] LOSS : {loss_test.item()} \\\n",
    "      f1-SCORE : {f1score_test.item()}\\\n",
    "      recall: {recall_test.item()}')"
   ]
  },
  {
   "cell_type": "code",
   "execution_count": null,
   "metadata": {},
   "outputs": [],
   "source": []
  },
  {
   "cell_type": "code",
   "execution_count": null,
   "metadata": {},
   "outputs": [],
   "source": [
    "pre_test"
   ]
  },
  {
   "cell_type": "code",
   "execution_count": null,
   "metadata": {},
   "outputs": [],
   "source": [
    "preds_1d = y_pred.flatten() # 차원 펴주기\n",
    "pred_class = np.where(preds_1d > 0.5, 2 , 1) #0.5보다크면 2, 작으면 1\n",
    "\n",
    "'''모델 평가'''\n",
    "from sklearn.metrics import classification_report\n",
    "y_pred = model.predict(X_test)\n",
    "print(classification_report(y_test, pred_class))"
   ]
  }
 ],
 "metadata": {
  "kernelspec": {
   "display_name": "torch_38",
   "language": "python",
   "name": "python3"
  },
  "language_info": {
   "codemirror_mode": {
    "name": "ipython",
    "version": 3
   },
   "file_extension": ".py",
   "mimetype": "text/x-python",
   "name": "python",
   "nbconvert_exporter": "python",
   "pygments_lexer": "ipython3",
   "version": "3.8.19"
  }
 },
 "nbformat": 4,
 "nbformat_minor": 2
}

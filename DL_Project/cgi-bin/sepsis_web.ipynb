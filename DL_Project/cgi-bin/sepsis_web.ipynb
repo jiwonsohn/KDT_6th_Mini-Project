{
 "cells": [
  {
   "cell_type": "markdown",
   "metadata": {},
   "source": [
    "### Web에서 생존 여부 예측"
   ]
  },
  {
   "cell_type": "code",
   "execution_count": 1,
   "metadata": {},
   "outputs": [],
   "source": [
    "from custom_utils import *\n",
    "import os"
   ]
  },
  {
   "cell_type": "code",
   "execution_count": 2,
   "metadata": {},
   "outputs": [],
   "source": [
    "## 저장경로\n",
    "SAVE_PATH= r'C:\\Users\\KDP-43\\Desktop\\DL_web\\models\\Adam\\alive_1'\n",
    "\n",
    "# 저장 파일명\n",
    "SAVE_MODEL = SAVE_PATH+'\\model_all.pth'"
   ]
  },
  {
   "cell_type": "code",
   "execution_count": 3,
   "metadata": {},
   "outputs": [
    {
     "data": {
      "text/plain": [
       "'C:\\\\Users\\\\KDP-43\\\\Desktop\\\\DL_web\\\\models\\\\Adam\\\\alive_1\\\\model_all.pth'"
      ]
     },
     "execution_count": 3,
     "metadata": {},
     "output_type": "execute_result"
    }
   ],
   "source": [
    "SAVE_MODEL"
   ]
  },
  {
   "cell_type": "code",
   "execution_count": 4,
   "metadata": {},
   "outputs": [
    {
     "name": "stdout",
     "output_type": "stream",
     "text": [
      "경로상 파일이 존재합니다.\n"
     ]
    }
   ],
   "source": [
    "if os.path.exists(SAVE_MODEL):\n",
    "\tSepsisLODModel= torch.load(SAVE_MODEL, weights_only=False)\n",
    "\tprint(\"경로상 파일이 존재합니다.\")\n",
    "else:\n",
    "\tprint(f'{SAVE_MODEL} 파일이 존재하지 않습니다. 다시 확인하세요.')"
   ]
  },
  {
   "cell_type": "code",
   "execution_count": 5,
   "metadata": {},
   "outputs": [
    {
     "data": {
      "text/plain": [
       "=================================================================\n",
       "Layer (type:depth-idx)                   Param #\n",
       "=================================================================\n",
       "SepsisLODModel                           --\n",
       "├─Linear: 1-1                            400\n",
       "├─ModuleList: 1-2                        --\n",
       "│    └─Linear: 2-1                       50,500\n",
       "│    └─Linear: 2-2                       125,250\n",
       "│    └─Linear: 2-3                       12,550\n",
       "├─Linear: 1-3                            51\n",
       "=================================================================\n",
       "Total params: 188,751\n",
       "Trainable params: 188,751\n",
       "Non-trainable params: 0\n",
       "================================================================="
      ]
     },
     "execution_count": 5,
     "metadata": {},
     "output_type": "execute_result"
    }
   ],
   "source": [
    "summary(SepsisLODModel)"
   ]
  },
  {
   "cell_type": "markdown",
   "metadata": {},
   "source": [
    "예측 <hr>"
   ]
  },
  {
   "cell_type": "code",
   "execution_count": 6,
   "metadata": {},
   "outputs": [
    {
     "name": "stdout",
     "output_type": "stream",
     "text": [
      "[80, 1, 0]\n",
      "tensor([[80.,  1.,  0.]]) torch.Size([1, 3])\n",
      "이진 분류 사망(1) 확률: tensor([[0.8309]])\n",
      "이진 분류 생존(0) 확률: tensor([[0.1691]])\n",
      "\n",
      "tensor([[False]])\n",
      "False\n",
      "사망\n"
     ]
    }
   ],
   "source": [
    "data_input = [80, \"여자\", 0]\n",
    "\n",
    "# 입력 데이터 적합성 확인-----------------------------------------------------------\n",
    "if len(data_input) !=3: print(\"나이, 성별, 발병 횟수 순으로 다시 입력하세요.\")\n",
    "\n",
    "# \n",
    "\n",
    "# input data 성별 전처리\n",
    "gender_dict = {\"남자\":0,\"남\":0,\"남성\":0, \"여자\":1,\"여\":1,\"여성\":1}\n",
    "## 성별 적합성 확인\n",
    "if data_input[1] not in list(gender_dict.keys()): \n",
    "    print(\"성별은 [남,여] [남성,여성] [남자,여자]만 가능합니다.\")\n",
    "\n",
    "data_input[1] = gender_dict[data_input[1]]\n",
    "print(data_input)\n",
    "\n",
    "# 텐서화\n",
    "dataTS = torch.FloatTensor(data_input).reshape(1,-1)\n",
    "print(dataTS, dataTS.shape)\n",
    "\n",
    "# test data 예측\n",
    "weights=0.9\n",
    "\n",
    "SepsisLODModel.eval()\n",
    "with torch.no_grad():\n",
    "    pre_test = SepsisLODModel(dataTS)\n",
    "    \n",
    "print(\"이진 분류 사망(1) 확률:\", pre_test)\n",
    "print(\"이진 분류 생존(0) 확률:\", 1-pre_test)\n",
    "print()\n",
    "print(pre_test > weights)\n",
    "print((pre_test >weights).item())\n",
    "\n",
    "result ='생존' if (pre_test > weights).item() else '사망'\n",
    "print(result)"
   ]
  },
  {
   "cell_type": "code",
   "execution_count": 10,
   "metadata": {},
   "outputs": [],
   "source": [
    "import joblib      # AI 모델 관련\n",
    "import torch"
   ]
  },
  {
   "cell_type": "code",
   "execution_count": 15,
   "metadata": {},
   "outputs": [],
   "source": [
    "def detectLang(data_input):\n",
    "\t\n",
    "\n",
    "    result=\"\"\n",
    "    # gender_dict = {\"남자\":0,\"남\":0,\"남성\":0, \"여자\":1,\"여\":1,\"여성\":1}\n",
    "\n",
    "    if len(data_input) !=3: \n",
    "\t\t\n",
    "        result =\"나이, 성별, 발병 횟수 순으로 다시 입력하세요.\"\n",
    "\n",
    "\t# input data 성별 전처리\n",
    "\t## 성별 적합성 확인\n",
    "    if data_input[1] not in list(gender_dict.keys()): \n",
    "        result=\"성별은 [남,여] [남성,여성] [남자,여자]만 가능합니다.\"\n",
    "\n",
    "    data_input[1] = gender_dict[data_input[1]]\n",
    "    # print(data_input)\n",
    "\n",
    "    data_input = list(map(int, data_input))\n",
    "\n",
    "    # 텐서화\n",
    "    dataTS = torch.FloatTensor(data_input).reshape(1,-1)\n",
    "    print(dataTS, dataTS.shape)\n",
    "\n",
    "    # test data 예측-----------------------------------------\n",
    "    # 모델 로드\n",
    "    # pklfile = r'C:\\Users\\KDP-43\\Desktop\\DL_project\\cgi-bin\\model\\alive_1\\model_all.pth'\n",
    "\n",
    "    # SepsisModel = joblib.load(pklfile)\n",
    "\n",
    "\n",
    "    SepsisLODModel.eval()\n",
    "    with torch.no_grad():\n",
    "        pre_test = SepsisLODModel(dataTS)\n",
    "        \n",
    "    print(pre_test)\n",
    "    result =\"생존\" if (pre_test > 0.88).item() else \"사망\"\n",
    "\n",
    "    return result"
   ]
  },
  {
   "cell_type": "code",
   "execution_count": 16,
   "metadata": {},
   "outputs": [
    {
     "name": "stdout",
     "output_type": "stream",
     "text": [
      "tensor([[26.,  0.,  1.]]) torch.Size([1, 3])\n",
      "tensor([[0.8946]])\n"
     ]
    },
    {
     "data": {
      "text/plain": [
       "'생존'"
      ]
     },
     "execution_count": 16,
     "metadata": {},
     "output_type": "execute_result"
    }
   ],
   "source": [
    "aaa = detectLang(['26','남자','1'])\n",
    "aaas"
   ]
  },
  {
   "cell_type": "code",
   "execution_count": 17,
   "metadata": {},
   "outputs": [
    {
     "name": "stdout",
     "output_type": "stream",
     "text": [
      "tensor([[78.,  1.,  1.]]) torch.Size([1, 3])\n",
      "tensor([[0.8782]])\n"
     ]
    },
    {
     "data": {
      "text/plain": [
       "'사망'"
      ]
     },
     "execution_count": 17,
     "metadata": {},
     "output_type": "execute_result"
    }
   ],
   "source": [
    "aaa = detectLang(['78','여자','1'])\n",
    "aaa"
   ]
  },
  {
   "cell_type": "code",
   "execution_count": null,
   "metadata": {},
   "outputs": [],
   "source": []
  }
 ],
 "metadata": {
  "kernelspec": {
   "display_name": "torch_38",
   "language": "python",
   "name": "python3"
  },
  "language_info": {
   "codemirror_mode": {
    "name": "ipython",
    "version": 3
   },
   "file_extension": ".py",
   "mimetype": "text/x-python",
   "name": "python",
   "nbconvert_exporter": "python",
   "pygments_lexer": "ipython3",
   "version": "3.8.19"
  }
 },
 "nbformat": 4,
 "nbformat_minor": 2
}

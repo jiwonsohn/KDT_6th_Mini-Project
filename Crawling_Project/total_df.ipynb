{
 "cells": [
  {
   "cell_type": "markdown",
   "metadata": {},
   "source": [
    "#### 크롤링 text 정리 & total_info DF 생성"
   ]
  },
  {
   "cell_type": "code",
   "execution_count": 7,
   "metadata": {},
   "outputs": [],
   "source": [
    "import pandas as pd\n",
    "import re"
   ]
  },
  {
   "cell_type": "code",
   "execution_count": 8,
   "metadata": {},
   "outputs": [],
   "source": [
    "# \n",
    "def clean_string(s):\n",
    "    # 줄바꿈(\\n, \\r) 제거\n",
    "    s = s.replace('\\n', ' ').replace('\\r', ' ')\n",
    "    # 두 칸 이상의 공백을 하나의 공백으로 변경\n",
    "    s = re.sub(r'\\s{2,}', ' ', s)\n",
    "    # 문자열 양쪽의 공백 제거\n",
    "    return s.strip()"
   ]
  },
  {
   "cell_type": "code",
   "execution_count": 9,
   "metadata": {},
   "outputs": [],
   "source": [
    "raw = pd.read_csv('ML_info_500.csv', encoding='utf-8-sig')\n",
    "\n",
    "apply_new = list(map(clean_string,raw['apply_require']))\n",
    "condi_new = list(map(clean_string,raw['condition']))\n",
    "comp_new = list(map(clean_string,raw['comp_info']))"
   ]
  },
  {
   "cell_type": "code",
   "execution_count": 10,
   "metadata": {},
   "outputs": [
    {
     "data": {
      "text/html": [
       "<div>\n",
       "<style scoped>\n",
       "    .dataframe tbody tr th:only-of-type {\n",
       "        vertical-align: middle;\n",
       "    }\n",
       "\n",
       "    .dataframe tbody tr th {\n",
       "        vertical-align: top;\n",
       "    }\n",
       "\n",
       "    .dataframe thead th {\n",
       "        text-align: right;\n",
       "    }\n",
       "</style>\n",
       "<table border=\"1\" class=\"dataframe\">\n",
       "  <thead>\n",
       "    <tr style=\"text-align: right;\">\n",
       "      <th></th>\n",
       "      <th>comp_name</th>\n",
       "      <th>link</th>\n",
       "      <th>apply_require</th>\n",
       "      <th>condition</th>\n",
       "      <th>comp_info</th>\n",
       "    </tr>\n",
       "  </thead>\n",
       "  <tbody>\n",
       "    <tr>\n",
       "      <th>0</th>\n",
       "      <td>현대자동차㈜</td>\n",
       "      <td>https://www.jobkorea.co.kr/Recruit/GI_Read/451...</td>\n",
       "      <td>경력 경력 학력 학력무관 핵심역량 계획성, 성실성, 꼼꼼함 우대 기본우대 장애인</td>\n",
       "      <td>고용형태 정규직 급여 회사내규에 따름 지역 서울시 서초구 지도</td>\n",
       "      <td>산업(업종) 승용차 및 기타 여객용 자동차 제조업 사원수 73,500명 설립년도 1...</td>\n",
       "    </tr>\n",
       "    <tr>\n",
       "      <th>1</th>\n",
       "      <td>㈜아이엠뱅크</td>\n",
       "      <td>https://www.jobkorea.co.kr/Recruit/GI_Read/452...</td>\n",
       "      <td>경력 경력 직무에 따라 상이 학력 학력무관 핵심역량 성실성, 성취지향성, 계획성</td>\n",
       "      <td>고용형태 계약직 근무기간 1년 , 1년단위계약 급여 회사내규에 따름 지역 대구 수성...</td>\n",
       "      <td>산업(업종) 국내은행 사원수 3,037명 설립년도 1967년 (58년차) 기업형태 ...</td>\n",
       "    </tr>\n",
       "    <tr>\n",
       "      <th>2</th>\n",
       "      <td>㈜세종교육</td>\n",
       "      <td>https://www.jobkorea.co.kr/Recruit/GI_Read/453...</td>\n",
       "      <td>경력 신입·경력 학력 학력무관 교육별 상이 스킬 Hadoop, JAVA, Pytho...</td>\n",
       "      <td>고용형태 연수생/교육생 급여 회사내규에 따름 - 면접 후 결정 지역 경기도 성남시 ...</td>\n",
       "      <td>산업(업종) 일반 교과 학원 사원수 14명 설립년도 2013년 (12년차) 기업형태...</td>\n",
       "    </tr>\n",
       "    <tr>\n",
       "      <th>3</th>\n",
       "      <td>GS리테일</td>\n",
       "      <td>https://www.jobkorea.co.kr/Recruit/GI_Read/453...</td>\n",
       "      <td>경력 경력 (3년이상) 학력 대졸이상 스킬 API, AWS, GCP, kuberne...</td>\n",
       "      <td>고용형태 정규직 급여 회사내규에 따름 지역 서울시 강남구 , 강서구 지도</td>\n",
       "      <td>산업(업종) 백화점·유통·도소매 사원수 8,000명 설립년도 1971년 (54년차)...</td>\n",
       "    </tr>\n",
       "    <tr>\n",
       "      <th>4</th>\n",
       "      <td>(주)우아한형제들</td>\n",
       "      <td>https://www.jobkorea.co.kr/Recruit/GI_Read/453...</td>\n",
       "      <td>경력 신입·경력 학력 학력무관 스킬 ASP, API, ASP.NET, CSS, HT...</td>\n",
       "      <td>고용형태 정규직 계약직 급여 회사내규에 따름 - 면접 후 결정 지역 서울시 송파구 지도</td>\n",
       "      <td>산업(업종) 응용 소프트웨어 개발 및 공급업 사원수 2,010명 설립년도 2011년...</td>\n",
       "    </tr>\n",
       "  </tbody>\n",
       "</table>\n",
       "</div>"
      ],
      "text/plain": [
       "   comp_name                                               link  \\\n",
       "0     현대자동차㈜  https://www.jobkorea.co.kr/Recruit/GI_Read/451...   \n",
       "1     ㈜아이엠뱅크  https://www.jobkorea.co.kr/Recruit/GI_Read/452...   \n",
       "2      ㈜세종교육  https://www.jobkorea.co.kr/Recruit/GI_Read/453...   \n",
       "3      GS리테일  https://www.jobkorea.co.kr/Recruit/GI_Read/453...   \n",
       "4  (주)우아한형제들  https://www.jobkorea.co.kr/Recruit/GI_Read/453...   \n",
       "\n",
       "                                       apply_require  \\\n",
       "0       경력 경력 학력 학력무관 핵심역량 계획성, 성실성, 꼼꼼함 우대 기본우대 장애인   \n",
       "1       경력 경력 직무에 따라 상이 학력 학력무관 핵심역량 성실성, 성취지향성, 계획성   \n",
       "2  경력 신입·경력 학력 학력무관 교육별 상이 스킬 Hadoop, JAVA, Pytho...   \n",
       "3  경력 경력 (3년이상) 학력 대졸이상 스킬 API, AWS, GCP, kuberne...   \n",
       "4  경력 신입·경력 학력 학력무관 스킬 ASP, API, ASP.NET, CSS, HT...   \n",
       "\n",
       "                                           condition  \\\n",
       "0                 고용형태 정규직 급여 회사내규에 따름 지역 서울시 서초구 지도   \n",
       "1  고용형태 계약직 근무기간 1년 , 1년단위계약 급여 회사내규에 따름 지역 대구 수성...   \n",
       "2  고용형태 연수생/교육생 급여 회사내규에 따름 - 면접 후 결정 지역 경기도 성남시 ...   \n",
       "3           고용형태 정규직 급여 회사내규에 따름 지역 서울시 강남구 , 강서구 지도   \n",
       "4   고용형태 정규직 계약직 급여 회사내규에 따름 - 면접 후 결정 지역 서울시 송파구 지도   \n",
       "\n",
       "                                           comp_info  \n",
       "0  산업(업종) 승용차 및 기타 여객용 자동차 제조업 사원수 73,500명 설립년도 1...  \n",
       "1  산업(업종) 국내은행 사원수 3,037명 설립년도 1967년 (58년차) 기업형태 ...  \n",
       "2  산업(업종) 일반 교과 학원 사원수 14명 설립년도 2013년 (12년차) 기업형태...  \n",
       "3  산업(업종) 백화점·유통·도소매 사원수 8,000명 설립년도 1971년 (54년차)...  \n",
       "4  산업(업종) 응용 소프트웨어 개발 및 공급업 사원수 2,010명 설립년도 2011년...  "
      ]
     },
     "execution_count": 10,
     "metadata": {},
     "output_type": "execute_result"
    }
   ],
   "source": [
    "raw['apply_require'] = apply_new\n",
    "raw['condition'] = condi_new\n",
    "raw['comp_info'] = comp_new\n",
    "raw.head(5)"
   ]
  },
  {
   "cell_type": "code",
   "execution_count": 11,
   "metadata": {},
   "outputs": [],
   "source": [
    "raw.to_csv('clean_ML_info_500.csv', encoding='utf-8-sig', index=False)"
   ]
  },
  {
   "cell_type": "code",
   "execution_count": null,
   "metadata": {},
   "outputs": [],
   "source": [
    "columns=['경력','학력','스킬','핵심역량','우대','기본우대','우대전공','자격증']"
   ]
  }
 ],
 "metadata": {
  "kernelspec": {
   "display_name": "py_39",
   "language": "python",
   "name": "python3"
  },
  "language_info": {
   "codemirror_mode": {
    "name": "ipython",
    "version": 3
   },
   "file_extension": ".py",
   "mimetype": "text/x-python",
   "name": "python",
   "nbconvert_exporter": "python",
   "pygments_lexer": "ipython3",
   "version": "3.9.19"
  }
 },
 "nbformat": 4,
 "nbformat_minor": 2
}

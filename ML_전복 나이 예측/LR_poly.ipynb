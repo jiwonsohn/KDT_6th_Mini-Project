{
 "cells": [
  {
   "cell_type": "markdown",
   "metadata": {},
   "source": [
    "### Abalone(전복) 나이 예측\n",
    "- 피처: 'Height', 'Shell_weight'"
   ]
  },
  {
   "cell_type": "code",
   "execution_count": 1,
   "metadata": {},
   "outputs": [],
   "source": [
    "import pandas as pd\n",
    "import numpy as np\n",
    "import matplotlib.pyplot as plt\n"
   ]
  },
  {
   "cell_type": "markdown",
   "metadata": {},
   "source": [
    "#### 데이터 로드 & 전처리 & EDA"
   ]
  },
  {
   "cell_type": "code",
   "execution_count": 2,
   "metadata": {},
   "outputs": [
    {
     "data": {
      "text/html": [
       "<div>\n",
       "<style scoped>\n",
       "    .dataframe tbody tr th:only-of-type {\n",
       "        vertical-align: middle;\n",
       "    }\n",
       "\n",
       "    .dataframe tbody tr th {\n",
       "        vertical-align: top;\n",
       "    }\n",
       "\n",
       "    .dataframe thead th {\n",
       "        text-align: right;\n",
       "    }\n",
       "</style>\n",
       "<table border=\"1\" class=\"dataframe\">\n",
       "  <thead>\n",
       "    <tr style=\"text-align: right;\">\n",
       "      <th></th>\n",
       "      <th>Sex</th>\n",
       "      <th>Length</th>\n",
       "      <th>Diameter</th>\n",
       "      <th>Height</th>\n",
       "      <th>Whole_weight</th>\n",
       "      <th>Shucked_weight</th>\n",
       "      <th>Viscera_weight</th>\n",
       "      <th>Shell_weight</th>\n",
       "      <th>Rings</th>\n",
       "    </tr>\n",
       "  </thead>\n",
       "  <tbody>\n",
       "    <tr>\n",
       "      <th>0</th>\n",
       "      <td>F</td>\n",
       "      <td>0.55</td>\n",
       "      <td>0.43</td>\n",
       "      <td>0.150</td>\n",
       "      <td>0.7715</td>\n",
       "      <td>0.3285</td>\n",
       "      <td>0.1465</td>\n",
       "      <td>0.240</td>\n",
       "      <td>11</td>\n",
       "    </tr>\n",
       "    <tr>\n",
       "      <th>1</th>\n",
       "      <td>F</td>\n",
       "      <td>0.63</td>\n",
       "      <td>0.49</td>\n",
       "      <td>0.145</td>\n",
       "      <td>1.1300</td>\n",
       "      <td>0.4580</td>\n",
       "      <td>0.2765</td>\n",
       "      <td>0.320</td>\n",
       "      <td>11</td>\n",
       "    </tr>\n",
       "    <tr>\n",
       "      <th>2</th>\n",
       "      <td>I</td>\n",
       "      <td>0.16</td>\n",
       "      <td>0.11</td>\n",
       "      <td>0.025</td>\n",
       "      <td>0.0210</td>\n",
       "      <td>0.0055</td>\n",
       "      <td>0.0030</td>\n",
       "      <td>0.005</td>\n",
       "      <td>6</td>\n",
       "    </tr>\n",
       "  </tbody>\n",
       "</table>\n",
       "</div>"
      ],
      "text/plain": [
       "  Sex  Length  Diameter  Height  Whole_weight  Shucked_weight  Viscera_weight  \\\n",
       "0   F    0.55      0.43   0.150        0.7715          0.3285          0.1465   \n",
       "1   F    0.63      0.49   0.145        1.1300          0.4580          0.2765   \n",
       "2   I    0.16      0.11   0.025        0.0210          0.0055          0.0030   \n",
       "\n",
       "   Shell_weight  Rings  \n",
       "0         0.240     11  \n",
       "1         0.320     11  \n",
       "2         0.005      6  "
      ]
     },
     "execution_count": 2,
     "metadata": {},
     "output_type": "execute_result"
    }
   ],
   "source": [
    "DATA_PATH_train = r'C:\\Users\\KDP-43\\Desktop\\머신러닝_플젝\\dataset\\mix_abalone_train.csv'\n",
    "DATA_PATH_test\t= r'C:\\Users\\KDP-43\\Desktop\\머신러닝_플젝\\dataset\\abalone_test.csv'\n",
    "\n",
    "raw_trainDF = pd.read_csv(DATA_PATH_train)\n",
    "raw_testDF\t= pd.read_csv(DATA_PATH_test)\n",
    "\n",
    "raw_trainDF.head(3)"
   ]
  },
  {
   "cell_type": "code",
   "execution_count": 3,
   "metadata": {},
   "outputs": [
    {
     "name": "stdout",
     "output_type": "stream",
     "text": [
      "<class 'pandas.core.frame.DataFrame'>\n",
      "RangeIndex: 94792 entries, 0 to 94791\n",
      "Data columns (total 9 columns):\n",
      " #   Column          Non-Null Count  Dtype  \n",
      "---  ------          --------------  -----  \n",
      " 0   Sex             94792 non-null  object \n",
      " 1   Length          94792 non-null  float64\n",
      " 2   Diameter        94792 non-null  float64\n",
      " 3   Height          94792 non-null  float64\n",
      " 4   Whole_weight    94792 non-null  float64\n",
      " 5   Shucked_weight  94792 non-null  float64\n",
      " 6   Viscera_weight  94792 non-null  float64\n",
      " 7   Shell_weight    94792 non-null  float64\n",
      " 8   Rings           94792 non-null  int64  \n",
      "dtypes: float64(7), int64(1), object(1)\n",
      "memory usage: 6.5+ MB\n"
     ]
    }
   ],
   "source": [
    "raw_trainDF.info()"
   ]
  },
  {
   "cell_type": "code",
   "execution_count": 4,
   "metadata": {},
   "outputs": [
    {
     "name": "stdout",
     "output_type": "stream",
     "text": [
      "{'Length': 0, 'Diameter': 0, 'Height': 0, 'Whole_weight': 0, 'Shucked_weight': 0, 'Viscera_weight': 0, 'Shell_weight': 0, 'Rings': 0}\n",
      "{'Length': 0, 'Diameter': 0, 'Height': 8, 'Whole_weight': 0, 'Shucked_weight': 0, 'Viscera_weight': 0, 'Shell_weight': 0, 'Rings': 0}\n",
      "\n",
      "[SEX value counts]\n",
      "Sex\n",
      "I    34435\n",
      "M    32555\n",
      "F    27802\n",
      "Name: count, dtype: int64\n"
     ]
    }
   ],
   "source": [
    "# 각 컬럼별 결측치 여부 확인\n",
    "\n",
    "\n",
    "# 수치형 음수(-1)\n",
    "check_minus = {}\n",
    "for col in raw_trainDF.columns[1:]:\n",
    "    # print(f'===================={col}====================')\n",
    "    # print( (raw_trainDF[col] < 0).sum())\n",
    "    check_minus[col] = (raw_trainDF[col] < 0).sum()\n",
    "print(check_minus)\n",
    "\n",
    "# 수치형 0\n",
    "check_zero = {}\n",
    "for col in raw_trainDF.columns[1:]:\n",
    "    check_zero[col] = (raw_trainDF[col] == 0).sum()\n",
    "print(check_zero)\n",
    "\n",
    "# 범주형 [Sex] value_counts()\n",
    "print(\"\\n[SEX value counts]\")\n",
    "print(raw_trainDF['Sex'].value_counts())"
   ]
  },
  {
   "cell_type": "code",
   "execution_count": 5,
   "metadata": {},
   "outputs": [
    {
     "name": "stdout",
     "output_type": "stream",
     "text": [
      "<class 'pandas.core.frame.DataFrame'>\n",
      "RangeIndex: 94784 entries, 0 to 94783\n",
      "Data columns (total 9 columns):\n",
      " #   Column          Non-Null Count  Dtype  \n",
      "---  ------          --------------  -----  \n",
      " 0   Sex             94784 non-null  object \n",
      " 1   Length          94784 non-null  float64\n",
      " 2   Diameter        94784 non-null  float64\n",
      " 3   Height          94784 non-null  float64\n",
      " 4   Whole_weight    94784 non-null  float64\n",
      " 5   Shucked_weight  94784 non-null  float64\n",
      " 6   Viscera_weight  94784 non-null  float64\n",
      " 7   Shell_weight    94784 non-null  float64\n",
      " 8   Rings           94784 non-null  int64  \n",
      "dtypes: float64(7), int64(1), object(1)\n",
      "memory usage: 6.5+ MB\n"
     ]
    }
   ],
   "source": [
    "# Height ==0 행 8개 nan -> 삭제\n",
    "mask = (raw_trainDF['Height'] == 0)\n",
    "\n",
    "drop_trainDF = raw_trainDF.loc[~mask,:].copy().reset_index(drop=True)\n",
    "drop_trainDF.info()"
   ]
  },
  {
   "cell_type": "code",
   "execution_count": 6,
   "metadata": {},
   "outputs": [
    {
     "data": {
      "text/html": [
       "<div>\n",
       "<style scoped>\n",
       "    .dataframe tbody tr th:only-of-type {\n",
       "        vertical-align: middle;\n",
       "    }\n",
       "\n",
       "    .dataframe tbody tr th {\n",
       "        vertical-align: top;\n",
       "    }\n",
       "\n",
       "    .dataframe thead th {\n",
       "        text-align: right;\n",
       "    }\n",
       "</style>\n",
       "<table border=\"1\" class=\"dataframe\">\n",
       "  <thead>\n",
       "    <tr style=\"text-align: right;\">\n",
       "      <th></th>\n",
       "      <th>Length</th>\n",
       "      <th>Diameter</th>\n",
       "      <th>Height</th>\n",
       "      <th>Whole_weight</th>\n",
       "      <th>Shucked_weight</th>\n",
       "      <th>Viscera_weight</th>\n",
       "      <th>Shell_weight</th>\n",
       "      <th>Rings</th>\n",
       "      <th>Sex_F</th>\n",
       "      <th>Sex_I</th>\n",
       "      <th>Sex_M</th>\n",
       "    </tr>\n",
       "  </thead>\n",
       "  <tbody>\n",
       "    <tr>\n",
       "      <th>0</th>\n",
       "      <td>0.550</td>\n",
       "      <td>0.430</td>\n",
       "      <td>0.150</td>\n",
       "      <td>0.7715</td>\n",
       "      <td>0.3285</td>\n",
       "      <td>0.1465</td>\n",
       "      <td>0.2400</td>\n",
       "      <td>11</td>\n",
       "      <td>True</td>\n",
       "      <td>False</td>\n",
       "      <td>False</td>\n",
       "    </tr>\n",
       "    <tr>\n",
       "      <th>1</th>\n",
       "      <td>0.630</td>\n",
       "      <td>0.490</td>\n",
       "      <td>0.145</td>\n",
       "      <td>1.1300</td>\n",
       "      <td>0.4580</td>\n",
       "      <td>0.2765</td>\n",
       "      <td>0.3200</td>\n",
       "      <td>11</td>\n",
       "      <td>True</td>\n",
       "      <td>False</td>\n",
       "      <td>False</td>\n",
       "    </tr>\n",
       "    <tr>\n",
       "      <th>2</th>\n",
       "      <td>0.160</td>\n",
       "      <td>0.110</td>\n",
       "      <td>0.025</td>\n",
       "      <td>0.0210</td>\n",
       "      <td>0.0055</td>\n",
       "      <td>0.0030</td>\n",
       "      <td>0.0050</td>\n",
       "      <td>6</td>\n",
       "      <td>False</td>\n",
       "      <td>True</td>\n",
       "      <td>False</td>\n",
       "    </tr>\n",
       "    <tr>\n",
       "      <th>3</th>\n",
       "      <td>0.595</td>\n",
       "      <td>0.475</td>\n",
       "      <td>0.150</td>\n",
       "      <td>0.9145</td>\n",
       "      <td>0.3755</td>\n",
       "      <td>0.2055</td>\n",
       "      <td>0.2500</td>\n",
       "      <td>10</td>\n",
       "      <td>False</td>\n",
       "      <td>False</td>\n",
       "      <td>True</td>\n",
       "    </tr>\n",
       "    <tr>\n",
       "      <th>4</th>\n",
       "      <td>0.555</td>\n",
       "      <td>0.425</td>\n",
       "      <td>0.130</td>\n",
       "      <td>0.7820</td>\n",
       "      <td>0.3695</td>\n",
       "      <td>0.1600</td>\n",
       "      <td>0.1975</td>\n",
       "      <td>9</td>\n",
       "      <td>False</td>\n",
       "      <td>True</td>\n",
       "      <td>False</td>\n",
       "    </tr>\n",
       "  </tbody>\n",
       "</table>\n",
       "</div>"
      ],
      "text/plain": [
       "   Length  Diameter  Height  Whole_weight  Shucked_weight  Viscera_weight  \\\n",
       "0   0.550     0.430   0.150        0.7715          0.3285          0.1465   \n",
       "1   0.630     0.490   0.145        1.1300          0.4580          0.2765   \n",
       "2   0.160     0.110   0.025        0.0210          0.0055          0.0030   \n",
       "3   0.595     0.475   0.150        0.9145          0.3755          0.2055   \n",
       "4   0.555     0.425   0.130        0.7820          0.3695          0.1600   \n",
       "\n",
       "   Shell_weight  Rings  Sex_F  Sex_I  Sex_M  \n",
       "0        0.2400     11   True  False  False  \n",
       "1        0.3200     11   True  False  False  \n",
       "2        0.0050      6  False   True  False  \n",
       "3        0.2500     10  False  False   True  \n",
       "4        0.1975      9  False   True  False  "
      ]
     },
     "execution_count": 6,
     "metadata": {},
     "output_type": "execute_result"
    }
   ],
   "source": [
    "# sex -> get_dummies()\n",
    "tmpDF = pd.get_dummies(drop_trainDF).copy()\n",
    "tmpDF.head(5)"
   ]
  },
  {
   "cell_type": "code",
   "execution_count": 7,
   "metadata": {},
   "outputs": [
    {
     "data": {
      "text/html": [
       "<div>\n",
       "<style scoped>\n",
       "    .dataframe tbody tr th:only-of-type {\n",
       "        vertical-align: middle;\n",
       "    }\n",
       "\n",
       "    .dataframe tbody tr th {\n",
       "        vertical-align: top;\n",
       "    }\n",
       "\n",
       "    .dataframe thead th {\n",
       "        text-align: right;\n",
       "    }\n",
       "</style>\n",
       "<table border=\"1\" class=\"dataframe\">\n",
       "  <thead>\n",
       "    <tr style=\"text-align: right;\">\n",
       "      <th></th>\n",
       "      <th>Length</th>\n",
       "      <th>Diameter</th>\n",
       "      <th>Height</th>\n",
       "      <th>Whole_weight</th>\n",
       "      <th>Shucked_weight</th>\n",
       "      <th>Viscera_weight</th>\n",
       "      <th>Shell_weight</th>\n",
       "      <th>Sex_F</th>\n",
       "      <th>Sex_I</th>\n",
       "      <th>Sex_M</th>\n",
       "      <th>Rings</th>\n",
       "    </tr>\n",
       "  </thead>\n",
       "  <tbody>\n",
       "    <tr>\n",
       "      <th>0</th>\n",
       "      <td>0.550</td>\n",
       "      <td>0.430</td>\n",
       "      <td>0.150</td>\n",
       "      <td>0.7715</td>\n",
       "      <td>0.3285</td>\n",
       "      <td>0.1465</td>\n",
       "      <td>0.2400</td>\n",
       "      <td>True</td>\n",
       "      <td>False</td>\n",
       "      <td>False</td>\n",
       "      <td>11</td>\n",
       "    </tr>\n",
       "    <tr>\n",
       "      <th>1</th>\n",
       "      <td>0.630</td>\n",
       "      <td>0.490</td>\n",
       "      <td>0.145</td>\n",
       "      <td>1.1300</td>\n",
       "      <td>0.4580</td>\n",
       "      <td>0.2765</td>\n",
       "      <td>0.3200</td>\n",
       "      <td>True</td>\n",
       "      <td>False</td>\n",
       "      <td>False</td>\n",
       "      <td>11</td>\n",
       "    </tr>\n",
       "    <tr>\n",
       "      <th>2</th>\n",
       "      <td>0.160</td>\n",
       "      <td>0.110</td>\n",
       "      <td>0.025</td>\n",
       "      <td>0.0210</td>\n",
       "      <td>0.0055</td>\n",
       "      <td>0.0030</td>\n",
       "      <td>0.0050</td>\n",
       "      <td>False</td>\n",
       "      <td>True</td>\n",
       "      <td>False</td>\n",
       "      <td>6</td>\n",
       "    </tr>\n",
       "    <tr>\n",
       "      <th>3</th>\n",
       "      <td>0.595</td>\n",
       "      <td>0.475</td>\n",
       "      <td>0.150</td>\n",
       "      <td>0.9145</td>\n",
       "      <td>0.3755</td>\n",
       "      <td>0.2055</td>\n",
       "      <td>0.2500</td>\n",
       "      <td>False</td>\n",
       "      <td>False</td>\n",
       "      <td>True</td>\n",
       "      <td>10</td>\n",
       "    </tr>\n",
       "    <tr>\n",
       "      <th>4</th>\n",
       "      <td>0.555</td>\n",
       "      <td>0.425</td>\n",
       "      <td>0.130</td>\n",
       "      <td>0.7820</td>\n",
       "      <td>0.3695</td>\n",
       "      <td>0.1600</td>\n",
       "      <td>0.1975</td>\n",
       "      <td>False</td>\n",
       "      <td>True</td>\n",
       "      <td>False</td>\n",
       "      <td>9</td>\n",
       "    </tr>\n",
       "  </tbody>\n",
       "</table>\n",
       "</div>"
      ],
      "text/plain": [
       "   Length  Diameter  Height  Whole_weight  Shucked_weight  Viscera_weight  \\\n",
       "0   0.550     0.430   0.150        0.7715          0.3285          0.1465   \n",
       "1   0.630     0.490   0.145        1.1300          0.4580          0.2765   \n",
       "2   0.160     0.110   0.025        0.0210          0.0055          0.0030   \n",
       "3   0.595     0.475   0.150        0.9145          0.3755          0.2055   \n",
       "4   0.555     0.425   0.130        0.7820          0.3695          0.1600   \n",
       "\n",
       "   Shell_weight  Sex_F  Sex_I  Sex_M  Rings  \n",
       "0        0.2400   True  False  False     11  \n",
       "1        0.3200   True  False  False     11  \n",
       "2        0.0050  False   True  False      6  \n",
       "3        0.2500  False  False   True     10  \n",
       "4        0.1975  False   True  False      9  "
      ]
     },
     "execution_count": 7,
     "metadata": {},
     "output_type": "execute_result"
    }
   ],
   "source": [
    "rings_data = tmpDF['Rings']\n",
    "encod_DF = tmpDF.drop('Rings', axis=1).copy()\n",
    "\n",
    "encod_DF['Rings'] = rings_data\n",
    "encod_DF.head(5)"
   ]
  },
  {
   "cell_type": "code",
   "execution_count": 10,
   "metadata": {},
   "outputs": [],
   "source": [
    "# [sex] 카테고리에 따른 8개 피쳐 히스토그램"
   ]
  },
  {
   "cell_type": "markdown",
   "metadata": {},
   "source": [
    "* Height ==> 높은 값의 이상치 때문에 상관계수가 높게 나온 듯\n"
   ]
  },
  {
   "cell_type": "markdown",
   "metadata": {},
   "source": [
    "#### 다중회귀"
   ]
  },
  {
   "cell_type": "markdown",
   "metadata": {},
   "source": [
    "##### 타겟/피쳐 분리\n",
    "- 타겟: Rings\n",
    "- 피쳐: Rings, Sex_{} 제외 모든 칼럼"
   ]
  },
  {
   "cell_type": "code",
   "execution_count": 12,
   "metadata": {},
   "outputs": [],
   "source": [
    "from sklearn.model_selection import cross_val_score\n",
    "from sklearn.linear_model import LinearRegression\n",
    "from sklearn.preprocessing import StandardScaler, PolynomialFeatures\n",
    "from sklearn.model_selection import cross_val_score\n",
    "\n",
    "from sklearn.metrics import mean_squared_error, mean_absolute_error, r2_score"
   ]
  },
  {
   "cell_type": "code",
   "execution_count": 13,
   "metadata": {},
   "outputs": [
    {
     "data": {
      "text/plain": [
       "Index(['Sex', 'Length', 'Diameter', 'Height', 'Whole_weight', 'Shucked_weight',\n",
       "       'Viscera_weight', 'Shell_weight', 'Rings'],\n",
       "      dtype='object')"
      ]
     },
     "execution_count": 13,
     "metadata": {},
     "output_type": "execute_result"
    }
   ],
   "source": [
    "drop_trainDF.columns"
   ]
  },
  {
   "cell_type": "code",
   "execution_count": 14,
   "metadata": {},
   "outputs": [
    {
     "name": "stdout",
     "output_type": "stream",
     "text": [
      "featureDF: (94784, 4), 2D\n",
      "targetSR: (94784,), 1D\n"
     ]
    }
   ],
   "source": [
    "# 타겟/피쳐 분리\n",
    "featureDF = drop_trainDF[['Shell_weight', 'Diameter', 'Height', 'Shucked_weight']]\n",
    "targetSR = drop_trainDF['Rings']\n",
    "\n",
    "print(f'featureDF: {featureDF.shape}, {featureDF.ndim}D')\n",
    "print(f'targetSR: {targetSR.shape}, {targetSR.ndim}D')"
   ]
  },
  {
   "cell_type": "code",
   "execution_count": 15,
   "metadata": {},
   "outputs": [
    {
     "name": "stdout",
     "output_type": "stream",
     "text": [
      "X_train: (75827, 4), 2D y_train: (75827,), 1D\n",
      "X_test: (18957, 4), 2D y_train: (18957,), 1D\n"
     ]
    }
   ],
   "source": [
    "from sklearn.model_selection import train_test_split\n",
    "\n",
    "X_train, X_test, y_train, y_test = train_test_split(featureDF, targetSR, \n",
    "                                                    test_size=0.2,\n",
    "                                                    random_state=12\n",
    "                                                    )\n",
    "\n",
    "print(f'X_train: {X_train.shape}, {X_train.ndim}D', f'y_train: {y_train.shape}, {y_train.ndim}D')\n",
    "print(f'X_test: {X_test.shape}, {X_test.ndim}D', f'y_train: {y_test.shape}, {y_test.ndim}D')\n"
   ]
  },
  {
   "cell_type": "code",
   "execution_count": 16,
   "metadata": {},
   "outputs": [
    {
     "name": "stdout",
     "output_type": "stream",
     "text": [
      "다중 회귀 성능 평가:\n",
      "MSE: 4.013565486838061\n",
      "RMSE: 2.0033885012243786\n",
      "MAE: 1.381579052887035\n",
      "R²: 0.5932987299765347\n",
      "\n"
     ]
    }
   ],
   "source": [
    "scaler = StandardScaler()\n",
    "scaler.fit(X_train)\n",
    "\n",
    "X_train_scaled = scaler.transform(X_train)\n",
    "X_test_scaled = scaler.transform(X_test)\n",
    "\n",
    "# 다중 회귀 모델 학습\n",
    "linear_model = LinearRegression()\n",
    "linear_model.fit(X_train_scaled, y_train)\n",
    "\n",
    "# 예측\n",
    "y_pred_linear = linear_model.predict(X_test_scaled)\n",
    "\n",
    "# 다중 회귀 성능 평가\n",
    "mse_linear = mean_squared_error(y_test, y_pred_linear)\n",
    "rmse_linear = np.sqrt(mse_linear)\n",
    "mae_linear = mean_absolute_error(y_test, y_pred_linear)\n",
    "r2_linear = r2_score(y_test, y_pred_linear)\n",
    "\n",
    "print(\"다중 회귀 성능 평가:\")\n",
    "print(f\"MSE: {mse_linear}\")\n",
    "print(f\"RMSE: {rmse_linear}\")\n",
    "print(f\"MAE: {mae_linear}\")\n",
    "print(f\"R²: {r2_linear}\\n\")"
   ]
  },
  {
   "cell_type": "code",
   "execution_count": 17,
   "metadata": {},
   "outputs": [
    {
     "name": "stdout",
     "output_type": "stream",
     "text": [
      "다항 회귀 성능 평가:\n",
      "MSE: 3.781050098790855\n",
      "RMSE: 1.9444922470379908\n",
      "MAE: 1.3391548868576988\n",
      "r2: 0.6168599011917318\n"
     ]
    }
   ],
   "source": [
    "# 다항 회귀를 위한 다항 피처 생성 (2차)\n",
    "poly = PolynomialFeatures(degree=2)\n",
    "X_train_poly = poly.fit_transform(X_train_scaled)\n",
    "X_test_poly = poly.transform(X_test_scaled)\n",
    "\n",
    "# 다항 회귀 모델 학습\n",
    "poly_model = LinearRegression()\n",
    "poly_model.fit(X_train_poly, y_train)\n",
    "\n",
    "# 예측\n",
    "y_pred_poly = poly_model.predict(X_test_poly)\n",
    "\n",
    "# 다항 회귀 성능 평가\n",
    "mse_poly = mean_squared_error(y_test, y_pred_poly)\n",
    "rmse_poly = np.sqrt(mse_poly)\n",
    "mae_poly = mean_absolute_error(y_test, y_pred_poly)\n",
    "r2_poly = r2_score(y_test, y_pred_poly)\n",
    "\n",
    "print(\"다항 회귀 성능 평가:\")\n",
    "print(f\"MSE: {mse_poly}\")\n",
    "print(f\"RMSE: {rmse_poly}\")\n",
    "print(f\"MAE: {mae_poly}\")\n",
    "print(f\"r2: {r2_poly}\")"
   ]
  },
  {
   "cell_type": "code",
   "execution_count": 18,
   "metadata": {},
   "outputs": [
    {
     "name": "stdout",
     "output_type": "stream",
     "text": [
      "\n",
      "[2차] 다항 회귀 성능 평가:\n",
      "MSE: 3.781050098790855\n",
      "RMSE: 1.9444922470379908\n",
      "MAE: 1.3391548868576988\n",
      "r2: 0.6168599011917318\n",
      "\n",
      "[3차] 다항 회귀 성능 평가:\n",
      "MSE: 3.7107943763619486\n",
      "RMSE: 1.926342227217674\n",
      "MAE: 1.3179881738826353\n",
      "r2: 0.623979030462689\n",
      "\n",
      "[4차] 다항 회귀 성능 평가:\n",
      "MSE: 3.677718200870389\n",
      "RMSE: 1.917737782093889\n",
      "MAE: 1.3070703768349743\n",
      "r2: 0.6273306943695196\n",
      "\n",
      "[5차] 다항 회귀 성능 평가:\n",
      "MSE: 3.9440097154618265\n",
      "RMSE: 1.985953100015664\n",
      "MAE: 1.3067639297985074\n",
      "r2: 0.6003469320424895\n"
     ]
    }
   ],
   "source": [
    "degrees = [2,3,4,5]\n",
    "\n",
    "for degree in degrees:\n",
    "# 다항 회귀를 위한 다항 피처 생성 (n차)\n",
    "\tpoly = PolynomialFeatures(degree=degree)\n",
    "\tX_train_poly = poly.fit_transform(X_train_scaled)\n",
    "\tX_test_poly = poly.transform(X_test_scaled)\n",
    "\n",
    "\t# 다항 회귀 모델 학습\n",
    "\tpoly_model = LinearRegression()\n",
    "\tpoly_model.fit(X_train_poly, y_train)\n",
    "\n",
    "\t# 예측\n",
    "\ty_pred_poly = poly_model.predict(X_test_poly)\n",
    "\n",
    "\t# 다항 회귀 성능 평가\n",
    "\tmse_poly = mean_squared_error(y_test, y_pred_poly)\n",
    "\trmse_poly = np.sqrt(mse_poly)\n",
    "\tmae_poly = mean_absolute_error(y_test, y_pred_poly)\n",
    "\tr2_poly = r2_score(y_test, y_pred_poly)\n",
    "\n",
    "\tprint()\n",
    "\tprint(f\"[{degree}차] 다항 회귀 성능 평가:\")\n",
    "\tprint(f\"MSE: {mse_poly}\")\n",
    "\tprint(f\"RMSE: {rmse_poly}\")\n",
    "\tprint(f\"MAE: {mae_poly}\")\n",
    "\tprint(f\"r2: {r2_poly}\")"
   ]
  },
  {
   "cell_type": "markdown",
   "metadata": {},
   "source": [
    "3차 다항식에서 MSE,RMSE,MAE가 가장 낮으면서 r2-score가 가장 높음\n",
    "다만) MSE,RMSE,MAE는 0에 수렴하지 않아 아직 튜닝이 더 필요한 모델"
   ]
  },
  {
   "cell_type": "code",
   "execution_count": null,
   "metadata": {},
   "outputs": [],
   "source": []
  },
  {
   "cell_type": "code",
   "execution_count": null,
   "metadata": {},
   "outputs": [],
   "source": []
  }
 ],
 "metadata": {
  "kernelspec": {
   "display_name": "ml_38",
   "language": "python",
   "name": "python3"
  },
  "language_info": {
   "codemirror_mode": {
    "name": "ipython",
    "version": 3
   },
   "file_extension": ".py",
   "mimetype": "text/x-python",
   "name": "python",
   "nbconvert_exporter": "python",
   "pygments_lexer": "ipython3",
   "version": "3.8.19"
  }
 },
 "nbformat": 4,
 "nbformat_minor": 2
}
